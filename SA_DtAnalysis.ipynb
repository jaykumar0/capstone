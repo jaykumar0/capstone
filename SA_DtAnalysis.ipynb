{
 "cells": [
  {
   "cell_type": "code",
   "execution_count": 1,
   "metadata": {},
   "outputs": [],
   "source": [
    "import pandas as pd\n",
    "import numpy as np"
   ]
  },
  {
   "cell_type": "code",
   "execution_count": 2,
   "metadata": {},
   "outputs": [],
   "source": [
    "pd.set_option('display.float_format', '{:.2f}'.format)"
   ]
  },
  {
   "cell_type": "code",
   "execution_count": 3,
   "metadata": {},
   "outputs": [
    {
     "name": "stderr",
     "output_type": "stream",
     "text": [
      "c:\\program files\\python38\\lib\\site-packages\\IPython\\core\\interactiveshell.py:3145: DtypeWarning: Columns (8,27,32) have mixed types.Specify dtype option on import or set low_memory=False.\n",
      "  has_raised = await self.run_ast_nodes(code_ast.body, cell_name,\n"
     ]
    }
   ],
   "source": [
    "# Read the cleaned file\n",
    "df = pd.read_csv('preprocessing/SA_clean_withClusterResults.csv')"
   ]
  },
  {
   "cell_type": "code",
   "execution_count": 4,
   "metadata": {},
   "outputs": [
    {
     "data": {
      "text/plain": [
       "(61870, 49)"
      ]
     },
     "execution_count": 4,
     "metadata": {},
     "output_type": "execute_result"
    }
   ],
   "source": [
    "df.shape"
   ]
  },
  {
   "cell_type": "code",
   "execution_count": 5,
   "metadata": {},
   "outputs": [
    {
     "data": {
      "text/plain": [
       "Index(['Purch.Doc.', 'Item', 'Changed On', 'Short Text', 'Material', 'CoCd',\n",
       "       'Plnt', 'SLoc', 'Matl Group', 'PO Quantity', 'OUn', 'OPU', 'Eq. To',\n",
       "       'Net Price', 'Per', 'Net Value', 'Gross value', 'Overdel. Tol.',\n",
       "       'Underdel.Tol.', 'Item.1', 'BUn', 'Non-deductible', 'Price Date',\n",
       "       'Effective value', 'PTm', 'Net Weight', 'Un', 'Profit Ctr',\n",
       "       'Gross Weight', 'Volume', 'RShLi', 'MTyp', 'NCM Code', 'Reb.basis',\n",
       "       'Priority (Material Required Within)', 'Ordered By', 'Approved By',\n",
       "       'Priority', 'Section', 'Indenter ID', 'Input Tax Credit', 'Order_yr',\n",
       "       'Order_mnth', 'NumTimesBought', 'SumGrossValue', 'AvgPerUnitCost',\n",
       "       'Cluster_km', 'Cluster_km3', 'IsIncludedInClustering'],\n",
       "      dtype='object')"
      ]
     },
     "execution_count": 5,
     "metadata": {},
     "output_type": "execute_result"
    }
   ],
   "source": [
    "df.columns"
   ]
  },
  {
   "cell_type": "code",
   "execution_count": 6,
   "metadata": {},
   "outputs": [
    {
     "data": {
      "text/html": [
       "<div>\n",
       "<style scoped>\n",
       "    .dataframe tbody tr th:only-of-type {\n",
       "        vertical-align: middle;\n",
       "    }\n",
       "\n",
       "    .dataframe tbody tr th {\n",
       "        vertical-align: top;\n",
       "    }\n",
       "\n",
       "    .dataframe thead th {\n",
       "        text-align: right;\n",
       "    }\n",
       "</style>\n",
       "<table border=\"1\" class=\"dataframe\">\n",
       "  <thead>\n",
       "    <tr style=\"text-align: right;\">\n",
       "      <th></th>\n",
       "      <th>Purch.Doc.</th>\n",
       "      <th>Item</th>\n",
       "      <th>Changed On</th>\n",
       "      <th>Short Text</th>\n",
       "      <th>Material</th>\n",
       "      <th>CoCd</th>\n",
       "      <th>Plnt</th>\n",
       "      <th>SLoc</th>\n",
       "      <th>Matl Group</th>\n",
       "      <th>PO Quantity</th>\n",
       "      <th>...</th>\n",
       "      <th>Indenter ID</th>\n",
       "      <th>Input Tax Credit</th>\n",
       "      <th>Order_yr</th>\n",
       "      <th>Order_mnth</th>\n",
       "      <th>NumTimesBought</th>\n",
       "      <th>SumGrossValue</th>\n",
       "      <th>AvgPerUnitCost</th>\n",
       "      <th>Cluster_km</th>\n",
       "      <th>Cluster_km3</th>\n",
       "      <th>IsIncludedInClustering</th>\n",
       "    </tr>\n",
       "  </thead>\n",
       "  <tbody>\n",
       "    <tr>\n",
       "      <th>0</th>\n",
       "      <td>9200094113</td>\n",
       "      <td>10</td>\n",
       "      <td>2018-12-07</td>\n",
       "      <td>Carton Tape</td>\n",
       "      <td>800000.00</td>\n",
       "      <td>9000</td>\n",
       "      <td>9420</td>\n",
       "      <td>9106</td>\n",
       "      <td>1100</td>\n",
       "      <td>1440.00</td>\n",
       "      <td>...</td>\n",
       "      <td>54815</td>\n",
       "      <td>NaN</td>\n",
       "      <td>2018</td>\n",
       "      <td>12</td>\n",
       "      <td>9.00</td>\n",
       "      <td>346815.40</td>\n",
       "      <td>29290.65</td>\n",
       "      <td>0.00</td>\n",
       "      <td>0.00</td>\n",
       "      <td>Yes</td>\n",
       "    </tr>\n",
       "    <tr>\n",
       "      <th>1</th>\n",
       "      <td>9200094830</td>\n",
       "      <td>10</td>\n",
       "      <td>2018-12-25</td>\n",
       "      <td>Carton Tape</td>\n",
       "      <td>800000.00</td>\n",
       "      <td>9000</td>\n",
       "      <td>9420</td>\n",
       "      <td>9106</td>\n",
       "      <td>1100</td>\n",
       "      <td>1440.00</td>\n",
       "      <td>...</td>\n",
       "      <td>54815</td>\n",
       "      <td>NaN</td>\n",
       "      <td>2018</td>\n",
       "      <td>12</td>\n",
       "      <td>9.00</td>\n",
       "      <td>346815.40</td>\n",
       "      <td>29290.65</td>\n",
       "      <td>0.00</td>\n",
       "      <td>0.00</td>\n",
       "      <td>Yes</td>\n",
       "    </tr>\n",
       "    <tr>\n",
       "      <th>2</th>\n",
       "      <td>9200095489</td>\n",
       "      <td>10</td>\n",
       "      <td>2019-01-09</td>\n",
       "      <td>Carton Tape</td>\n",
       "      <td>800000.00</td>\n",
       "      <td>9000</td>\n",
       "      <td>9420</td>\n",
       "      <td>9106</td>\n",
       "      <td>1100</td>\n",
       "      <td>360.00</td>\n",
       "      <td>...</td>\n",
       "      <td>54815</td>\n",
       "      <td>NaN</td>\n",
       "      <td>2019</td>\n",
       "      <td>1</td>\n",
       "      <td>9.00</td>\n",
       "      <td>346815.40</td>\n",
       "      <td>29290.65</td>\n",
       "      <td>0.00</td>\n",
       "      <td>0.00</td>\n",
       "      <td>Yes</td>\n",
       "    </tr>\n",
       "    <tr>\n",
       "      <th>3</th>\n",
       "      <td>9200095751</td>\n",
       "      <td>10</td>\n",
       "      <td>2019-01-15</td>\n",
       "      <td>Carton Tape</td>\n",
       "      <td>800000.00</td>\n",
       "      <td>9000</td>\n",
       "      <td>9420</td>\n",
       "      <td>9106</td>\n",
       "      <td>1100</td>\n",
       "      <td>1440.00</td>\n",
       "      <td>...</td>\n",
       "      <td>54815</td>\n",
       "      <td>NaN</td>\n",
       "      <td>2019</td>\n",
       "      <td>1</td>\n",
       "      <td>9.00</td>\n",
       "      <td>346815.40</td>\n",
       "      <td>29290.65</td>\n",
       "      <td>0.00</td>\n",
       "      <td>0.00</td>\n",
       "      <td>Yes</td>\n",
       "    </tr>\n",
       "    <tr>\n",
       "      <th>4</th>\n",
       "      <td>1000007954</td>\n",
       "      <td>10</td>\n",
       "      <td>2019-01-17</td>\n",
       "      <td>Box File</td>\n",
       "      <td>800000.00</td>\n",
       "      <td>9000</td>\n",
       "      <td>9406</td>\n",
       "      <td>PRJT</td>\n",
       "      <td>1100</td>\n",
       "      <td>6.00</td>\n",
       "      <td>...</td>\n",
       "      <td>54857</td>\n",
       "      <td>T2</td>\n",
       "      <td>2019</td>\n",
       "      <td>1</td>\n",
       "      <td>6.00</td>\n",
       "      <td>17097.38</td>\n",
       "      <td>53.22</td>\n",
       "      <td>0.00</td>\n",
       "      <td>0.00</td>\n",
       "      <td>Yes</td>\n",
       "    </tr>\n",
       "  </tbody>\n",
       "</table>\n",
       "<p>5 rows × 49 columns</p>\n",
       "</div>"
      ],
      "text/plain": [
       "   Purch.Doc.  Item  Changed On   Short Text  Material  CoCd  Plnt  SLoc  \\\n",
       "0  9200094113    10  2018-12-07  Carton Tape 800000.00  9000  9420  9106   \n",
       "1  9200094830    10  2018-12-25  Carton Tape 800000.00  9000  9420  9106   \n",
       "2  9200095489    10  2019-01-09  Carton Tape 800000.00  9000  9420  9106   \n",
       "3  9200095751    10  2019-01-15  Carton Tape 800000.00  9000  9420  9106   \n",
       "4  1000007954    10  2019-01-17     Box File 800000.00  9000  9406  PRJT   \n",
       "\n",
       "  Matl Group  PO Quantity  ... Indenter ID Input Tax Credit  Order_yr  \\\n",
       "0       1100      1440.00  ...       54815              NaN      2018   \n",
       "1       1100      1440.00  ...       54815              NaN      2018   \n",
       "2       1100       360.00  ...       54815              NaN      2019   \n",
       "3       1100      1440.00  ...       54815              NaN      2019   \n",
       "4       1100         6.00  ...       54857               T2      2019   \n",
       "\n",
       "   Order_mnth  NumTimesBought  SumGrossValue  AvgPerUnitCost  Cluster_km  \\\n",
       "0          12            9.00      346815.40        29290.65        0.00   \n",
       "1          12            9.00      346815.40        29290.65        0.00   \n",
       "2           1            9.00      346815.40        29290.65        0.00   \n",
       "3           1            9.00      346815.40        29290.65        0.00   \n",
       "4           1            6.00       17097.38           53.22        0.00   \n",
       "\n",
       "   Cluster_km3  IsIncludedInClustering  \n",
       "0         0.00                     Yes  \n",
       "1         0.00                     Yes  \n",
       "2         0.00                     Yes  \n",
       "3         0.00                     Yes  \n",
       "4         0.00                     Yes  \n",
       "\n",
       "[5 rows x 49 columns]"
      ]
     },
     "execution_count": 6,
     "metadata": {},
     "output_type": "execute_result"
    }
   ],
   "source": [
    "df.head()"
   ]
  },
  {
   "cell_type": "code",
   "execution_count": 7,
   "metadata": {},
   "outputs": [
    {
     "data": {
      "text/html": [
       "<div>\n",
       "<style scoped>\n",
       "    .dataframe tbody tr th:only-of-type {\n",
       "        vertical-align: middle;\n",
       "    }\n",
       "\n",
       "    .dataframe tbody tr th {\n",
       "        vertical-align: top;\n",
       "    }\n",
       "\n",
       "    .dataframe thead th {\n",
       "        text-align: right;\n",
       "    }\n",
       "</style>\n",
       "<table border=\"1\" class=\"dataframe\">\n",
       "  <thead>\n",
       "    <tr style=\"text-align: right;\">\n",
       "      <th>Order_mnth</th>\n",
       "      <th>1</th>\n",
       "      <th>2</th>\n",
       "      <th>3</th>\n",
       "      <th>4</th>\n",
       "      <th>5</th>\n",
       "      <th>6</th>\n",
       "      <th>7</th>\n",
       "      <th>8</th>\n",
       "      <th>9</th>\n",
       "      <th>10</th>\n",
       "      <th>11</th>\n",
       "      <th>12</th>\n",
       "      <th>All</th>\n",
       "    </tr>\n",
       "    <tr>\n",
       "      <th>Order_yr</th>\n",
       "      <th></th>\n",
       "      <th></th>\n",
       "      <th></th>\n",
       "      <th></th>\n",
       "      <th></th>\n",
       "      <th></th>\n",
       "      <th></th>\n",
       "      <th></th>\n",
       "      <th></th>\n",
       "      <th></th>\n",
       "      <th></th>\n",
       "      <th></th>\n",
       "      <th></th>\n",
       "    </tr>\n",
       "  </thead>\n",
       "  <tbody>\n",
       "    <tr>\n",
       "      <th>2018</th>\n",
       "      <td>2</td>\n",
       "      <td>1</td>\n",
       "      <td>1</td>\n",
       "      <td>4</td>\n",
       "      <td>3</td>\n",
       "      <td>6</td>\n",
       "      <td>8</td>\n",
       "      <td>16</td>\n",
       "      <td>80</td>\n",
       "      <td>37</td>\n",
       "      <td>111</td>\n",
       "      <td>3782</td>\n",
       "      <td>4051</td>\n",
       "    </tr>\n",
       "    <tr>\n",
       "      <th>2019</th>\n",
       "      <td>21222</td>\n",
       "      <td>18324</td>\n",
       "      <td>17831</td>\n",
       "      <td>442</td>\n",
       "      <td>0</td>\n",
       "      <td>0</td>\n",
       "      <td>0</td>\n",
       "      <td>0</td>\n",
       "      <td>0</td>\n",
       "      <td>0</td>\n",
       "      <td>0</td>\n",
       "      <td>0</td>\n",
       "      <td>57819</td>\n",
       "    </tr>\n",
       "    <tr>\n",
       "      <th>All</th>\n",
       "      <td>21224</td>\n",
       "      <td>18325</td>\n",
       "      <td>17832</td>\n",
       "      <td>446</td>\n",
       "      <td>3</td>\n",
       "      <td>6</td>\n",
       "      <td>8</td>\n",
       "      <td>16</td>\n",
       "      <td>80</td>\n",
       "      <td>37</td>\n",
       "      <td>111</td>\n",
       "      <td>3782</td>\n",
       "      <td>61870</td>\n",
       "    </tr>\n",
       "  </tbody>\n",
       "</table>\n",
       "</div>"
      ],
      "text/plain": [
       "Order_mnth      1      2      3    4  5  6  7   8   9  10   11    12    All\n",
       "Order_yr                                                                   \n",
       "2018            2      1      1    4  3  6  8  16  80  37  111  3782   4051\n",
       "2019        21222  18324  17831  442  0  0  0   0   0   0    0     0  57819\n",
       "All         21224  18325  17832  446  3  6  8  16  80  37  111  3782  61870"
      ]
     },
     "execution_count": 7,
     "metadata": {},
     "output_type": "execute_result"
    }
   ],
   "source": [
    "pd.crosstab(df['Order_yr'],df['Order_mnth'],margins='row')"
   ]
  },
  {
   "cell_type": "markdown",
   "metadata": {},
   "source": [
    "# check for Jan data"
   ]
  },
  {
   "cell_type": "code",
   "execution_count": 8,
   "metadata": {},
   "outputs": [
    {
     "data": {
      "text/plain": [
       "(21222, 49)"
      ]
     },
     "execution_count": 8,
     "metadata": {},
     "output_type": "execute_result"
    }
   ],
   "source": [
    "df_jan = df[(df['Order_yr'] == 2019) & (df['Order_mnth'] == 1) ]\n",
    "df_jan.shape"
   ]
  },
  {
   "cell_type": "code",
   "execution_count": 9,
   "metadata": {},
   "outputs": [
    {
     "data": {
      "text/html": [
       "<div>\n",
       "<style scoped>\n",
       "    .dataframe tbody tr th:only-of-type {\n",
       "        vertical-align: middle;\n",
       "    }\n",
       "\n",
       "    .dataframe tbody tr th {\n",
       "        vertical-align: top;\n",
       "    }\n",
       "\n",
       "    .dataframe thead th {\n",
       "        text-align: right;\n",
       "    }\n",
       "</style>\n",
       "<table border=\"1\" class=\"dataframe\">\n",
       "  <thead>\n",
       "    <tr style=\"text-align: right;\">\n",
       "      <th></th>\n",
       "      <th>Purch.Doc.</th>\n",
       "      <th>Item</th>\n",
       "      <th>Changed On</th>\n",
       "      <th>Short Text</th>\n",
       "      <th>Material</th>\n",
       "      <th>CoCd</th>\n",
       "      <th>Plnt</th>\n",
       "      <th>SLoc</th>\n",
       "      <th>Matl Group</th>\n",
       "      <th>PO Quantity</th>\n",
       "      <th>...</th>\n",
       "      <th>Indenter ID</th>\n",
       "      <th>Input Tax Credit</th>\n",
       "      <th>Order_yr</th>\n",
       "      <th>Order_mnth</th>\n",
       "      <th>NumTimesBought</th>\n",
       "      <th>SumGrossValue</th>\n",
       "      <th>AvgPerUnitCost</th>\n",
       "      <th>Cluster_km</th>\n",
       "      <th>Cluster_km3</th>\n",
       "      <th>IsIncludedInClustering</th>\n",
       "    </tr>\n",
       "  </thead>\n",
       "  <tbody>\n",
       "    <tr>\n",
       "      <th>2</th>\n",
       "      <td>9200095489</td>\n",
       "      <td>10</td>\n",
       "      <td>2019-01-09</td>\n",
       "      <td>Carton Tape</td>\n",
       "      <td>800000.00</td>\n",
       "      <td>9000</td>\n",
       "      <td>9420</td>\n",
       "      <td>9106</td>\n",
       "      <td>1100</td>\n",
       "      <td>360.00</td>\n",
       "      <td>...</td>\n",
       "      <td>54815</td>\n",
       "      <td>NaN</td>\n",
       "      <td>2019</td>\n",
       "      <td>1</td>\n",
       "      <td>9.00</td>\n",
       "      <td>346815.40</td>\n",
       "      <td>29290.65</td>\n",
       "      <td>0.00</td>\n",
       "      <td>0.00</td>\n",
       "      <td>Yes</td>\n",
       "    </tr>\n",
       "    <tr>\n",
       "      <th>3</th>\n",
       "      <td>9200095751</td>\n",
       "      <td>10</td>\n",
       "      <td>2019-01-15</td>\n",
       "      <td>Carton Tape</td>\n",
       "      <td>800000.00</td>\n",
       "      <td>9000</td>\n",
       "      <td>9420</td>\n",
       "      <td>9106</td>\n",
       "      <td>1100</td>\n",
       "      <td>1440.00</td>\n",
       "      <td>...</td>\n",
       "      <td>54815</td>\n",
       "      <td>NaN</td>\n",
       "      <td>2019</td>\n",
       "      <td>1</td>\n",
       "      <td>9.00</td>\n",
       "      <td>346815.40</td>\n",
       "      <td>29290.65</td>\n",
       "      <td>0.00</td>\n",
       "      <td>0.00</td>\n",
       "      <td>Yes</td>\n",
       "    </tr>\n",
       "    <tr>\n",
       "      <th>4</th>\n",
       "      <td>1000007954</td>\n",
       "      <td>10</td>\n",
       "      <td>2019-01-17</td>\n",
       "      <td>Box File</td>\n",
       "      <td>800000.00</td>\n",
       "      <td>9000</td>\n",
       "      <td>9406</td>\n",
       "      <td>PRJT</td>\n",
       "      <td>1100</td>\n",
       "      <td>6.00</td>\n",
       "      <td>...</td>\n",
       "      <td>54857</td>\n",
       "      <td>T2</td>\n",
       "      <td>2019</td>\n",
       "      <td>1</td>\n",
       "      <td>6.00</td>\n",
       "      <td>17097.38</td>\n",
       "      <td>53.22</td>\n",
       "      <td>0.00</td>\n",
       "      <td>0.00</td>\n",
       "      <td>Yes</td>\n",
       "    </tr>\n",
       "    <tr>\n",
       "      <th>5</th>\n",
       "      <td>7500085460</td>\n",
       "      <td>10</td>\n",
       "      <td>2019-01-21</td>\n",
       "      <td>Carbon Paper</td>\n",
       "      <td>800000.00</td>\n",
       "      <td>7860</td>\n",
       "      <td>1110</td>\n",
       "      <td>F001</td>\n",
       "      <td>1100</td>\n",
       "      <td>3000.00</td>\n",
       "      <td>...</td>\n",
       "      <td>54885</td>\n",
       "      <td>T2</td>\n",
       "      <td>2019</td>\n",
       "      <td>1</td>\n",
       "      <td>2.00</td>\n",
       "      <td>4445.60</td>\n",
       "      <td>64.20</td>\n",
       "      <td>0.00</td>\n",
       "      <td>0.00</td>\n",
       "      <td>Yes</td>\n",
       "    </tr>\n",
       "    <tr>\n",
       "      <th>6</th>\n",
       "      <td>1000007969</td>\n",
       "      <td>50</td>\n",
       "      <td>2019-01-23</td>\n",
       "      <td>Box File</td>\n",
       "      <td>800000.00</td>\n",
       "      <td>9000</td>\n",
       "      <td>9406</td>\n",
       "      <td>PRJT</td>\n",
       "      <td>1100</td>\n",
       "      <td>5.00</td>\n",
       "      <td>...</td>\n",
       "      <td>54857</td>\n",
       "      <td>T2</td>\n",
       "      <td>2019</td>\n",
       "      <td>1</td>\n",
       "      <td>6.00</td>\n",
       "      <td>17097.38</td>\n",
       "      <td>53.22</td>\n",
       "      <td>0.00</td>\n",
       "      <td>0.00</td>\n",
       "      <td>Yes</td>\n",
       "    </tr>\n",
       "  </tbody>\n",
       "</table>\n",
       "<p>5 rows × 49 columns</p>\n",
       "</div>"
      ],
      "text/plain": [
       "   Purch.Doc.  Item  Changed On    Short Text  Material  CoCd  Plnt  SLoc  \\\n",
       "2  9200095489    10  2019-01-09   Carton Tape 800000.00  9000  9420  9106   \n",
       "3  9200095751    10  2019-01-15   Carton Tape 800000.00  9000  9420  9106   \n",
       "4  1000007954    10  2019-01-17      Box File 800000.00  9000  9406  PRJT   \n",
       "5  7500085460    10  2019-01-21  Carbon Paper 800000.00  7860  1110  F001   \n",
       "6  1000007969    50  2019-01-23      Box File 800000.00  9000  9406  PRJT   \n",
       "\n",
       "  Matl Group  PO Quantity  ... Indenter ID Input Tax Credit  Order_yr  \\\n",
       "2       1100       360.00  ...       54815              NaN      2019   \n",
       "3       1100      1440.00  ...       54815              NaN      2019   \n",
       "4       1100         6.00  ...       54857               T2      2019   \n",
       "5       1100      3000.00  ...       54885               T2      2019   \n",
       "6       1100         5.00  ...       54857               T2      2019   \n",
       "\n",
       "   Order_mnth  NumTimesBought  SumGrossValue  AvgPerUnitCost  Cluster_km  \\\n",
       "2           1            9.00      346815.40        29290.65        0.00   \n",
       "3           1            9.00      346815.40        29290.65        0.00   \n",
       "4           1            6.00       17097.38           53.22        0.00   \n",
       "5           1            2.00        4445.60           64.20        0.00   \n",
       "6           1            6.00       17097.38           53.22        0.00   \n",
       "\n",
       "   Cluster_km3  IsIncludedInClustering  \n",
       "2         0.00                     Yes  \n",
       "3         0.00                     Yes  \n",
       "4         0.00                     Yes  \n",
       "5         0.00                     Yes  \n",
       "6         0.00                     Yes  \n",
       "\n",
       "[5 rows x 49 columns]"
      ]
     },
     "execution_count": 9,
     "metadata": {},
     "output_type": "execute_result"
    }
   ],
   "source": [
    "df_jan.head()"
   ]
  },
  {
   "cell_type": "code",
   "execution_count": 10,
   "metadata": {},
   "outputs": [
    {
     "data": {
      "text/html": [
       "<div>\n",
       "<style scoped>\n",
       "    .dataframe tbody tr th:only-of-type {\n",
       "        vertical-align: middle;\n",
       "    }\n",
       "\n",
       "    .dataframe tbody tr th {\n",
       "        vertical-align: top;\n",
       "    }\n",
       "\n",
       "    .dataframe thead th {\n",
       "        text-align: right;\n",
       "    }\n",
       "</style>\n",
       "<table border=\"1\" class=\"dataframe\">\n",
       "  <thead>\n",
       "    <tr style=\"text-align: right;\">\n",
       "      <th></th>\n",
       "      <th>Changed On</th>\n",
       "      <th>Gross value</th>\n",
       "    </tr>\n",
       "  </thead>\n",
       "  <tbody>\n",
       "    <tr>\n",
       "      <th>0</th>\n",
       "      <td>2018-01-19</td>\n",
       "      <td>9000.00</td>\n",
       "    </tr>\n",
       "    <tr>\n",
       "      <th>1</th>\n",
       "      <td>2018-01-22</td>\n",
       "      <td>9000.00</td>\n",
       "    </tr>\n",
       "    <tr>\n",
       "      <th>2</th>\n",
       "      <td>2018-02-07</td>\n",
       "      <td>3000.00</td>\n",
       "    </tr>\n",
       "    <tr>\n",
       "      <th>3</th>\n",
       "      <td>2018-03-13</td>\n",
       "      <td>3000.00</td>\n",
       "    </tr>\n",
       "    <tr>\n",
       "      <th>4</th>\n",
       "      <td>2018-04-12</td>\n",
       "      <td>225783.00</td>\n",
       "    </tr>\n",
       "  </tbody>\n",
       "</table>\n",
       "</div>"
      ],
      "text/plain": [
       "   Changed On  Gross value\n",
       "0  2018-01-19      9000.00\n",
       "1  2018-01-22      9000.00\n",
       "2  2018-02-07      3000.00\n",
       "3  2018-03-13      3000.00\n",
       "4  2018-04-12    225783.00"
      ]
     },
     "execution_count": 10,
     "metadata": {},
     "output_type": "execute_result"
    }
   ],
   "source": [
    "df_sum = df.groupby('Changed On',as_index=False)['Gross value'].sum()\n",
    "df_sum.head()"
   ]
  },
  {
   "cell_type": "code",
   "execution_count": 11,
   "metadata": {},
   "outputs": [
    {
     "data": {
      "text/html": [
       "<div>\n",
       "<style scoped>\n",
       "    .dataframe tbody tr th:only-of-type {\n",
       "        vertical-align: middle;\n",
       "    }\n",
       "\n",
       "    .dataframe tbody tr th {\n",
       "        vertical-align: top;\n",
       "    }\n",
       "\n",
       "    .dataframe thead th {\n",
       "        text-align: right;\n",
       "    }\n",
       "</style>\n",
       "<table border=\"1\" class=\"dataframe\">\n",
       "  <thead>\n",
       "    <tr style=\"text-align: right;\">\n",
       "      <th></th>\n",
       "      <th>Changed On</th>\n",
       "      <th>Gross value</th>\n",
       "    </tr>\n",
       "  </thead>\n",
       "  <tbody>\n",
       "    <tr>\n",
       "      <th>122</th>\n",
       "      <td>2019-01-29</td>\n",
       "      <td>2538846409.66</td>\n",
       "    </tr>\n",
       "    <tr>\n",
       "      <th>157</th>\n",
       "      <td>2019-03-05</td>\n",
       "      <td>2340185598.59</td>\n",
       "    </tr>\n",
       "    <tr>\n",
       "      <th>192</th>\n",
       "      <td>2019-04-09</td>\n",
       "      <td>2186042003.63</td>\n",
       "    </tr>\n",
       "    <tr>\n",
       "      <th>116</th>\n",
       "      <td>2019-01-23</td>\n",
       "      <td>2158125623.41</td>\n",
       "    </tr>\n",
       "    <tr>\n",
       "      <th>108</th>\n",
       "      <td>2019-01-15</td>\n",
       "      <td>2086497489.82</td>\n",
       "    </tr>\n",
       "    <tr>\n",
       "      <th>182</th>\n",
       "      <td>2019-03-30</td>\n",
       "      <td>609787483.95</td>\n",
       "    </tr>\n",
       "    <tr>\n",
       "      <th>101</th>\n",
       "      <td>2019-01-08</td>\n",
       "      <td>327538085.74</td>\n",
       "    </tr>\n",
       "    <tr>\n",
       "      <th>149</th>\n",
       "      <td>2019-02-25</td>\n",
       "      <td>305628499.58</td>\n",
       "    </tr>\n",
       "    <tr>\n",
       "      <th>142</th>\n",
       "      <td>2019-02-18</td>\n",
       "      <td>262646366.66</td>\n",
       "    </tr>\n",
       "    <tr>\n",
       "      <th>107</th>\n",
       "      <td>2019-01-14</td>\n",
       "      <td>261001087.23</td>\n",
       "    </tr>\n",
       "  </tbody>\n",
       "</table>\n",
       "</div>"
      ],
      "text/plain": [
       "     Changed On   Gross value\n",
       "122  2019-01-29 2538846409.66\n",
       "157  2019-03-05 2340185598.59\n",
       "192  2019-04-09 2186042003.63\n",
       "116  2019-01-23 2158125623.41\n",
       "108  2019-01-15 2086497489.82\n",
       "182  2019-03-30  609787483.95\n",
       "101  2019-01-08  327538085.74\n",
       "149  2019-02-25  305628499.58\n",
       "142  2019-02-18  262646366.66\n",
       "107  2019-01-14  261001087.23"
      ]
     },
     "execution_count": 11,
     "metadata": {},
     "output_type": "execute_result"
    }
   ],
   "source": [
    "df_sum.nlargest(10,'Gross value')"
   ]
  },
  {
   "cell_type": "code",
   "execution_count": 12,
   "metadata": {},
   "outputs": [
    {
     "data": {
      "text/plain": [
       "245"
      ]
     },
     "execution_count": 12,
     "metadata": {},
     "output_type": "execute_result"
    }
   ],
   "source": [
    "df[df['Changed On'] == '2019-01-29']['Short Text'].nunique()"
   ]
  },
  {
   "cell_type": "code",
   "execution_count": 13,
   "metadata": {},
   "outputs": [
    {
     "data": {
      "text/plain": [
       "107"
      ]
     },
     "execution_count": 13,
     "metadata": {},
     "output_type": "execute_result"
    }
   ],
   "source": [
    "df[df['Changed On'] == '2019-03-30']['Short Text'].nunique()"
   ]
  },
  {
   "cell_type": "code",
   "execution_count": 14,
   "metadata": {},
   "outputs": [
    {
     "data": {
      "text/html": [
       "<div>\n",
       "<style scoped>\n",
       "    .dataframe tbody tr th:only-of-type {\n",
       "        vertical-align: middle;\n",
       "    }\n",
       "\n",
       "    .dataframe tbody tr th {\n",
       "        vertical-align: top;\n",
       "    }\n",
       "\n",
       "    .dataframe thead th {\n",
       "        text-align: right;\n",
       "    }\n",
       "</style>\n",
       "<table border=\"1\" class=\"dataframe\">\n",
       "  <thead>\n",
       "    <tr style=\"text-align: right;\">\n",
       "      <th></th>\n",
       "      <th>Changed On</th>\n",
       "      <th>Gross value</th>\n",
       "    </tr>\n",
       "  </thead>\n",
       "  <tbody>\n",
       "    <tr>\n",
       "      <th>0</th>\n",
       "      <td>2018-01-19</td>\n",
       "      <td>9000.00</td>\n",
       "    </tr>\n",
       "    <tr>\n",
       "      <th>1</th>\n",
       "      <td>2018-01-22</td>\n",
       "      <td>9000.00</td>\n",
       "    </tr>\n",
       "    <tr>\n",
       "      <th>2</th>\n",
       "      <td>2018-02-07</td>\n",
       "      <td>3000.00</td>\n",
       "    </tr>\n",
       "    <tr>\n",
       "      <th>3</th>\n",
       "      <td>2018-03-13</td>\n",
       "      <td>3000.00</td>\n",
       "    </tr>\n",
       "    <tr>\n",
       "      <th>4</th>\n",
       "      <td>2018-04-12</td>\n",
       "      <td>225783.00</td>\n",
       "    </tr>\n",
       "  </tbody>\n",
       "</table>\n",
       "</div>"
      ],
      "text/plain": [
       "   Changed On  Gross value\n",
       "0  2018-01-19      9000.00\n",
       "1  2018-01-22      9000.00\n",
       "2  2018-02-07      3000.00\n",
       "3  2018-03-13      3000.00\n",
       "4  2018-04-12    225783.00"
      ]
     },
     "execution_count": 14,
     "metadata": {},
     "output_type": "execute_result"
    }
   ],
   "source": [
    "df_sum.head()"
   ]
  },
  {
   "cell_type": "code",
   "execution_count": 15,
   "metadata": {},
   "outputs": [
    {
     "data": {
      "text/html": [
       "<div>\n",
       "<style scoped>\n",
       "    .dataframe tbody tr th:only-of-type {\n",
       "        vertical-align: middle;\n",
       "    }\n",
       "\n",
       "    .dataframe tbody tr th {\n",
       "        vertical-align: top;\n",
       "    }\n",
       "\n",
       "    .dataframe thead th {\n",
       "        text-align: right;\n",
       "    }\n",
       "</style>\n",
       "<table border=\"1\" class=\"dataframe\">\n",
       "  <thead>\n",
       "    <tr style=\"text-align: right;\">\n",
       "      <th></th>\n",
       "      <th>Short Text</th>\n",
       "      <th>Gross value</th>\n",
       "    </tr>\n",
       "  </thead>\n",
       "  <tbody>\n",
       "    <tr>\n",
       "      <th>25</th>\n",
       "      <td>B1 IB Ross Feed</td>\n",
       "      <td>231276347.90</td>\n",
       "    </tr>\n",
       "    <tr>\n",
       "      <th>125</th>\n",
       "      <td>IBG Common Vitamin</td>\n",
       "      <td>212000000.00</td>\n",
       "    </tr>\n",
       "    <tr>\n",
       "      <th>28</th>\n",
       "      <td>B4 IB Ross Feed</td>\n",
       "      <td>183680000.00</td>\n",
       "    </tr>\n",
       "    <tr>\n",
       "      <th>167</th>\n",
       "      <td>PL-3</td>\n",
       "      <td>177145997.60</td>\n",
       "    </tr>\n",
       "    <tr>\n",
       "      <th>168</th>\n",
       "      <td>PL-4</td>\n",
       "      <td>151303878.00</td>\n",
       "    </tr>\n",
       "    <tr>\n",
       "      <th>83</th>\n",
       "      <td>Feed P1</td>\n",
       "      <td>141515829.00</td>\n",
       "    </tr>\n",
       "    <tr>\n",
       "      <th>84</th>\n",
       "      <td>Feed PS</td>\n",
       "      <td>135200000.00</td>\n",
       "    </tr>\n",
       "    <tr>\n",
       "      <th>169</th>\n",
       "      <td>PL-5</td>\n",
       "      <td>128815548.95</td>\n",
       "    </tr>\n",
       "    <tr>\n",
       "      <th>103</th>\n",
       "      <td>Grand Parents Layer</td>\n",
       "      <td>127245000.00</td>\n",
       "    </tr>\n",
       "    <tr>\n",
       "      <th>91</th>\n",
       "      <td>GP-5 Feed</td>\n",
       "      <td>125707099.70</td>\n",
       "    </tr>\n",
       "  </tbody>\n",
       "</table>\n",
       "</div>"
      ],
      "text/plain": [
       "              Short Text  Gross value\n",
       "25       B1 IB Ross Feed 231276347.90\n",
       "125   IBG Common Vitamin 212000000.00\n",
       "28       B4 IB Ross Feed 183680000.00\n",
       "167                 PL-3 177145997.60\n",
       "168                 PL-4 151303878.00\n",
       "83               Feed P1 141515829.00\n",
       "84               Feed PS 135200000.00\n",
       "169                 PL-5 128815548.95\n",
       "103  Grand Parents Layer 127245000.00\n",
       "91             GP-5 Feed 125707099.70"
      ]
     },
     "execution_count": 15,
     "metadata": {},
     "output_type": "execute_result"
    }
   ],
   "source": [
    "dt1 = df[df['Changed On'] == '2019-01-29'].groupby('Short Text',as_index=False)['Gross value'].sum()\n",
    "dt1.nlargest(10,'Gross value')"
   ]
  },
  {
   "cell_type": "code",
   "execution_count": 16,
   "metadata": {},
   "outputs": [
    {
     "data": {
      "text/html": [
       "<div>\n",
       "<style scoped>\n",
       "    .dataframe tbody tr th:only-of-type {\n",
       "        vertical-align: middle;\n",
       "    }\n",
       "\n",
       "    .dataframe tbody tr th {\n",
       "        vertical-align: top;\n",
       "    }\n",
       "\n",
       "    .dataframe thead th {\n",
       "        text-align: right;\n",
       "    }\n",
       "</style>\n",
       "<table border=\"1\" class=\"dataframe\">\n",
       "  <thead>\n",
       "    <tr style=\"text-align: right;\">\n",
       "      <th></th>\n",
       "      <th>Short Text</th>\n",
       "      <th>Gross value</th>\n",
       "    </tr>\n",
       "  </thead>\n",
       "  <tbody>\n",
       "    <tr>\n",
       "      <th>26</th>\n",
       "      <td>B4 IB Ross Feed</td>\n",
       "      <td>228640000.00</td>\n",
       "    </tr>\n",
       "    <tr>\n",
       "      <th>174</th>\n",
       "      <td>PL-4</td>\n",
       "      <td>222120469.70</td>\n",
       "    </tr>\n",
       "    <tr>\n",
       "      <th>73</th>\n",
       "      <td>Feed P1</td>\n",
       "      <td>180180979.55</td>\n",
       "    </tr>\n",
       "    <tr>\n",
       "      <th>173</th>\n",
       "      <td>PL-3</td>\n",
       "      <td>178697430.00</td>\n",
       "    </tr>\n",
       "    <tr>\n",
       "      <th>175</th>\n",
       "      <td>PL-5</td>\n",
       "      <td>161401267.00</td>\n",
       "    </tr>\n",
       "    <tr>\n",
       "      <th>25</th>\n",
       "      <td>B3 IB Ross Feed</td>\n",
       "      <td>143343569.10</td>\n",
       "    </tr>\n",
       "    <tr>\n",
       "      <th>23</th>\n",
       "      <td>B1 IB Ross Feed</td>\n",
       "      <td>123452064.75</td>\n",
       "    </tr>\n",
       "    <tr>\n",
       "      <th>97</th>\n",
       "      <td>Grand Parents Layer</td>\n",
       "      <td>113709685.05</td>\n",
       "    </tr>\n",
       "    <tr>\n",
       "      <th>89</th>\n",
       "      <td>GP-5 Feed</td>\n",
       "      <td>110622311.80</td>\n",
       "    </tr>\n",
       "    <tr>\n",
       "      <th>74</th>\n",
       "      <td>Feed PS</td>\n",
       "      <td>96461360.60</td>\n",
       "    </tr>\n",
       "  </tbody>\n",
       "</table>\n",
       "</div>"
      ],
      "text/plain": [
       "              Short Text  Gross value\n",
       "26       B4 IB Ross Feed 228640000.00\n",
       "174                 PL-4 222120469.70\n",
       "73               Feed P1 180180979.55\n",
       "173                 PL-3 178697430.00\n",
       "175                 PL-5 161401267.00\n",
       "25       B3 IB Ross Feed 143343569.10\n",
       "23       B1 IB Ross Feed 123452064.75\n",
       "97   Grand Parents Layer 113709685.05\n",
       "89             GP-5 Feed 110622311.80\n",
       "74               Feed PS  96461360.60"
      ]
     },
     "execution_count": 16,
     "metadata": {},
     "output_type": "execute_result"
    }
   ],
   "source": [
    "dt2 = df[df['Changed On'] == '2019-03-05'].groupby('Short Text',as_index=False)['Gross value'].sum()\n",
    "dt2.nlargest(10,'Gross value')"
   ]
  },
  {
   "cell_type": "code",
   "execution_count": 17,
   "metadata": {},
   "outputs": [
    {
     "data": {
      "text/html": [
       "<div>\n",
       "<style scoped>\n",
       "    .dataframe tbody tr th:only-of-type {\n",
       "        vertical-align: middle;\n",
       "    }\n",
       "\n",
       "    .dataframe tbody tr th {\n",
       "        vertical-align: top;\n",
       "    }\n",
       "\n",
       "    .dataframe thead th {\n",
       "        text-align: right;\n",
       "    }\n",
       "</style>\n",
       "<table border=\"1\" class=\"dataframe\">\n",
       "  <thead>\n",
       "    <tr style=\"text-align: right;\">\n",
       "      <th></th>\n",
       "      <th>Short Text</th>\n",
       "      <th>Gross value</th>\n",
       "    </tr>\n",
       "  </thead>\n",
       "  <tbody>\n",
       "    <tr>\n",
       "      <th>101</th>\n",
       "      <td>Soya Crude Oil - Purchase</td>\n",
       "      <td>259217905.25</td>\n",
       "    </tr>\n",
       "    <tr>\n",
       "      <th>85</th>\n",
       "      <td>Rice Bran Crude Oil</td>\n",
       "      <td>125284018.28</td>\n",
       "    </tr>\n",
       "    <tr>\n",
       "      <th>50</th>\n",
       "      <td>IMP Degum Soya Oil</td>\n",
       "      <td>76859211.23</td>\n",
       "    </tr>\n",
       "    <tr>\n",
       "      <th>51</th>\n",
       "      <td>IMP RBD Palmolein</td>\n",
       "      <td>32856549.00</td>\n",
       "    </tr>\n",
       "    <tr>\n",
       "      <th>47</th>\n",
       "      <td>IB Ross Broiler Finisher Feed</td>\n",
       "      <td>24912477.50</td>\n",
       "    </tr>\n",
       "    <tr>\n",
       "      <th>49</th>\n",
       "      <td>IB Ross Broiler Starter Feed</td>\n",
       "      <td>21961954.00</td>\n",
       "    </tr>\n",
       "    <tr>\n",
       "      <th>48</th>\n",
       "      <td>IB Ross Broiler Pre-Starter Feed</td>\n",
       "      <td>11957194.00</td>\n",
       "    </tr>\n",
       "    <tr>\n",
       "      <th>100</th>\n",
       "      <td>Soya Bean - (MP)</td>\n",
       "      <td>11311285.36</td>\n",
       "    </tr>\n",
       "    <tr>\n",
       "      <th>56</th>\n",
       "      <td>Khandha</td>\n",
       "      <td>7603619.05</td>\n",
       "    </tr>\n",
       "    <tr>\n",
       "      <th>98</th>\n",
       "      <td>Soya Bean - (A)</td>\n",
       "      <td>6295265.65</td>\n",
       "    </tr>\n",
       "  </tbody>\n",
       "</table>\n",
       "</div>"
      ],
      "text/plain": [
       "                           Short Text  Gross value\n",
       "101         Soya Crude Oil - Purchase 259217905.25\n",
       "85                Rice Bran Crude Oil 125284018.28\n",
       "50                 IMP Degum Soya Oil  76859211.23\n",
       "51                  IMP RBD Palmolein  32856549.00\n",
       "47      IB Ross Broiler Finisher Feed  24912477.50\n",
       "49       IB Ross Broiler Starter Feed  21961954.00\n",
       "48   IB Ross Broiler Pre-Starter Feed  11957194.00\n",
       "100                  Soya Bean - (MP)  11311285.36\n",
       "56                            Khandha   7603619.05\n",
       "98                    Soya Bean - (A)   6295265.65"
      ]
     },
     "execution_count": 17,
     "metadata": {},
     "output_type": "execute_result"
    }
   ],
   "source": [
    "dt3 = df[df['Changed On'] == '2019-03-30'].groupby('Short Text',as_index=False)['Gross value'].sum()\n",
    "dt3.nlargest(10,'Gross value')"
   ]
  },
  {
   "cell_type": "markdown",
   "metadata": {},
   "source": [
    "# Check  for B1 IB Ross Feed"
   ]
  },
  {
   "cell_type": "code",
   "execution_count": 18,
   "metadata": {},
   "outputs": [
    {
     "data": {
      "text/plain": [
       "Order_mnth\n",
       "1   541907914.05\n",
       "3   123452064.75\n",
       "4   155221533.60\n",
       "Name: Gross value, dtype: float64"
      ]
     },
     "execution_count": 18,
     "metadata": {},
     "output_type": "execute_result"
    }
   ],
   "source": [
    "dt4 = df[(df['Short Text'] == 'B1 IB Ross Feed') & (df['Order_yr'] == 2019)].groupby('Order_mnth')['Gross value'].sum()\n",
    "dt4                                                 "
   ]
  },
  {
   "cell_type": "code",
   "execution_count": 19,
   "metadata": {},
   "outputs": [
    {
     "data": {
      "text/plain": [
       "Order_mnth\n",
       "1   238500000.00\n",
       "Name: Gross value, dtype: float64"
      ]
     },
     "execution_count": 19,
     "metadata": {},
     "output_type": "execute_result"
    }
   ],
   "source": [
    "dt4 = df[(df['Short Text'] == 'IBG Common Vitamin') & (df['Order_yr'] == 2019)].groupby('Order_mnth')['Gross value'].sum()\n",
    "dt4     "
   ]
  },
  {
   "cell_type": "code",
   "execution_count": 20,
   "metadata": {},
   "outputs": [
    {
     "data": {
      "text/plain": [
       "(57, 49)"
      ]
     },
     "execution_count": 20,
     "metadata": {},
     "output_type": "execute_result"
    }
   ],
   "source": [
    "dt5 = df[(df['Short Text'] == 'B1 IB Ross Feed') & (df['Order_yr'] == 2019)]\n",
    "dt5.shape"
   ]
  },
  {
   "cell_type": "code",
   "execution_count": 21,
   "metadata": {},
   "outputs": [
    {
     "data": {
      "text/plain": [
       "array(['2019-01-15', '2019-01-23', '2019-01-29', '2019-03-05',\n",
       "       '2019-04-09'], dtype=object)"
      ]
     },
     "execution_count": 21,
     "metadata": {},
     "output_type": "execute_result"
    }
   ],
   "source": [
    "dt5['Changed On'].unique()"
   ]
  },
  {
   "cell_type": "code",
   "execution_count": 22,
   "metadata": {},
   "outputs": [
    {
     "data": {
      "text/plain": [
       "(2, 49)"
      ]
     },
     "execution_count": 22,
     "metadata": {},
     "output_type": "execute_result"
    }
   ],
   "source": [
    "dt5 = df[(df['Short Text'] == 'IBG Common Vitamin') & (df['Order_yr'] == 2019)]\n",
    "dt5.shape"
   ]
  },
  {
   "cell_type": "code",
   "execution_count": 23,
   "metadata": {},
   "outputs": [
    {
     "data": {
      "text/plain": [
       "array(['2019-01-04', '2019-01-29'], dtype=object)"
      ]
     },
     "execution_count": 23,
     "metadata": {},
     "output_type": "execute_result"
    }
   ],
   "source": [
    "dt5['Changed On'].unique()"
   ]
  },
  {
   "cell_type": "code",
   "execution_count": 24,
   "metadata": {},
   "outputs": [
    {
     "data": {
      "text/html": [
       "<div>\n",
       "<style scoped>\n",
       "    .dataframe tbody tr th:only-of-type {\n",
       "        vertical-align: middle;\n",
       "    }\n",
       "\n",
       "    .dataframe tbody tr th {\n",
       "        vertical-align: top;\n",
       "    }\n",
       "\n",
       "    .dataframe thead th {\n",
       "        text-align: right;\n",
       "    }\n",
       "</style>\n",
       "<table border=\"1\" class=\"dataframe\">\n",
       "  <thead>\n",
       "    <tr style=\"text-align: right;\">\n",
       "      <th></th>\n",
       "      <th>Changed On</th>\n",
       "      <th>Gross value</th>\n",
       "    </tr>\n",
       "  </thead>\n",
       "  <tbody>\n",
       "    <tr>\n",
       "      <th>122</th>\n",
       "      <td>2019-01-29</td>\n",
       "      <td>2538846409.66</td>\n",
       "    </tr>\n",
       "    <tr>\n",
       "      <th>157</th>\n",
       "      <td>2019-03-05</td>\n",
       "      <td>2340185598.59</td>\n",
       "    </tr>\n",
       "    <tr>\n",
       "      <th>192</th>\n",
       "      <td>2019-04-09</td>\n",
       "      <td>2186042003.63</td>\n",
       "    </tr>\n",
       "    <tr>\n",
       "      <th>116</th>\n",
       "      <td>2019-01-23</td>\n",
       "      <td>2158125623.41</td>\n",
       "    </tr>\n",
       "    <tr>\n",
       "      <th>108</th>\n",
       "      <td>2019-01-15</td>\n",
       "      <td>2086497489.82</td>\n",
       "    </tr>\n",
       "    <tr>\n",
       "      <th>182</th>\n",
       "      <td>2019-03-30</td>\n",
       "      <td>609787483.95</td>\n",
       "    </tr>\n",
       "    <tr>\n",
       "      <th>101</th>\n",
       "      <td>2019-01-08</td>\n",
       "      <td>327538085.74</td>\n",
       "    </tr>\n",
       "    <tr>\n",
       "      <th>149</th>\n",
       "      <td>2019-02-25</td>\n",
       "      <td>305628499.58</td>\n",
       "    </tr>\n",
       "    <tr>\n",
       "      <th>142</th>\n",
       "      <td>2019-02-18</td>\n",
       "      <td>262646366.66</td>\n",
       "    </tr>\n",
       "    <tr>\n",
       "      <th>107</th>\n",
       "      <td>2019-01-14</td>\n",
       "      <td>261001087.23</td>\n",
       "    </tr>\n",
       "  </tbody>\n",
       "</table>\n",
       "</div>"
      ],
      "text/plain": [
       "     Changed On   Gross value\n",
       "122  2019-01-29 2538846409.66\n",
       "157  2019-03-05 2340185598.59\n",
       "192  2019-04-09 2186042003.63\n",
       "116  2019-01-23 2158125623.41\n",
       "108  2019-01-15 2086497489.82\n",
       "182  2019-03-30  609787483.95\n",
       "101  2019-01-08  327538085.74\n",
       "149  2019-02-25  305628499.58\n",
       "142  2019-02-18  262646366.66\n",
       "107  2019-01-14  261001087.23"
      ]
     },
     "execution_count": 24,
     "metadata": {},
     "output_type": "execute_result"
    }
   ],
   "source": [
    "df_sum.nlargest(10,'Gross value')"
   ]
  },
  {
   "cell_type": "code",
   "execution_count": 25,
   "metadata": {},
   "outputs": [
    {
     "data": {
      "text/html": [
       "<div>\n",
       "<style scoped>\n",
       "    .dataframe tbody tr th:only-of-type {\n",
       "        vertical-align: middle;\n",
       "    }\n",
       "\n",
       "    .dataframe tbody tr th {\n",
       "        vertical-align: top;\n",
       "    }\n",
       "\n",
       "    .dataframe thead th {\n",
       "        text-align: right;\n",
       "    }\n",
       "</style>\n",
       "<table border=\"1\" class=\"dataframe\">\n",
       "  <thead>\n",
       "    <tr style=\"text-align: right;\">\n",
       "      <th></th>\n",
       "      <th>Purch.Doc.</th>\n",
       "      <th>Item</th>\n",
       "      <th>Changed On</th>\n",
       "      <th>Short Text</th>\n",
       "      <th>Material</th>\n",
       "      <th>CoCd</th>\n",
       "      <th>Plnt</th>\n",
       "      <th>SLoc</th>\n",
       "      <th>Matl Group</th>\n",
       "      <th>PO Quantity</th>\n",
       "      <th>...</th>\n",
       "      <th>Indenter ID</th>\n",
       "      <th>Input Tax Credit</th>\n",
       "      <th>Order_yr</th>\n",
       "      <th>Order_mnth</th>\n",
       "      <th>NumTimesBought</th>\n",
       "      <th>SumGrossValue</th>\n",
       "      <th>AvgPerUnitCost</th>\n",
       "      <th>Cluster_km</th>\n",
       "      <th>Cluster_km3</th>\n",
       "      <th>IsIncludedInClustering</th>\n",
       "    </tr>\n",
       "  </thead>\n",
       "  <tbody>\n",
       "    <tr>\n",
       "      <th>27814</th>\n",
       "      <td>9200095235</td>\n",
       "      <td>10</td>\n",
       "      <td>2019-01-04</td>\n",
       "      <td>IBG Common Vitamin</td>\n",
       "      <td>920850.00</td>\n",
       "      <td>9000</td>\n",
       "      <td>9402</td>\n",
       "      <td>9106</td>\n",
       "      <td>2209</td>\n",
       "      <td>20000.00</td>\n",
       "      <td>...</td>\n",
       "      <td>54822</td>\n",
       "      <td>NG</td>\n",
       "      <td>2019</td>\n",
       "      <td>1</td>\n",
       "      <td>3.00</td>\n",
       "      <td>243225000.00</td>\n",
       "      <td>1408.33</td>\n",
       "      <td>0.00</td>\n",
       "      <td>0.00</td>\n",
       "      <td>Yes</td>\n",
       "    </tr>\n",
       "    <tr>\n",
       "      <th>27815</th>\n",
       "      <td>9200090862</td>\n",
       "      <td>10</td>\n",
       "      <td>2019-01-29</td>\n",
       "      <td>IBG Common Vitamin</td>\n",
       "      <td>920850.00</td>\n",
       "      <td>9000</td>\n",
       "      <td>9402</td>\n",
       "      <td>9106</td>\n",
       "      <td>2209</td>\n",
       "      <td>160000.00</td>\n",
       "      <td>...</td>\n",
       "      <td>54876</td>\n",
       "      <td>NaN</td>\n",
       "      <td>2019</td>\n",
       "      <td>1</td>\n",
       "      <td>3.00</td>\n",
       "      <td>243225000.00</td>\n",
       "      <td>1408.33</td>\n",
       "      <td>0.00</td>\n",
       "      <td>0.00</td>\n",
       "      <td>Yes</td>\n",
       "    </tr>\n",
       "  </tbody>\n",
       "</table>\n",
       "<p>2 rows × 49 columns</p>\n",
       "</div>"
      ],
      "text/plain": [
       "       Purch.Doc.  Item  Changed On          Short Text  Material  CoCd  Plnt  \\\n",
       "27814  9200095235    10  2019-01-04  IBG Common Vitamin 920850.00  9000  9402   \n",
       "27815  9200090862    10  2019-01-29  IBG Common Vitamin 920850.00  9000  9402   \n",
       "\n",
       "       SLoc Matl Group  PO Quantity  ... Indenter ID Input Tax Credit  \\\n",
       "27814  9106       2209     20000.00  ...       54822               NG   \n",
       "27815  9106       2209    160000.00  ...       54876              NaN   \n",
       "\n",
       "       Order_yr  Order_mnth  NumTimesBought  SumGrossValue  AvgPerUnitCost  \\\n",
       "27814      2019           1            3.00   243225000.00         1408.33   \n",
       "27815      2019           1            3.00   243225000.00         1408.33   \n",
       "\n",
       "       Cluster_km  Cluster_km3  IsIncludedInClustering  \n",
       "27814        0.00         0.00                     Yes  \n",
       "27815        0.00         0.00                     Yes  \n",
       "\n",
       "[2 rows x 49 columns]"
      ]
     },
     "execution_count": 25,
     "metadata": {},
     "output_type": "execute_result"
    }
   ],
   "source": [
    "dt5"
   ]
  },
  {
   "cell_type": "markdown",
   "metadata": {},
   "source": [
    "# How much do they buy for the most bought material"
   ]
  },
  {
   "cell_type": "code",
   "execution_count": 26,
   "metadata": {},
   "outputs": [
    {
     "data": {
      "text/plain": [
       "Order_mnth\n",
       "1   822027774.70\n",
       "2   791427794.80\n",
       "3   840746559.00\n",
       "4    26049444.88\n",
       "Name: Gross value, dtype: float64"
      ]
     },
     "execution_count": 26,
     "metadata": {},
     "output_type": "execute_result"
    }
   ],
   "source": [
    "df[(df['Order_yr'] == 2019) & (df['Short Text'] == 'IB Ross Broiler Finisher Feed')].groupby('Order_mnth')['Gross value'].sum()"
   ]
  },
  {
   "cell_type": "code",
   "execution_count": 27,
   "metadata": {},
   "outputs": [
    {
     "data": {
      "text/plain": [
       "Order_mnth\n",
       "1   602549009.00\n",
       "2   589449642.00\n",
       "3   616486157.50\n",
       "4    22260000.00\n",
       "Name: Gross value, dtype: float64"
      ]
     },
     "execution_count": 27,
     "metadata": {},
     "output_type": "execute_result"
    }
   ],
   "source": [
    "df[(df['Order_yr'] == 2019) & (df['Short Text'] == 'IB Ross Broiler Starter Feed')].groupby('Order_mnth')['Gross value'].sum()"
   ]
  },
  {
   "cell_type": "code",
   "execution_count": 28,
   "metadata": {},
   "outputs": [
    {
     "data": {
      "text/plain": [
       "Order_mnth\n",
       "1   288407179.50\n",
       "2   280386090.50\n",
       "3   299295922.00\n",
       "4    12265500.00\n",
       "Name: Gross value, dtype: float64"
      ]
     },
     "execution_count": 28,
     "metadata": {},
     "output_type": "execute_result"
    }
   ],
   "source": [
    "df[(df['Order_yr'] == 2019) & (df['Short Text'] == 'IB Ross Broiler Pre-Starter Feed')].groupby('Order_mnth')['Gross value'].sum()"
   ]
  },
  {
   "cell_type": "code",
   "execution_count": 29,
   "metadata": {},
   "outputs": [
    {
     "data": {
      "text/plain": [
       "Order_mnth\n",
       "1   599920000.00\n",
       "3   228640000.00\n",
       "4   225520000.00\n",
       "Name: Gross value, dtype: float64"
      ]
     },
     "execution_count": 29,
     "metadata": {},
     "output_type": "execute_result"
    }
   ],
   "source": [
    "df[(df['Order_yr'] == 2019) & (df['Short Text'] == 'B4 IB Ross Feed')].groupby('Order_mnth')['Gross value'].sum()"
   ]
  },
  {
   "cell_type": "code",
   "execution_count": 30,
   "metadata": {},
   "outputs": [
    {
     "data": {
      "text/plain": [
       "Order_mnth\n",
       "1   541907914.05\n",
       "3   123452064.75\n",
       "4   155221533.60\n",
       "Name: Gross value, dtype: float64"
      ]
     },
     "execution_count": 30,
     "metadata": {},
     "output_type": "execute_result"
    }
   ],
   "source": [
    "df[(df['Order_yr'] == 2019) & (df['Short Text'] == 'B1 IB Ross Feed')].groupby('Order_mnth')['Gross value'].sum()"
   ]
  },
  {
   "cell_type": "code",
   "execution_count": 31,
   "metadata": {},
   "outputs": [
    {
     "data": {
      "text/plain": [
       "Order_mnth\n",
       "1   238500000.00\n",
       "Name: Gross value, dtype: float64"
      ]
     },
     "execution_count": 31,
     "metadata": {},
     "output_type": "execute_result"
    }
   ],
   "source": [
    "df[(df['Order_yr'] == 2019) & (df['Short Text'] == 'IBG Common Vitamin')].groupby('Order_mnth')['Gross value'].sum()"
   ]
  },
  {
   "cell_type": "markdown",
   "metadata": {},
   "source": [
    "# For 2019 Month wise ...why Jan is more"
   ]
  },
  {
   "cell_type": "code",
   "execution_count": 32,
   "metadata": {},
   "outputs": [
    {
     "data": {
      "text/plain": [
       "Order_mnth\n",
       "1   10635933454.66\n",
       "2    3778603220.01\n",
       "3    6380991448.72\n",
       "4    2328193986.10\n",
       "Name: Gross value, dtype: float64"
      ]
     },
     "execution_count": 32,
     "metadata": {},
     "output_type": "execute_result"
    }
   ],
   "source": [
    "df[df['Order_yr'] == 2019].groupby('Order_mnth')['Gross value'].sum()"
   ]
  },
  {
   "cell_type": "markdown",
   "metadata": {},
   "source": [
    "# Explore on assets or Services"
   ]
  },
  {
   "cell_type": "code",
   "execution_count": 33,
   "metadata": {},
   "outputs": [
    {
     "data": {
      "text/html": [
       "<div>\n",
       "<style scoped>\n",
       "    .dataframe tbody tr th:only-of-type {\n",
       "        vertical-align: middle;\n",
       "    }\n",
       "\n",
       "    .dataframe tbody tr th {\n",
       "        vertical-align: top;\n",
       "    }\n",
       "\n",
       "    .dataframe thead th {\n",
       "        text-align: right;\n",
       "    }\n",
       "</style>\n",
       "<table border=\"1\" class=\"dataframe\">\n",
       "  <thead>\n",
       "    <tr style=\"text-align: right;\">\n",
       "      <th></th>\n",
       "      <th>Order_mnth</th>\n",
       "      <th>Matl Group</th>\n",
       "      <th>Gross value</th>\n",
       "    </tr>\n",
       "  </thead>\n",
       "  <tbody>\n",
       "    <tr>\n",
       "      <th>0</th>\n",
       "      <td>1</td>\n",
       "      <td>1341</td>\n",
       "      <td>115551.50</td>\n",
       "    </tr>\n",
       "    <tr>\n",
       "      <th>1</th>\n",
       "      <td>1</td>\n",
       "      <td>1401</td>\n",
       "      <td>731250.00</td>\n",
       "    </tr>\n",
       "    <tr>\n",
       "      <th>2</th>\n",
       "      <td>1</td>\n",
       "      <td>1403</td>\n",
       "      <td>1854489.30</td>\n",
       "    </tr>\n",
       "    <tr>\n",
       "      <th>3</th>\n",
       "      <td>1</td>\n",
       "      <td>1404</td>\n",
       "      <td>88000.00</td>\n",
       "    </tr>\n",
       "    <tr>\n",
       "      <th>4</th>\n",
       "      <td>1</td>\n",
       "      <td>1405</td>\n",
       "      <td>15290744.40</td>\n",
       "    </tr>\n",
       "  </tbody>\n",
       "</table>\n",
       "</div>"
      ],
      "text/plain": [
       "   Order_mnth Matl Group  Gross value\n",
       "0           1       1341    115551.50\n",
       "1           1       1401    731250.00\n",
       "2           1       1403   1854489.30\n",
       "3           1       1404     88000.00\n",
       "4           1       1405  15290744.40"
      ]
     },
     "execution_count": 33,
     "metadata": {},
     "output_type": "execute_result"
    }
   ],
   "source": [
    "df_sum = df[df['Order_yr'] == 2019].groupby(['Order_mnth','Matl Group'],as_index=False)['Gross value'].sum()\n",
    "df_sum.head()"
   ]
  },
  {
   "cell_type": "code",
   "execution_count": 34,
   "metadata": {},
   "outputs": [
    {
     "data": {
      "text/html": [
       "<div>\n",
       "<style scoped>\n",
       "    .dataframe tbody tr th:only-of-type {\n",
       "        vertical-align: middle;\n",
       "    }\n",
       "\n",
       "    .dataframe tbody tr th {\n",
       "        vertical-align: top;\n",
       "    }\n",
       "\n",
       "    .dataframe thead th {\n",
       "        text-align: right;\n",
       "    }\n",
       "</style>\n",
       "<table border=\"1\" class=\"dataframe\">\n",
       "  <thead>\n",
       "    <tr style=\"text-align: right;\">\n",
       "      <th></th>\n",
       "      <th>Order_mnth</th>\n",
       "      <th>Matl Group</th>\n",
       "      <th>Gross value</th>\n",
       "    </tr>\n",
       "  </thead>\n",
       "  <tbody>\n",
       "    <tr>\n",
       "      <th>139</th>\n",
       "      <td>1</td>\n",
       "      <td>ASSETS</td>\n",
       "      <td>30684622.63</td>\n",
       "    </tr>\n",
       "    <tr>\n",
       "      <th>278</th>\n",
       "      <td>2</td>\n",
       "      <td>ASSETS</td>\n",
       "      <td>19121900.55</td>\n",
       "    </tr>\n",
       "    <tr>\n",
       "      <th>416</th>\n",
       "      <td>3</td>\n",
       "      <td>ASSETS</td>\n",
       "      <td>18851902.44</td>\n",
       "    </tr>\n",
       "    <tr>\n",
       "      <th>472</th>\n",
       "      <td>4</td>\n",
       "      <td>ASSETS</td>\n",
       "      <td>17411363.20</td>\n",
       "    </tr>\n",
       "  </tbody>\n",
       "</table>\n",
       "</div>"
      ],
      "text/plain": [
       "     Order_mnth Matl Group  Gross value\n",
       "139           1     ASSETS  30684622.63\n",
       "278           2     ASSETS  19121900.55\n",
       "416           3     ASSETS  18851902.44\n",
       "472           4     ASSETS  17411363.20"
      ]
     },
     "execution_count": 34,
     "metadata": {},
     "output_type": "execute_result"
    }
   ],
   "source": [
    "df_sum[df_sum['Matl Group'] == 'ASSETS']"
   ]
  },
  {
   "cell_type": "code",
   "execution_count": 35,
   "metadata": {},
   "outputs": [
    {
     "data": {
      "text/html": [
       "<div>\n",
       "<style scoped>\n",
       "    .dataframe tbody tr th:only-of-type {\n",
       "        vertical-align: middle;\n",
       "    }\n",
       "\n",
       "    .dataframe tbody tr th {\n",
       "        vertical-align: top;\n",
       "    }\n",
       "\n",
       "    .dataframe thead th {\n",
       "        text-align: right;\n",
       "    }\n",
       "</style>\n",
       "<table border=\"1\" class=\"dataframe\">\n",
       "  <thead>\n",
       "    <tr style=\"text-align: right;\">\n",
       "      <th></th>\n",
       "      <th>Order_mnth</th>\n",
       "      <th>Matl Group</th>\n",
       "      <th>Gross value</th>\n",
       "    </tr>\n",
       "  </thead>\n",
       "  <tbody>\n",
       "    <tr>\n",
       "      <th>142</th>\n",
       "      <td>1</td>\n",
       "      <td>SERVICE</td>\n",
       "      <td>17602660.57</td>\n",
       "    </tr>\n",
       "    <tr>\n",
       "      <th>281</th>\n",
       "      <td>2</td>\n",
       "      <td>SERVICE</td>\n",
       "      <td>35751360.50</td>\n",
       "    </tr>\n",
       "    <tr>\n",
       "      <th>419</th>\n",
       "      <td>3</td>\n",
       "      <td>SERVICE</td>\n",
       "      <td>18177258.75</td>\n",
       "    </tr>\n",
       "    <tr>\n",
       "      <th>473</th>\n",
       "      <td>4</td>\n",
       "      <td>SERVICE</td>\n",
       "      <td>81960.00</td>\n",
       "    </tr>\n",
       "  </tbody>\n",
       "</table>\n",
       "</div>"
      ],
      "text/plain": [
       "     Order_mnth Matl Group  Gross value\n",
       "142           1    SERVICE  17602660.57\n",
       "281           2    SERVICE  35751360.50\n",
       "419           3    SERVICE  18177258.75\n",
       "473           4    SERVICE     81960.00"
      ]
     },
     "execution_count": 35,
     "metadata": {},
     "output_type": "execute_result"
    }
   ],
   "source": [
    "df_sum[df_sum['Matl Group'] == 'SERVICE']"
   ]
  },
  {
   "cell_type": "code",
   "execution_count": null,
   "metadata": {},
   "outputs": [],
   "source": []
  }
 ],
 "metadata": {
  "kernelspec": {
   "display_name": "Python 3",
   "language": "python",
   "name": "python3"
  },
  "language_info": {
   "codemirror_mode": {
    "name": "ipython",
    "version": 3
   },
   "file_extension": ".py",
   "mimetype": "text/x-python",
   "name": "python",
   "nbconvert_exporter": "python",
   "pygments_lexer": "ipython3",
   "version": "3.8.2"
  }
 },
 "nbformat": 4,
 "nbformat_minor": 4
}
