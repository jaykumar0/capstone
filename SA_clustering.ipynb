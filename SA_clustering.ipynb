{
 "cells": [
  {
   "cell_type": "code",
   "execution_count": 1,
   "metadata": {},
   "outputs": [],
   "source": [
    "import pandas as pd\n",
    "import numpy as np\n",
    "\n",
    "import matplotlib.pyplot as plt\n",
    "import seaborn as sns\n",
    "\n",
    "from sklearn.cluster import KMeans\n",
    "from sklearn.cluster import AgglomerativeClustering\n",
    "from scipy.cluster.hierarchy import dendrogram\n",
    "\n",
    "from sklearn import preprocessing"
   ]
  },
  {
   "cell_type": "code",
   "execution_count": 2,
   "metadata": {},
   "outputs": [],
   "source": [
    "pd.set_option('display.float_format', '{:.2f}'.format)"
   ]
  },
  {
   "cell_type": "code",
   "execution_count": 3,
   "metadata": {},
   "outputs": [
    {
     "name": "stderr",
     "output_type": "stream",
     "text": [
      "c:\\program files\\python38\\lib\\site-packages\\IPython\\core\\interactiveshell.py:3145: DtypeWarning: Columns (27,32) have mixed types.Specify dtype option on import or set low_memory=False.\n",
      "  has_raised = await self.run_ast_nodes(code_ast.body, cell_name,\n"
     ]
    },
    {
     "data": {
      "text/plain": [
       "(61870, 43)"
      ]
     },
     "execution_count": 3,
     "metadata": {},
     "output_type": "execute_result"
    }
   ],
   "source": [
    "# Read the cleaned file\n",
    "df = pd.read_csv('preprocessing/SA_clean.csv')\n",
    "df.shape"
   ]
  },
  {
   "cell_type": "code",
   "execution_count": 4,
   "metadata": {},
   "outputs": [
    {
     "data": {
      "text/plain": [
       "Index(['Purch.Doc.', 'Item', 'Changed On', 'Short Text', 'Material', 'CoCd',\n",
       "       'Plnt', 'SLoc', 'Matl Group', 'PO Quantity', 'OUn', 'OPU', 'Eq. To',\n",
       "       'Net Price', 'Per', 'Net Value', 'Gross value', 'Overdel. Tol.',\n",
       "       'Underdel.Tol.', 'Item.1', 'BUn', 'Non-deductible', 'Price Date',\n",
       "       'Effective value', 'PTm', 'Net Weight', 'Un', 'Profit Ctr',\n",
       "       'Gross Weight', 'Volume', 'RShLi', 'MTyp', 'NCM Code', 'Reb.basis',\n",
       "       'Priority (Material Required Within)', 'Ordered By', 'Approved By',\n",
       "       'Priority', 'Section', 'Indenter ID', 'Input Tax Credit', 'Order_yr',\n",
       "       'Order_mnth'],\n",
       "      dtype='object')"
      ]
     },
     "execution_count": 4,
     "metadata": {},
     "output_type": "execute_result"
    }
   ],
   "source": [
    "df.columns"
   ]
  },
  {
   "cell_type": "code",
   "execution_count": 5,
   "metadata": {},
   "outputs": [
    {
     "data": {
      "text/plain": [
       "2019   0.93\n",
       "2018   0.07\n",
       "Name: Order_yr, dtype: float64"
      ]
     },
     "execution_count": 5,
     "metadata": {},
     "output_type": "execute_result"
    }
   ],
   "source": [
    "df['Order_yr'].value_counts(normalize=True)"
   ]
  },
  {
   "cell_type": "markdown",
   "metadata": {},
   "source": [
    "# Remove Material Group not required for clustering - ASSETS and SERVICES\n",
    "Focussing on feed related items"
   ]
  },
  {
   "cell_type": "code",
   "execution_count": 6,
   "metadata": {},
   "outputs": [
    {
     "data": {
      "text/plain": [
       "['ASSETS', 'SERVICE']"
      ]
     },
     "execution_count": 6,
     "metadata": {},
     "output_type": "execute_result"
    }
   ],
   "source": [
    "# The objctive is to find some pattern in the items bought, so remove assets and services and Fuel2 Fuel 1, GNRL0\n",
    "#matlGrp = ['ASSETS','SERVICE','GNRL0','FUEL1','FUEL2']\n",
    "matlGrp = ['ASSETS','SERVICE']\n",
    "matlGrp"
   ]
  },
  {
   "cell_type": "code",
   "execution_count": 7,
   "metadata": {},
   "outputs": [
    {
     "data": {
      "text/plain": [
       "(1851, 43)"
      ]
     },
     "execution_count": 7,
     "metadata": {},
     "output_type": "execute_result"
    }
   ],
   "source": [
    "df[df['Matl Group'].isin(matlGrp)].shape"
   ]
  },
  {
   "cell_type": "code",
   "execution_count": 8,
   "metadata": {},
   "outputs": [
    {
     "data": {
      "text/plain": [
       "243092547.11"
      ]
     },
     "execution_count": 8,
     "metadata": {},
     "output_type": "execute_result"
    }
   ],
   "source": [
    "df[df['Matl Group'].isin(matlGrp)]['Gross value'].sum()"
   ]
  },
  {
   "cell_type": "code",
   "execution_count": 9,
   "metadata": {},
   "outputs": [
    {
     "data": {
      "text/plain": [
       "2019   0.83\n",
       "2018   0.17\n",
       "Name: Order_yr, dtype: float64"
      ]
     },
     "execution_count": 9,
     "metadata": {},
     "output_type": "execute_result"
    }
   ],
   "source": [
    "df[df['Matl Group'].isin(matlGrp)]['Order_yr'].value_counts(normalize=True)"
   ]
  },
  {
   "cell_type": "code",
   "execution_count": 10,
   "metadata": {},
   "outputs": [
    {
     "data": {
      "text/plain": [
       "(61870, 43)"
      ]
     },
     "execution_count": 10,
     "metadata": {},
     "output_type": "execute_result"
    }
   ],
   "source": [
    "df.shape"
   ]
  },
  {
   "cell_type": "code",
   "execution_count": 11,
   "metadata": {},
   "outputs": [
    {
     "data": {
      "text/plain": [
       "(60019, 43)"
      ]
     },
     "execution_count": 11,
     "metadata": {},
     "output_type": "execute_result"
    }
   ],
   "source": [
    "df_cluster = df[~df['Matl Group'].isin(matlGrp)]\n",
    "df_cluster.shape"
   ]
  },
  {
   "cell_type": "code",
   "execution_count": 12,
   "metadata": {},
   "outputs": [],
   "source": [
    "# Get all Mat code with Bolero and remove them too "
   ]
  },
  {
   "cell_type": "code",
   "execution_count": 13,
   "metadata": {},
   "outputs": [
    {
     "data": {
      "text/plain": [
       "(46, 43)"
      ]
     },
     "execution_count": 13,
     "metadata": {},
     "output_type": "execute_result"
    }
   ],
   "source": [
    "df_cluster[df_cluster['Short Text'].str.contains('Bolero')].shape"
   ]
  },
  {
   "cell_type": "code",
   "execution_count": 14,
   "metadata": {},
   "outputs": [
    {
     "data": {
      "text/html": [
       "<div>\n",
       "<style scoped>\n",
       "    .dataframe tbody tr th:only-of-type {\n",
       "        vertical-align: middle;\n",
       "    }\n",
       "\n",
       "    .dataframe tbody tr th {\n",
       "        vertical-align: top;\n",
       "    }\n",
       "\n",
       "    .dataframe thead th {\n",
       "        text-align: right;\n",
       "    }\n",
       "</style>\n",
       "<table border=\"1\" class=\"dataframe\">\n",
       "  <thead>\n",
       "    <tr style=\"text-align: right;\">\n",
       "      <th></th>\n",
       "      <th>Purch.Doc.</th>\n",
       "      <th>Item</th>\n",
       "      <th>Changed On</th>\n",
       "      <th>Short Text</th>\n",
       "      <th>Material</th>\n",
       "      <th>CoCd</th>\n",
       "      <th>Plnt</th>\n",
       "      <th>SLoc</th>\n",
       "      <th>Matl Group</th>\n",
       "      <th>PO Quantity</th>\n",
       "      <th>...</th>\n",
       "      <th>Reb.basis</th>\n",
       "      <th>Priority (Material Required Within)</th>\n",
       "      <th>Ordered By</th>\n",
       "      <th>Approved By</th>\n",
       "      <th>Priority</th>\n",
       "      <th>Section</th>\n",
       "      <th>Indenter ID</th>\n",
       "      <th>Input Tax Credit</th>\n",
       "      <th>Order_yr</th>\n",
       "      <th>Order_mnth</th>\n",
       "    </tr>\n",
       "  </thead>\n",
       "  <tbody>\n",
       "    <tr>\n",
       "      <th>11813</th>\n",
       "      <td>7500085034</td>\n",
       "      <td>10</td>\n",
       "      <td>2019-01-08</td>\n",
       "      <td>0084777 Kamani Bush M-Bolero</td>\n",
       "      <td>7706350.00</td>\n",
       "      <td>7860</td>\n",
       "      <td>1950</td>\n",
       "      <td>BK03</td>\n",
       "      <td>9911</td>\n",
       "      <td>4.00</td>\n",
       "      <td>...</td>\n",
       "      <td>520.00</td>\n",
       "      <td>1</td>\n",
       "      <td>54639</td>\n",
       "      <td>54651</td>\n",
       "      <td>High</td>\n",
       "      <td>Bakal</td>\n",
       "      <td>54651</td>\n",
       "      <td>T4</td>\n",
       "      <td>2019</td>\n",
       "      <td>1</td>\n",
       "    </tr>\n",
       "    <tr>\n",
       "      <th>12085</th>\n",
       "      <td>7500085273</td>\n",
       "      <td>10</td>\n",
       "      <td>2019-01-15</td>\n",
       "      <td>028346CED Frt.Center Bonnet Assy Bolero</td>\n",
       "      <td>7708300.00</td>\n",
       "      <td>7860</td>\n",
       "      <td>1950</td>\n",
       "      <td>BK03</td>\n",
       "      <td>9903</td>\n",
       "      <td>1.00</td>\n",
       "      <td>...</td>\n",
       "      <td>5485.96</td>\n",
       "      <td>1</td>\n",
       "      <td>54639</td>\n",
       "      <td>54651</td>\n",
       "      <td>High</td>\n",
       "      <td>Bakal</td>\n",
       "      <td>54651</td>\n",
       "      <td>T4</td>\n",
       "      <td>2019</td>\n",
       "      <td>1</td>\n",
       "    </tr>\n",
       "    <tr>\n",
       "      <th>12086</th>\n",
       "      <td>7500085273</td>\n",
       "      <td>20</td>\n",
       "      <td>2019-01-15</td>\n",
       "      <td>0119AAN01210A Frt Bumper Assy MTL Bolero</td>\n",
       "      <td>7708300.00</td>\n",
       "      <td>7860</td>\n",
       "      <td>1950</td>\n",
       "      <td>BK03</td>\n",
       "      <td>9903</td>\n",
       "      <td>1.00</td>\n",
       "      <td>...</td>\n",
       "      <td>3286.35</td>\n",
       "      <td>0</td>\n",
       "      <td>0</td>\n",
       "      <td>0</td>\n",
       "      <td>Normal</td>\n",
       "      <td>0</td>\n",
       "      <td>0</td>\n",
       "      <td>T4</td>\n",
       "      <td>2019</td>\n",
       "      <td>1</td>\n",
       "    </tr>\n",
       "    <tr>\n",
       "      <th>12087</th>\n",
       "      <td>7500085273</td>\n",
       "      <td>30</td>\n",
       "      <td>2019-01-15</td>\n",
       "      <td>0028334 Frt.Bonnet Hings Kabja RH Bolero</td>\n",
       "      <td>7708300.00</td>\n",
       "      <td>7860</td>\n",
       "      <td>1950</td>\n",
       "      <td>BK03</td>\n",
       "      <td>9903</td>\n",
       "      <td>1.00</td>\n",
       "      <td>...</td>\n",
       "      <td>2304.80</td>\n",
       "      <td>0</td>\n",
       "      <td>0</td>\n",
       "      <td>0</td>\n",
       "      <td>Normal</td>\n",
       "      <td>0</td>\n",
       "      <td>0</td>\n",
       "      <td>T4</td>\n",
       "      <td>2019</td>\n",
       "      <td>1</td>\n",
       "    </tr>\n",
       "    <tr>\n",
       "      <th>12088</th>\n",
       "      <td>7500085273</td>\n",
       "      <td>40</td>\n",
       "      <td>2019-01-15</td>\n",
       "      <td>0028330 Frt.Bonnet Hings Kabja LH Bolero</td>\n",
       "      <td>7708300.00</td>\n",
       "      <td>7860</td>\n",
       "      <td>1950</td>\n",
       "      <td>BK03</td>\n",
       "      <td>9903</td>\n",
       "      <td>1.00</td>\n",
       "      <td>...</td>\n",
       "      <td>481.73</td>\n",
       "      <td>0</td>\n",
       "      <td>0</td>\n",
       "      <td>0</td>\n",
       "      <td>Normal</td>\n",
       "      <td>0</td>\n",
       "      <td>0</td>\n",
       "      <td>T4</td>\n",
       "      <td>2019</td>\n",
       "      <td>1</td>\n",
       "    </tr>\n",
       "    <tr>\n",
       "      <th>12089</th>\n",
       "      <td>7500085273</td>\n",
       "      <td>50</td>\n",
       "      <td>2019-01-15</td>\n",
       "      <td>0102CN0560A Fender Assy MTL RH M-Bolero</td>\n",
       "      <td>7708300.00</td>\n",
       "      <td>7860</td>\n",
       "      <td>1950</td>\n",
       "      <td>BK03</td>\n",
       "      <td>9903</td>\n",
       "      <td>1.00</td>\n",
       "      <td>...</td>\n",
       "      <td>481.73</td>\n",
       "      <td>0</td>\n",
       "      <td>0</td>\n",
       "      <td>0</td>\n",
       "      <td>Normal</td>\n",
       "      <td>0</td>\n",
       "      <td>0</td>\n",
       "      <td>T4</td>\n",
       "      <td>2019</td>\n",
       "      <td>1</td>\n",
       "    </tr>\n",
       "    <tr>\n",
       "      <th>12530</th>\n",
       "      <td>7500085644</td>\n",
       "      <td>10</td>\n",
       "      <td>2019-01-29</td>\n",
       "      <td>0116CN0020N Wiper Water Tank M-Bolero</td>\n",
       "      <td>7708350.00</td>\n",
       "      <td>7860</td>\n",
       "      <td>1950</td>\n",
       "      <td>BK03</td>\n",
       "      <td>9903</td>\n",
       "      <td>2.00</td>\n",
       "      <td>...</td>\n",
       "      <td>1632.96</td>\n",
       "      <td>1</td>\n",
       "      <td>54639</td>\n",
       "      <td>54651</td>\n",
       "      <td>High</td>\n",
       "      <td>Bakal</td>\n",
       "      <td>54651</td>\n",
       "      <td>T4</td>\n",
       "      <td>2019</td>\n",
       "      <td>1</td>\n",
       "    </tr>\n",
       "    <tr>\n",
       "      <th>26947</th>\n",
       "      <td>7500085806</td>\n",
       "      <td>30</td>\n",
       "      <td>2019-02-04</td>\n",
       "      <td>Balence Rod (U Clamp) Patti M-Bolero</td>\n",
       "      <td>7708310.00</td>\n",
       "      <td>7860</td>\n",
       "      <td>1950</td>\n",
       "      <td>BK03</td>\n",
       "      <td>9911</td>\n",
       "      <td>10.00</td>\n",
       "      <td>...</td>\n",
       "      <td>324.00</td>\n",
       "      <td>0</td>\n",
       "      <td>0</td>\n",
       "      <td>0</td>\n",
       "      <td>Normal</td>\n",
       "      <td>0</td>\n",
       "      <td>0</td>\n",
       "      <td>T4</td>\n",
       "      <td>2019</td>\n",
       "      <td>2</td>\n",
       "    </tr>\n",
       "    <tr>\n",
       "      <th>27120</th>\n",
       "      <td>7500085929</td>\n",
       "      <td>40</td>\n",
       "      <td>2019-02-08</td>\n",
       "      <td>F002G20886-4AR Brush Gear Assy M-Bolero</td>\n",
       "      <td>7706920.00</td>\n",
       "      <td>7860</td>\n",
       "      <td>1950</td>\n",
       "      <td>BK03</td>\n",
       "      <td>9905</td>\n",
       "      <td>2.00</td>\n",
       "      <td>...</td>\n",
       "      <td>855.48</td>\n",
       "      <td>1</td>\n",
       "      <td>54639</td>\n",
       "      <td>54651</td>\n",
       "      <td>High</td>\n",
       "      <td>Bakal</td>\n",
       "      <td>54651</td>\n",
       "      <td>T4</td>\n",
       "      <td>2019</td>\n",
       "      <td>2</td>\n",
       "    </tr>\n",
       "    <tr>\n",
       "      <th>27137</th>\n",
       "      <td>7500085937</td>\n",
       "      <td>20</td>\n",
       "      <td>2019-02-08</td>\n",
       "      <td>Front Hub Oil Seal Mahindra Bolero</td>\n",
       "      <td>7705990.00</td>\n",
       "      <td>7860</td>\n",
       "      <td>1950</td>\n",
       "      <td>BK03</td>\n",
       "      <td>9900</td>\n",
       "      <td>80.00</td>\n",
       "      <td>...</td>\n",
       "      <td>1440.00</td>\n",
       "      <td>1</td>\n",
       "      <td>54639</td>\n",
       "      <td>54651</td>\n",
       "      <td>High</td>\n",
       "      <td>Bakal</td>\n",
       "      <td>54651</td>\n",
       "      <td>T4</td>\n",
       "      <td>2019</td>\n",
       "      <td>2</td>\n",
       "    </tr>\n",
       "  </tbody>\n",
       "</table>\n",
       "<p>10 rows × 43 columns</p>\n",
       "</div>"
      ],
      "text/plain": [
       "       Purch.Doc.  Item  Changed On                                Short Text  \\\n",
       "11813  7500085034    10  2019-01-08              0084777 Kamani Bush M-Bolero   \n",
       "12085  7500085273    10  2019-01-15   028346CED Frt.Center Bonnet Assy Bolero   \n",
       "12086  7500085273    20  2019-01-15  0119AAN01210A Frt Bumper Assy MTL Bolero   \n",
       "12087  7500085273    30  2019-01-15  0028334 Frt.Bonnet Hings Kabja RH Bolero   \n",
       "12088  7500085273    40  2019-01-15  0028330 Frt.Bonnet Hings Kabja LH Bolero   \n",
       "12089  7500085273    50  2019-01-15   0102CN0560A Fender Assy MTL RH M-Bolero   \n",
       "12530  7500085644    10  2019-01-29     0116CN0020N Wiper Water Tank M-Bolero   \n",
       "26947  7500085806    30  2019-02-04      Balence Rod (U Clamp) Patti M-Bolero   \n",
       "27120  7500085929    40  2019-02-08   F002G20886-4AR Brush Gear Assy M-Bolero   \n",
       "27137  7500085937    20  2019-02-08        Front Hub Oil Seal Mahindra Bolero   \n",
       "\n",
       "        Material  CoCd  Plnt  SLoc Matl Group  PO Quantity  ... Reb.basis  \\\n",
       "11813 7706350.00  7860  1950  BK03       9911         4.00  ...    520.00   \n",
       "12085 7708300.00  7860  1950  BK03       9903         1.00  ...   5485.96   \n",
       "12086 7708300.00  7860  1950  BK03       9903         1.00  ...   3286.35   \n",
       "12087 7708300.00  7860  1950  BK03       9903         1.00  ...   2304.80   \n",
       "12088 7708300.00  7860  1950  BK03       9903         1.00  ...    481.73   \n",
       "12089 7708300.00  7860  1950  BK03       9903         1.00  ...    481.73   \n",
       "12530 7708350.00  7860  1950  BK03       9903         2.00  ...   1632.96   \n",
       "26947 7708310.00  7860  1950  BK03       9911        10.00  ...    324.00   \n",
       "27120 7706920.00  7860  1950  BK03       9905         2.00  ...    855.48   \n",
       "27137 7705990.00  7860  1950  BK03       9900        80.00  ...   1440.00   \n",
       "\n",
       "      Priority (Material Required Within)  Ordered By  Approved By  Priority  \\\n",
       "11813                                   1       54639        54651      High   \n",
       "12085                                   1       54639        54651      High   \n",
       "12086                                   0           0            0    Normal   \n",
       "12087                                   0           0            0    Normal   \n",
       "12088                                   0           0            0    Normal   \n",
       "12089                                   0           0            0    Normal   \n",
       "12530                                   1       54639        54651      High   \n",
       "26947                                   0           0            0    Normal   \n",
       "27120                                   1       54639        54651      High   \n",
       "27137                                   1       54639        54651      High   \n",
       "\n",
       "       Section  Indenter ID  Input Tax Credit  Order_yr  Order_mnth  \n",
       "11813    Bakal        54651                T4      2019           1  \n",
       "12085    Bakal        54651                T4      2019           1  \n",
       "12086        0            0                T4      2019           1  \n",
       "12087        0            0                T4      2019           1  \n",
       "12088        0            0                T4      2019           1  \n",
       "12089        0            0                T4      2019           1  \n",
       "12530    Bakal        54651                T4      2019           1  \n",
       "26947        0            0                T4      2019           2  \n",
       "27120    Bakal        54651                T4      2019           2  \n",
       "27137    Bakal        54651                T4      2019           2  \n",
       "\n",
       "[10 rows x 43 columns]"
      ]
     },
     "execution_count": 14,
     "metadata": {},
     "output_type": "execute_result"
    }
   ],
   "source": [
    "df_cluster[df_cluster['Short Text'].str.contains('Bolero')].head(10)"
   ]
  },
  {
   "cell_type": "code",
   "execution_count": 15,
   "metadata": {},
   "outputs": [
    {
     "data": {
      "text/plain": [
       "9903    25\n",
       "9905     5\n",
       "9900     5\n",
       "9911     3\n",
       "9913     3\n",
       "9906     2\n",
       "9907     2\n",
       "9902     1\n",
       "Name: Matl Group, dtype: int64"
      ]
     },
     "execution_count": 15,
     "metadata": {},
     "output_type": "execute_result"
    }
   ],
   "source": [
    "df_cluster[df_cluster['Short Text'].str.contains('Bolero')]['Matl Group'].value_counts()"
   ]
  },
  {
   "cell_type": "code",
   "execution_count": 16,
   "metadata": {},
   "outputs": [],
   "source": [
    "# 99 series is hardware maintenance  related items...get all of the 99 series group"
   ]
  },
  {
   "cell_type": "code",
   "execution_count": 17,
   "metadata": {},
   "outputs": [
    {
     "data": {
      "text/plain": [
       "9906    317\n",
       "9905    204\n",
       "9914    127\n",
       "9903    102\n",
       "9908     86\n",
       "9900     86\n",
       "9911     85\n",
       "9913     81\n",
       "9907     73\n",
       "9904     67\n",
       "9902     65\n",
       "9910     41\n",
       "9912     41\n",
       "9909     26\n",
       "9901     15\n",
       "9915      5\n",
       "Name: Matl Group, dtype: int64"
      ]
     },
     "execution_count": 17,
     "metadata": {},
     "output_type": "execute_result"
    }
   ],
   "source": [
    "df_cluster[df_cluster['Matl Group'].str[:2] == '99']['Matl Group'].value_counts()"
   ]
  },
  {
   "cell_type": "code",
   "execution_count": 18,
   "metadata": {},
   "outputs": [
    {
     "data": {
      "text/plain": [
       "(1421, 43)"
      ]
     },
     "execution_count": 18,
     "metadata": {},
     "output_type": "execute_result"
    }
   ],
   "source": [
    "df_cluster[df_cluster['Matl Group'].str[:2] == '99'].shape"
   ]
  },
  {
   "cell_type": "code",
   "execution_count": 19,
   "metadata": {},
   "outputs": [
    {
     "data": {
      "text/plain": [
       "7141000.91"
      ]
     },
     "execution_count": 19,
     "metadata": {},
     "output_type": "execute_result"
    }
   ],
   "source": [
    "df_cluster[df_cluster['Matl Group'].str[:2] == '99']['Gross value'].sum()"
   ]
  },
  {
   "cell_type": "code",
   "execution_count": 20,
   "metadata": {},
   "outputs": [
    {
     "data": {
      "text/plain": [
       "array(['9913', '9915', '9908', '9911', '9900', '9914', '9903', '9906',\n",
       "       '9902', '9907', '9904', '9912', '9905', '9910', '9901', '9909'],\n",
       "      dtype=object)"
      ]
     },
     "execution_count": 20,
     "metadata": {},
     "output_type": "execute_result"
    }
   ],
   "source": [
    "MatlGrp_99 = df_cluster[df_cluster['Matl Group'].str[:2] == '99']['Matl Group'].unique()\n",
    "MatlGrp_99"
   ]
  },
  {
   "cell_type": "code",
   "execution_count": 21,
   "metadata": {},
   "outputs": [
    {
     "data": {
      "text/plain": [
       "(60019, 43)"
      ]
     },
     "execution_count": 21,
     "metadata": {},
     "output_type": "execute_result"
    }
   ],
   "source": [
    "df_cluster.shape"
   ]
  },
  {
   "cell_type": "code",
   "execution_count": 22,
   "metadata": {},
   "outputs": [],
   "source": [
    "## NOT RUN\n",
    "# df_cluster = df_cluster[~df_cluster['Matl Group'].isin(MatlGrp_99)]\n",
    "# df_cluster.shape"
   ]
  },
  {
   "cell_type": "code",
   "execution_count": 23,
   "metadata": {},
   "outputs": [],
   "source": [
    "## Not run..this is food items group \n",
    "# df[df['Matl Group'].str.startswith('04',na=False)].head(10)"
   ]
  },
  {
   "cell_type": "code",
   "execution_count": null,
   "metadata": {},
   "outputs": [],
   "source": []
  },
  {
   "cell_type": "code",
   "execution_count": 24,
   "metadata": {},
   "outputs": [
    {
     "data": {
      "text/plain": [
       "Index(['Purch.Doc.', 'Item', 'Changed On', 'Short Text', 'Material', 'CoCd',\n",
       "       'Plnt', 'SLoc', 'Matl Group', 'PO Quantity', 'OUn', 'OPU', 'Eq. To',\n",
       "       'Net Price', 'Per', 'Net Value', 'Gross value', 'Overdel. Tol.',\n",
       "       'Underdel.Tol.', 'Item.1', 'BUn', 'Non-deductible', 'Price Date',\n",
       "       'Effective value', 'PTm', 'Net Weight', 'Un', 'Profit Ctr',\n",
       "       'Gross Weight', 'Volume', 'RShLi', 'MTyp', 'NCM Code', 'Reb.basis',\n",
       "       'Priority (Material Required Within)', 'Ordered By', 'Approved By',\n",
       "       'Priority', 'Section', 'Indenter ID', 'Input Tax Credit', 'Order_yr',\n",
       "       'Order_mnth'],\n",
       "      dtype='object')"
      ]
     },
     "execution_count": 24,
     "metadata": {},
     "output_type": "execute_result"
    }
   ],
   "source": [
    "df_cluster.columns"
   ]
  },
  {
   "cell_type": "code",
   "execution_count": 25,
   "metadata": {},
   "outputs": [],
   "source": [
    "# For clustering we will use only the 'Net Price','Gross value' and calculate the frequency "
   ]
  },
  {
   "cell_type": "code",
   "execution_count": 26,
   "metadata": {},
   "outputs": [
    {
     "data": {
      "text/plain": [
       "41678"
      ]
     },
     "execution_count": 26,
     "metadata": {},
     "output_type": "execute_result"
    }
   ],
   "source": [
    "df_cluster['Purch.Doc.'].nunique()"
   ]
  },
  {
   "cell_type": "code",
   "execution_count": 27,
   "metadata": {},
   "outputs": [
    {
     "data": {
      "text/html": [
       "<div>\n",
       "<style scoped>\n",
       "    .dataframe tbody tr th:only-of-type {\n",
       "        vertical-align: middle;\n",
       "    }\n",
       "\n",
       "    .dataframe tbody tr th {\n",
       "        vertical-align: top;\n",
       "    }\n",
       "\n",
       "    .dataframe thead th {\n",
       "        text-align: right;\n",
       "    }\n",
       "</style>\n",
       "<table border=\"1\" class=\"dataframe\">\n",
       "  <thead>\n",
       "    <tr style=\"text-align: right;\">\n",
       "      <th></th>\n",
       "      <th>Gross value</th>\n",
       "      <th>Net Price</th>\n",
       "    </tr>\n",
       "  </thead>\n",
       "  <tbody>\n",
       "    <tr>\n",
       "      <th>count</th>\n",
       "      <td>60019.00</td>\n",
       "      <td>60019.00</td>\n",
       "    </tr>\n",
       "    <tr>\n",
       "      <th>mean</th>\n",
       "      <td>395148.32</td>\n",
       "      <td>7731.01</td>\n",
       "    </tr>\n",
       "    <tr>\n",
       "      <th>std</th>\n",
       "      <td>2334794.93</td>\n",
       "      <td>61093.89</td>\n",
       "    </tr>\n",
       "    <tr>\n",
       "      <th>min</th>\n",
       "      <td>0.90</td>\n",
       "      <td>0.01</td>\n",
       "    </tr>\n",
       "    <tr>\n",
       "      <th>25%</th>\n",
       "      <td>11451.59</td>\n",
       "      <td>23.94</td>\n",
       "    </tr>\n",
       "    <tr>\n",
       "      <th>50%</th>\n",
       "      <td>104874.00</td>\n",
       "      <td>30.95</td>\n",
       "    </tr>\n",
       "    <tr>\n",
       "      <th>75%</th>\n",
       "      <td>295900.00</td>\n",
       "      <td>312.50</td>\n",
       "    </tr>\n",
       "    <tr>\n",
       "      <th>max</th>\n",
       "      <td>212000000.00</td>\n",
       "      <td>3221288.00</td>\n",
       "    </tr>\n",
       "  </tbody>\n",
       "</table>\n",
       "</div>"
      ],
      "text/plain": [
       "       Gross value  Net Price\n",
       "count     60019.00   60019.00\n",
       "mean     395148.32    7731.01\n",
       "std     2334794.93   61093.89\n",
       "min           0.90       0.01\n",
       "25%       11451.59      23.94\n",
       "50%      104874.00      30.95\n",
       "75%      295900.00     312.50\n",
       "max   212000000.00 3221288.00"
      ]
     },
     "execution_count": 27,
     "metadata": {},
     "output_type": "execute_result"
    }
   ],
   "source": [
    "df_cluster[['Gross value','Net Price']].describe()"
   ]
  },
  {
   "cell_type": "code",
   "execution_count": 28,
   "metadata": {},
   "outputs": [
    {
     "data": {
      "text/plain": [
       "2019   0.94\n",
       "2018   0.06\n",
       "Name: Order_yr, dtype: float64"
      ]
     },
     "execution_count": 28,
     "metadata": {},
     "output_type": "execute_result"
    }
   ],
   "source": [
    "df_cluster['Order_yr'].value_counts(normalize=True)"
   ]
  },
  {
   "cell_type": "code",
   "execution_count": 29,
   "metadata": {},
   "outputs": [],
   "source": [
    "# Can explore removing non essntial items \n",
    "# Matl Group - 2700,01,03 - IT related items..."
   ]
  },
  {
   "cell_type": "code",
   "execution_count": 30,
   "metadata": {},
   "outputs": [
    {
     "data": {
      "text/plain": [
       "(60019, 43)"
      ]
     },
     "execution_count": 30,
     "metadata": {},
     "output_type": "execute_result"
    }
   ],
   "source": [
    "df_cluster.shape"
   ]
  },
  {
   "cell_type": "markdown",
   "metadata": {},
   "source": [
    "# Summarise data \n",
    "Summarise data on 'Short Text' ( Material Name/description) "
   ]
  },
  {
   "cell_type": "code",
   "execution_count": 31,
   "metadata": {},
   "outputs": [
    {
     "data": {
      "text/plain": [
       "6248"
      ]
     },
     "execution_count": 31,
     "metadata": {},
     "output_type": "execute_result"
    }
   ],
   "source": [
    "df_cluster['Short Text'].nunique()"
   ]
  },
  {
   "cell_type": "code",
   "execution_count": 32,
   "metadata": {},
   "outputs": [
    {
     "data": {
      "text/plain": [
       "(6248, 4)"
      ]
     },
     "execution_count": 32,
     "metadata": {},
     "output_type": "execute_result"
    }
   ],
   "source": [
    "df_sum = df_cluster.groupby('Short Text',as_index=False).agg(\n",
    "    # Get count/frequency, can be any column\n",
    "    NumTimesBought=('Purch.Doc.','count'),\n",
    "    # Get total Gross Val \n",
    "    SumGrossValue=('Gross value','sum'),\n",
    "    # Per unit price\n",
    "    AvgPerUnitCost = ('Net Price','mean')\n",
    "    \n",
    "    )\n",
    "\n",
    "df_sum.shape"
   ]
  },
  {
   "cell_type": "code",
   "execution_count": 33,
   "metadata": {},
   "outputs": [
    {
     "data": {
      "text/html": [
       "<div>\n",
       "<style scoped>\n",
       "    .dataframe tbody tr th:only-of-type {\n",
       "        vertical-align: middle;\n",
       "    }\n",
       "\n",
       "    .dataframe tbody tr th {\n",
       "        vertical-align: top;\n",
       "    }\n",
       "\n",
       "    .dataframe thead th {\n",
       "        text-align: right;\n",
       "    }\n",
       "</style>\n",
       "<table border=\"1\" class=\"dataframe\">\n",
       "  <thead>\n",
       "    <tr style=\"text-align: right;\">\n",
       "      <th></th>\n",
       "      <th>Short Text</th>\n",
       "      <th>NumTimesBought</th>\n",
       "      <th>SumGrossValue</th>\n",
       "      <th>AvgPerUnitCost</th>\n",
       "    </tr>\n",
       "  </thead>\n",
       "  <tbody>\n",
       "    <tr>\n",
       "      <th>0</th>\n",
       "      <td>\"1/4 Ratchet 7-13mm Nuts</td>\n",
       "      <td>1</td>\n",
       "      <td>10250.00</td>\n",
       "      <td>1271.00</td>\n",
       "    </tr>\n",
       "    <tr>\n",
       "      <th>1</th>\n",
       "      <td>\"IND. Air Heating Ele. 2000 w ,240 V\"</td>\n",
       "      <td>1</td>\n",
       "      <td>9880.00</td>\n",
       "      <td>2470.00</td>\n",
       "    </tr>\n",
       "    <tr>\n",
       "      <th>2</th>\n",
       "      <td>'biquiti - AirGrid M5 Hi-Power 27dbi</td>\n",
       "      <td>1</td>\n",
       "      <td>14400.00</td>\n",
       "      <td>7200.00</td>\n",
       "    </tr>\n",
       "    <tr>\n",
       "      <th>3</th>\n",
       "      <td>0028330 Frt.Bonnet Hings Kabja LH Bolero</td>\n",
       "      <td>1</td>\n",
       "      <td>719.00</td>\n",
       "      <td>481.73</td>\n",
       "    </tr>\n",
       "    <tr>\n",
       "      <th>4</th>\n",
       "      <td>0028334 Frt.Bonnet Hings Kabja RH Bolero</td>\n",
       "      <td>1</td>\n",
       "      <td>3440.00</td>\n",
       "      <td>2304.80</td>\n",
       "    </tr>\n",
       "  </tbody>\n",
       "</table>\n",
       "</div>"
      ],
      "text/plain": [
       "                                 Short Text  NumTimesBought  SumGrossValue  \\\n",
       "0                  \"1/4 Ratchet 7-13mm Nuts               1       10250.00   \n",
       "1     \"IND. Air Heating Ele. 2000 w ,240 V\"               1        9880.00   \n",
       "2      'biquiti - AirGrid M5 Hi-Power 27dbi               1       14400.00   \n",
       "3  0028330 Frt.Bonnet Hings Kabja LH Bolero               1         719.00   \n",
       "4  0028334 Frt.Bonnet Hings Kabja RH Bolero               1        3440.00   \n",
       "\n",
       "   AvgPerUnitCost  \n",
       "0         1271.00  \n",
       "1         2470.00  \n",
       "2         7200.00  \n",
       "3          481.73  \n",
       "4         2304.80  "
      ]
     },
     "execution_count": 33,
     "metadata": {},
     "output_type": "execute_result"
    }
   ],
   "source": [
    "df_sum.head()"
   ]
  },
  {
   "cell_type": "code",
   "execution_count": 34,
   "metadata": {},
   "outputs": [
    {
     "data": {
      "text/html": [
       "<div>\n",
       "<style scoped>\n",
       "    .dataframe tbody tr th:only-of-type {\n",
       "        vertical-align: middle;\n",
       "    }\n",
       "\n",
       "    .dataframe tbody tr th {\n",
       "        vertical-align: top;\n",
       "    }\n",
       "\n",
       "    .dataframe thead th {\n",
       "        text-align: right;\n",
       "    }\n",
       "</style>\n",
       "<table border=\"1\" class=\"dataframe\">\n",
       "  <thead>\n",
       "    <tr style=\"text-align: right;\">\n",
       "      <th></th>\n",
       "      <th>Short Text</th>\n",
       "      <th>NumTimesBought</th>\n",
       "      <th>SumGrossValue</th>\n",
       "      <th>AvgPerUnitCost</th>\n",
       "    </tr>\n",
       "  </thead>\n",
       "  <tbody>\n",
       "    <tr>\n",
       "      <th>3110</th>\n",
       "      <td>IB Ross Broiler Finisher Feed</td>\n",
       "      <td>7864</td>\n",
       "      <td>2484004973.38</td>\n",
       "      <td>29.04</td>\n",
       "    </tr>\n",
       "    <tr>\n",
       "      <th>3112</th>\n",
       "      <td>IB Ross Broiler Starter Feed</td>\n",
       "      <td>6965</td>\n",
       "      <td>1832625208.50</td>\n",
       "      <td>30.29</td>\n",
       "    </tr>\n",
       "    <tr>\n",
       "      <th>5402</th>\n",
       "      <td>Soya Bean - (MP)</td>\n",
       "      <td>2770</td>\n",
       "      <td>1296246620.39</td>\n",
       "      <td>36982.17</td>\n",
       "    </tr>\n",
       "    <tr>\n",
       "      <th>880</th>\n",
       "      <td>B4 IB Ross Feed</td>\n",
       "      <td>34</td>\n",
       "      <td>1054080000.00</td>\n",
       "      <td>27.03</td>\n",
       "    </tr>\n",
       "    <tr>\n",
       "      <th>5400</th>\n",
       "      <td>Soya Bean - (A)</td>\n",
       "      <td>2130</td>\n",
       "      <td>1041177465.28</td>\n",
       "      <td>37573.95</td>\n",
       "    </tr>\n",
       "    <tr>\n",
       "      <th>3673</th>\n",
       "      <td>Maize</td>\n",
       "      <td>2328</td>\n",
       "      <td>929928411.41</td>\n",
       "      <td>17.80</td>\n",
       "    </tr>\n",
       "    <tr>\n",
       "      <th>3111</th>\n",
       "      <td>IB Ross Broiler Pre-Starter Feed</td>\n",
       "      <td>5280</td>\n",
       "      <td>881006742.00</td>\n",
       "      <td>31.71</td>\n",
       "    </tr>\n",
       "    <tr>\n",
       "      <th>4253</th>\n",
       "      <td>PL-3</td>\n",
       "      <td>50</td>\n",
       "      <td>836547216.05</td>\n",
       "      <td>24.87</td>\n",
       "    </tr>\n",
       "    <tr>\n",
       "      <th>876</th>\n",
       "      <td>B1 IB Ross Feed</td>\n",
       "      <td>57</td>\n",
       "      <td>820581512.40</td>\n",
       "      <td>29.14</td>\n",
       "    </tr>\n",
       "    <tr>\n",
       "      <th>4254</th>\n",
       "      <td>PL-4</td>\n",
       "      <td>43</td>\n",
       "      <td>817984426.00</td>\n",
       "      <td>25.14</td>\n",
       "    </tr>\n",
       "  </tbody>\n",
       "</table>\n",
       "</div>"
      ],
      "text/plain": [
       "                            Short Text  NumTimesBought  SumGrossValue  \\\n",
       "3110     IB Ross Broiler Finisher Feed            7864  2484004973.38   \n",
       "3112      IB Ross Broiler Starter Feed            6965  1832625208.50   \n",
       "5402                  Soya Bean - (MP)            2770  1296246620.39   \n",
       "880                    B4 IB Ross Feed              34  1054080000.00   \n",
       "5400                   Soya Bean - (A)            2130  1041177465.28   \n",
       "3673                             Maize            2328   929928411.41   \n",
       "3111  IB Ross Broiler Pre-Starter Feed            5280   881006742.00   \n",
       "4253                              PL-3              50   836547216.05   \n",
       "876                    B1 IB Ross Feed              57   820581512.40   \n",
       "4254                              PL-4              43   817984426.00   \n",
       "\n",
       "      AvgPerUnitCost  \n",
       "3110           29.04  \n",
       "3112           30.29  \n",
       "5402        36982.17  \n",
       "880            27.03  \n",
       "5400        37573.95  \n",
       "3673           17.80  \n",
       "3111           31.71  \n",
       "4253           24.87  \n",
       "876            29.14  \n",
       "4254           25.14  "
      ]
     },
     "execution_count": 34,
     "metadata": {},
     "output_type": "execute_result"
    }
   ],
   "source": [
    "df_sum.sort_values(by=['SumGrossValue'],ascending =False).head(10)"
   ]
  },
  {
   "cell_type": "code",
   "execution_count": 35,
   "metadata": {},
   "outputs": [
    {
     "data": {
      "text/html": [
       "<div>\n",
       "<style scoped>\n",
       "    .dataframe tbody tr th:only-of-type {\n",
       "        vertical-align: middle;\n",
       "    }\n",
       "\n",
       "    .dataframe tbody tr th {\n",
       "        vertical-align: top;\n",
       "    }\n",
       "\n",
       "    .dataframe thead th {\n",
       "        text-align: right;\n",
       "    }\n",
       "</style>\n",
       "<table border=\"1\" class=\"dataframe\">\n",
       "  <thead>\n",
       "    <tr style=\"text-align: right;\">\n",
       "      <th></th>\n",
       "      <th>Short Text</th>\n",
       "      <th>NumTimesBought</th>\n",
       "      <th>SumGrossValue</th>\n",
       "      <th>AvgPerUnitCost</th>\n",
       "    </tr>\n",
       "  </thead>\n",
       "  <tbody>\n",
       "    <tr>\n",
       "      <th>3110</th>\n",
       "      <td>IB Ross Broiler Finisher Feed</td>\n",
       "      <td>7864</td>\n",
       "      <td>2484004973.38</td>\n",
       "      <td>29.04</td>\n",
       "    </tr>\n",
       "    <tr>\n",
       "      <th>3112</th>\n",
       "      <td>IB Ross Broiler Starter Feed</td>\n",
       "      <td>6965</td>\n",
       "      <td>1832625208.50</td>\n",
       "      <td>30.29</td>\n",
       "    </tr>\n",
       "    <tr>\n",
       "      <th>3111</th>\n",
       "      <td>IB Ross Broiler Pre-Starter Feed</td>\n",
       "      <td>5280</td>\n",
       "      <td>881006742.00</td>\n",
       "      <td>31.71</td>\n",
       "    </tr>\n",
       "    <tr>\n",
       "      <th>4997</th>\n",
       "      <td>Rice Bran Boiled</td>\n",
       "      <td>3838</td>\n",
       "      <td>247969115.24</td>\n",
       "      <td>21.07</td>\n",
       "    </tr>\n",
       "    <tr>\n",
       "      <th>5402</th>\n",
       "      <td>Soya Bean - (MP)</td>\n",
       "      <td>2770</td>\n",
       "      <td>1296246620.39</td>\n",
       "      <td>36982.17</td>\n",
       "    </tr>\n",
       "    <tr>\n",
       "      <th>4999</th>\n",
       "      <td>Rice Bran Raw</td>\n",
       "      <td>2674</td>\n",
       "      <td>147438214.48</td>\n",
       "      <td>19.01</td>\n",
       "    </tr>\n",
       "    <tr>\n",
       "      <th>5399</th>\n",
       "      <td>Soya Bean</td>\n",
       "      <td>2672</td>\n",
       "      <td>542905344.06</td>\n",
       "      <td>35946.06</td>\n",
       "    </tr>\n",
       "    <tr>\n",
       "      <th>3673</th>\n",
       "      <td>Maize</td>\n",
       "      <td>2328</td>\n",
       "      <td>929928411.41</td>\n",
       "      <td>17.80</td>\n",
       "    </tr>\n",
       "    <tr>\n",
       "      <th>5400</th>\n",
       "      <td>Soya Bean - (A)</td>\n",
       "      <td>2130</td>\n",
       "      <td>1041177465.28</td>\n",
       "      <td>37573.95</td>\n",
       "    </tr>\n",
       "    <tr>\n",
       "      <th>5002</th>\n",
       "      <td>Rice Husk (New)</td>\n",
       "      <td>1417</td>\n",
       "      <td>57325319.65</td>\n",
       "      <td>3252.99</td>\n",
       "    </tr>\n",
       "  </tbody>\n",
       "</table>\n",
       "</div>"
      ],
      "text/plain": [
       "                            Short Text  NumTimesBought  SumGrossValue  \\\n",
       "3110     IB Ross Broiler Finisher Feed            7864  2484004973.38   \n",
       "3112      IB Ross Broiler Starter Feed            6965  1832625208.50   \n",
       "3111  IB Ross Broiler Pre-Starter Feed            5280   881006742.00   \n",
       "4997                  Rice Bran Boiled            3838   247969115.24   \n",
       "5402                  Soya Bean - (MP)            2770  1296246620.39   \n",
       "4999                     Rice Bran Raw            2674   147438214.48   \n",
       "5399                         Soya Bean            2672   542905344.06   \n",
       "3673                             Maize            2328   929928411.41   \n",
       "5400                   Soya Bean - (A)            2130  1041177465.28   \n",
       "5002                   Rice Husk (New)            1417    57325319.65   \n",
       "\n",
       "      AvgPerUnitCost  \n",
       "3110           29.04  \n",
       "3112           30.29  \n",
       "3111           31.71  \n",
       "4997           21.07  \n",
       "5402        36982.17  \n",
       "4999           19.01  \n",
       "5399        35946.06  \n",
       "3673           17.80  \n",
       "5400        37573.95  \n",
       "5002         3252.99  "
      ]
     },
     "execution_count": 35,
     "metadata": {},
     "output_type": "execute_result"
    }
   ],
   "source": [
    "df_sum.sort_values(by=['NumTimesBought'],ascending =False).head(10)"
   ]
  },
  {
   "cell_type": "code",
   "execution_count": 36,
   "metadata": {},
   "outputs": [
    {
     "data": {
      "text/html": [
       "<div>\n",
       "<style scoped>\n",
       "    .dataframe tbody tr th:only-of-type {\n",
       "        vertical-align: middle;\n",
       "    }\n",
       "\n",
       "    .dataframe tbody tr th {\n",
       "        vertical-align: top;\n",
       "    }\n",
       "\n",
       "    .dataframe thead th {\n",
       "        text-align: right;\n",
       "    }\n",
       "</style>\n",
       "<table border=\"1\" class=\"dataframe\">\n",
       "  <thead>\n",
       "    <tr style=\"text-align: right;\">\n",
       "      <th></th>\n",
       "      <th>Short Text</th>\n",
       "      <th>NumTimesBought</th>\n",
       "      <th>SumGrossValue</th>\n",
       "      <th>AvgPerUnitCost</th>\n",
       "    </tr>\n",
       "  </thead>\n",
       "  <tbody>\n",
       "    <tr>\n",
       "      <th>6222</th>\n",
       "      <td>activate wd (3*30)</td>\n",
       "      <td>1</td>\n",
       "      <td>0.90</td>\n",
       "      <td>0.01</td>\n",
       "    </tr>\n",
       "    <tr>\n",
       "      <th>1361</th>\n",
       "      <td>CKS Sreews 8*32</td>\n",
       "      <td>1</td>\n",
       "      <td>1.44</td>\n",
       "      <td>0.48</td>\n",
       "    </tr>\n",
       "    <tr>\n",
       "      <th>6092</th>\n",
       "      <td>Washer M5 TK-02687</td>\n",
       "      <td>1</td>\n",
       "      <td>2.00</td>\n",
       "      <td>0.02</td>\n",
       "    </tr>\n",
       "    <tr>\n",
       "      <th>5232</th>\n",
       "      <td>Screw 8 No.</td>\n",
       "      <td>1</td>\n",
       "      <td>4.00</td>\n",
       "      <td>0.20</td>\n",
       "    </tr>\n",
       "    <tr>\n",
       "      <th>4278</th>\n",
       "      <td>PP Bag Broiler Pre Starter (50Kg)</td>\n",
       "      <td>2</td>\n",
       "      <td>4.50</td>\n",
       "      <td>0.01</td>\n",
       "    </tr>\n",
       "    <tr>\n",
       "      <th>5109</th>\n",
       "      <td>SELF CENTRED BONDED SEAL 1/4\"</td>\n",
       "      <td>1</td>\n",
       "      <td>5.00</td>\n",
       "      <td>5.00</td>\n",
       "    </tr>\n",
       "    <tr>\n",
       "      <th>6184</th>\n",
       "      <td>Wiring Clip 10.No (General)</td>\n",
       "      <td>1</td>\n",
       "      <td>7.07</td>\n",
       "      <td>1.01</td>\n",
       "    </tr>\n",
       "    <tr>\n",
       "      <th>4261</th>\n",
       "      <td>PLUMBER THRADE</td>\n",
       "      <td>1</td>\n",
       "      <td>8.00</td>\n",
       "      <td>8.00</td>\n",
       "    </tr>\n",
       "    <tr>\n",
       "      <th>1320</th>\n",
       "      <td>Bushing- For Plateau- TK- 07814B</td>\n",
       "      <td>1</td>\n",
       "      <td>8.00</td>\n",
       "      <td>0.08</td>\n",
       "    </tr>\n",
       "    <tr>\n",
       "      <th>2728</th>\n",
       "      <td>Gi Nipple 1/2\"X3\"</td>\n",
       "      <td>1</td>\n",
       "      <td>10.00</td>\n",
       "      <td>5.00</td>\n",
       "    </tr>\n",
       "  </tbody>\n",
       "</table>\n",
       "</div>"
      ],
      "text/plain": [
       "                             Short Text  NumTimesBought  SumGrossValue  \\\n",
       "6222                 activate wd (3*30)               1           0.90   \n",
       "1361                    CKS Sreews 8*32               1           1.44   \n",
       "6092                 Washer M5 TK-02687               1           2.00   \n",
       "5232                        Screw 8 No.               1           4.00   \n",
       "4278  PP Bag Broiler Pre Starter (50Kg)               2           4.50   \n",
       "5109      SELF CENTRED BONDED SEAL 1/4\"               1           5.00   \n",
       "6184        Wiring Clip 10.No (General)               1           7.07   \n",
       "4261                     PLUMBER THRADE               1           8.00   \n",
       "1320   Bushing- For Plateau- TK- 07814B               1           8.00   \n",
       "2728                  Gi Nipple 1/2\"X3\"               1          10.00   \n",
       "\n",
       "      AvgPerUnitCost  \n",
       "6222            0.01  \n",
       "1361            0.48  \n",
       "6092            0.02  \n",
       "5232            0.20  \n",
       "4278            0.01  \n",
       "5109            5.00  \n",
       "6184            1.01  \n",
       "4261            8.00  \n",
       "1320            0.08  \n",
       "2728            5.00  "
      ]
     },
     "execution_count": 36,
     "metadata": {},
     "output_type": "execute_result"
    }
   ],
   "source": [
    "df_sum.sort_values(by=['SumGrossValue'],ascending =True).head(10)"
   ]
  },
  {
   "cell_type": "code",
   "execution_count": 37,
   "metadata": {},
   "outputs": [
    {
     "data": {
      "text/html": [
       "<div>\n",
       "<style scoped>\n",
       "    .dataframe tbody tr th:only-of-type {\n",
       "        vertical-align: middle;\n",
       "    }\n",
       "\n",
       "    .dataframe tbody tr th {\n",
       "        vertical-align: top;\n",
       "    }\n",
       "\n",
       "    .dataframe thead th {\n",
       "        text-align: right;\n",
       "    }\n",
       "</style>\n",
       "<table border=\"1\" class=\"dataframe\">\n",
       "  <thead>\n",
       "    <tr style=\"text-align: right;\">\n",
       "      <th></th>\n",
       "      <th>Short Text</th>\n",
       "      <th>NumTimesBought</th>\n",
       "      <th>SumGrossValue</th>\n",
       "      <th>AvgPerUnitCost</th>\n",
       "    </tr>\n",
       "  </thead>\n",
       "  <tbody>\n",
       "    <tr>\n",
       "      <th>0</th>\n",
       "      <td>\"1/4 Ratchet 7-13mm Nuts</td>\n",
       "      <td>1</td>\n",
       "      <td>10250.00</td>\n",
       "      <td>1271.00</td>\n",
       "    </tr>\n",
       "    <tr>\n",
       "      <th>3726</th>\n",
       "      <td>Mcb Box 16 Way</td>\n",
       "      <td>1</td>\n",
       "      <td>38885.00</td>\n",
       "      <td>1201.90</td>\n",
       "    </tr>\n",
       "    <tr>\n",
       "      <th>3723</th>\n",
       "      <td>Maxtreat 9735</td>\n",
       "      <td>1</td>\n",
       "      <td>9450.00</td>\n",
       "      <td>90.00</td>\n",
       "    </tr>\n",
       "    <tr>\n",
       "      <th>3718</th>\n",
       "      <td>Maxtreat 3226</td>\n",
       "      <td>1</td>\n",
       "      <td>2380.00</td>\n",
       "      <td>68.00</td>\n",
       "    </tr>\n",
       "    <tr>\n",
       "      <th>3712</th>\n",
       "      <td>Maxquat 50</td>\n",
       "      <td>1</td>\n",
       "      <td>8470.00</td>\n",
       "      <td>242.00</td>\n",
       "    </tr>\n",
       "    <tr>\n",
       "      <th>3711</th>\n",
       "      <td>Maxclean 05 (7860)</td>\n",
       "      <td>1</td>\n",
       "      <td>20500.00</td>\n",
       "      <td>205.00</td>\n",
       "    </tr>\n",
       "    <tr>\n",
       "      <th>3710</th>\n",
       "      <td>Max Card M 3Mtr Connectore</td>\n",
       "      <td>1</td>\n",
       "      <td>200.00</td>\n",
       "      <td>200.00</td>\n",
       "    </tr>\n",
       "    <tr>\n",
       "      <th>3727</th>\n",
       "      <td>Mcb Box 2 Way</td>\n",
       "      <td>1</td>\n",
       "      <td>450.00</td>\n",
       "      <td>30.00</td>\n",
       "    </tr>\n",
       "    <tr>\n",
       "      <th>3706</th>\n",
       "      <td>Material for insulation 100 Density</td>\n",
       "      <td>1</td>\n",
       "      <td>222720.00</td>\n",
       "      <td>58.00</td>\n",
       "    </tr>\n",
       "    <tr>\n",
       "      <th>3701</th>\n",
       "      <td>Mastiwok</td>\n",
       "      <td>1</td>\n",
       "      <td>5664.00</td>\n",
       "      <td>141.60</td>\n",
       "    </tr>\n",
       "  </tbody>\n",
       "</table>\n",
       "</div>"
      ],
      "text/plain": [
       "                               Short Text  NumTimesBought  SumGrossValue  \\\n",
       "0                \"1/4 Ratchet 7-13mm Nuts               1       10250.00   \n",
       "3726                       Mcb Box 16 Way               1       38885.00   \n",
       "3723                        Maxtreat 9735               1        9450.00   \n",
       "3718                        Maxtreat 3226               1        2380.00   \n",
       "3712                           Maxquat 50               1        8470.00   \n",
       "3711                   Maxclean 05 (7860)               1       20500.00   \n",
       "3710           Max Card M 3Mtr Connectore               1         200.00   \n",
       "3727                        Mcb Box 2 Way               1         450.00   \n",
       "3706  Material for insulation 100 Density               1      222720.00   \n",
       "3701                             Mastiwok               1        5664.00   \n",
       "\n",
       "      AvgPerUnitCost  \n",
       "0            1271.00  \n",
       "3726         1201.90  \n",
       "3723           90.00  \n",
       "3718           68.00  \n",
       "3712          242.00  \n",
       "3711          205.00  \n",
       "3710          200.00  \n",
       "3727           30.00  \n",
       "3706           58.00  \n",
       "3701          141.60  "
      ]
     },
     "execution_count": 37,
     "metadata": {},
     "output_type": "execute_result"
    }
   ],
   "source": [
    "df_sum.sort_values(by=['NumTimesBought'],ascending =True).head(10)"
   ]
  },
  {
   "cell_type": "code",
   "execution_count": 38,
   "metadata": {},
   "outputs": [
    {
     "data": {
      "text/html": [
       "<div>\n",
       "<style scoped>\n",
       "    .dataframe tbody tr th:only-of-type {\n",
       "        vertical-align: middle;\n",
       "    }\n",
       "\n",
       "    .dataframe tbody tr th {\n",
       "        vertical-align: top;\n",
       "    }\n",
       "\n",
       "    .dataframe thead th {\n",
       "        text-align: right;\n",
       "    }\n",
       "</style>\n",
       "<table border=\"1\" class=\"dataframe\">\n",
       "  <thead>\n",
       "    <tr style=\"text-align: right;\">\n",
       "      <th></th>\n",
       "      <th>NumTimesBought</th>\n",
       "      <th>SumGrossValue</th>\n",
       "    </tr>\n",
       "  </thead>\n",
       "  <tbody>\n",
       "    <tr>\n",
       "      <th>count</th>\n",
       "      <td>6248.00</td>\n",
       "      <td>6248.00</td>\n",
       "    </tr>\n",
       "    <tr>\n",
       "      <th>mean</th>\n",
       "      <td>9.61</td>\n",
       "      <td>3795839.76</td>\n",
       "    </tr>\n",
       "    <tr>\n",
       "      <th>std</th>\n",
       "      <td>174.14</td>\n",
       "      <td>58540787.19</td>\n",
       "    </tr>\n",
       "    <tr>\n",
       "      <th>min</th>\n",
       "      <td>1.00</td>\n",
       "      <td>0.90</td>\n",
       "    </tr>\n",
       "    <tr>\n",
       "      <th>25%</th>\n",
       "      <td>1.00</td>\n",
       "      <td>1391.50</td>\n",
       "    </tr>\n",
       "    <tr>\n",
       "      <th>50%</th>\n",
       "      <td>1.00</td>\n",
       "      <td>5690.00</td>\n",
       "    </tr>\n",
       "    <tr>\n",
       "      <th>75%</th>\n",
       "      <td>2.00</td>\n",
       "      <td>32910.00</td>\n",
       "    </tr>\n",
       "    <tr>\n",
       "      <th>max</th>\n",
       "      <td>7864.00</td>\n",
       "      <td>2484004973.38</td>\n",
       "    </tr>\n",
       "  </tbody>\n",
       "</table>\n",
       "</div>"
      ],
      "text/plain": [
       "       NumTimesBought  SumGrossValue\n",
       "count         6248.00        6248.00\n",
       "mean             9.61     3795839.76\n",
       "std            174.14    58540787.19\n",
       "min              1.00           0.90\n",
       "25%              1.00        1391.50\n",
       "50%              1.00        5690.00\n",
       "75%              2.00       32910.00\n",
       "max           7864.00  2484004973.38"
      ]
     },
     "execution_count": 38,
     "metadata": {},
     "output_type": "execute_result"
    }
   ],
   "source": [
    "df_sum[['NumTimesBought','SumGrossValue']].describe()"
   ]
  },
  {
   "cell_type": "code",
   "execution_count": 39,
   "metadata": {},
   "outputs": [
    {
     "data": {
      "text/plain": [
       "(0.6272407170294494, 3919)"
      ]
     },
     "execution_count": 39,
     "metadata": {},
     "output_type": "execute_result"
    }
   ],
   "source": [
    "# How many with 1 time purchase\n",
    "df_sum[df_sum['NumTimesBought']==1].shape[0] / df_sum.shape[0],df_sum[df_sum['NumTimesBought'] == 1].shape[0]"
   ]
  },
  {
   "cell_type": "code",
   "execution_count": 40,
   "metadata": {},
   "outputs": [
    {
     "data": {
      "text/plain": [
       "(0.8029769526248399, 5017)"
      ]
     },
     "execution_count": 40,
     "metadata": {},
     "output_type": "execute_result"
    }
   ],
   "source": [
    "df_sum[df_sum['NumTimesBought'] <= 2].shape[0] / df_sum.shape[0],df_sum[df_sum['NumTimesBought'] <= 2].shape[0]"
   ]
  },
  {
   "cell_type": "code",
   "execution_count": 41,
   "metadata": {},
   "outputs": [
    {
     "data": {
      "text/plain": [
       "(0.8706786171574904, 5440)"
      ]
     },
     "execution_count": 41,
     "metadata": {},
     "output_type": "execute_result"
    }
   ],
   "source": [
    "df_sum[df_sum['NumTimesBought'] <= 3].shape[0] / df_sum.shape[0],df_sum[df_sum['NumTimesBought'] <= 3].shape[0]"
   ]
  },
  {
   "cell_type": "code",
   "execution_count": 42,
   "metadata": {},
   "outputs": [
    {
     "data": {
      "text/plain": [
       "(0.9026888604353394, 5640)"
      ]
     },
     "execution_count": 42,
     "metadata": {},
     "output_type": "execute_result"
    }
   ],
   "source": [
    "df_sum[df_sum['NumTimesBought'] <= 4].shape[0] / df_sum.shape[0],df_sum[df_sum['NumTimesBought'] <= 4].shape[0]"
   ]
  },
  {
   "cell_type": "code",
   "execution_count": 43,
   "metadata": {},
   "outputs": [
    {
     "data": {
      "text/plain": [
       "(0.9223751600512163, 5763)"
      ]
     },
     "execution_count": 43,
     "metadata": {},
     "output_type": "execute_result"
    }
   ],
   "source": [
    "df_sum[df_sum['NumTimesBought'] <= 5].shape[0] / df_sum.shape[0],df_sum[df_sum['NumTimesBought'] <= 5].shape[0]"
   ]
  },
  {
   "cell_type": "code",
   "execution_count": 44,
   "metadata": {},
   "outputs": [
    {
     "data": {
      "text/plain": [
       "(0.9356594110115237, 5846)"
      ]
     },
     "execution_count": 44,
     "metadata": {},
     "output_type": "execute_result"
    }
   ],
   "source": [
    "df_sum[df_sum['NumTimesBought'] <= 6].shape[0] / df_sum.shape[0],df_sum[df_sum['NumTimesBought'] <= 6].shape[0]"
   ]
  },
  {
   "cell_type": "code",
   "execution_count": 45,
   "metadata": {},
   "outputs": [
    {
     "data": {
      "text/plain": [
       "(0.9615877080665813, 6008)"
      ]
     },
     "execution_count": 45,
     "metadata": {},
     "output_type": "execute_result"
    }
   ],
   "source": [
    "df_sum[df_sum['NumTimesBought'] <= 10].shape[0] / df_sum.shape[0],df_sum[df_sum['NumTimesBought'] <= 10].shape[0]"
   ]
  },
  {
   "cell_type": "markdown",
   "metadata": {},
   "source": [
    "# Process for cluster "
   ]
  },
  {
   "cell_type": "code",
   "execution_count": 46,
   "metadata": {},
   "outputs": [
    {
     "data": {
      "text/html": [
       "<div>\n",
       "<style scoped>\n",
       "    .dataframe tbody tr th:only-of-type {\n",
       "        vertical-align: middle;\n",
       "    }\n",
       "\n",
       "    .dataframe tbody tr th {\n",
       "        vertical-align: top;\n",
       "    }\n",
       "\n",
       "    .dataframe thead th {\n",
       "        text-align: right;\n",
       "    }\n",
       "</style>\n",
       "<table border=\"1\" class=\"dataframe\">\n",
       "  <thead>\n",
       "    <tr style=\"text-align: right;\">\n",
       "      <th></th>\n",
       "      <th>NumTimesBought</th>\n",
       "      <th>SumGrossValue</th>\n",
       "      <th>AvgPerUnitCost</th>\n",
       "    </tr>\n",
       "  </thead>\n",
       "  <tbody>\n",
       "    <tr>\n",
       "      <th>0</th>\n",
       "      <td>-0.05</td>\n",
       "      <td>-0.06</td>\n",
       "      <td>-0.10</td>\n",
       "    </tr>\n",
       "    <tr>\n",
       "      <th>1</th>\n",
       "      <td>-0.05</td>\n",
       "      <td>-0.06</td>\n",
       "      <td>-0.08</td>\n",
       "    </tr>\n",
       "    <tr>\n",
       "      <th>2</th>\n",
       "      <td>-0.05</td>\n",
       "      <td>-0.06</td>\n",
       "      <td>-0.01</td>\n",
       "    </tr>\n",
       "    <tr>\n",
       "      <th>3</th>\n",
       "      <td>-0.05</td>\n",
       "      <td>-0.06</td>\n",
       "      <td>-0.11</td>\n",
       "    </tr>\n",
       "    <tr>\n",
       "      <th>4</th>\n",
       "      <td>-0.05</td>\n",
       "      <td>-0.06</td>\n",
       "      <td>-0.08</td>\n",
       "    </tr>\n",
       "  </tbody>\n",
       "</table>\n",
       "</div>"
      ],
      "text/plain": [
       "   NumTimesBought  SumGrossValue  AvgPerUnitCost\n",
       "0           -0.05          -0.06           -0.10\n",
       "1           -0.05          -0.06           -0.08\n",
       "2           -0.05          -0.06           -0.01\n",
       "3           -0.05          -0.06           -0.11\n",
       "4           -0.05          -0.06           -0.08"
      ]
     },
     "execution_count": 46,
     "metadata": {},
     "output_type": "execute_result"
    }
   ],
   "source": [
    "# Scale data\n",
    "\n",
    "df_t = df_sum.drop(['Short Text'], axis='columns')\n",
    "scaler = preprocessing.StandardScaler()\n",
    "df_scaled = scaler.fit_transform(df_t) # its an array \n",
    "df_scaled = pd.DataFrame(df_scaled, columns = df_t.columns) # convert back to data frame\n",
    "df_scaled.head()"
   ]
  },
  {
   "cell_type": "markdown",
   "metadata": {},
   "source": [
    "# Clustering"
   ]
  },
  {
   "cell_type": "code",
   "execution_count": 47,
   "metadata": {},
   "outputs": [],
   "source": [
    "SSE = []\n",
    "for cluster in range(1,20):\n",
    "    kmeans = KMeans(n_clusters = cluster)\n",
    "    kmeans.fit(df_scaled)\n",
    "    SSE.append(kmeans.inertia_)"
   ]
  },
  {
   "cell_type": "code",
   "execution_count": 48,
   "metadata": {},
   "outputs": [],
   "source": [
    "df_t = pd.DataFrame({'Cluster':range(1,20), 'SSE':SSE})"
   ]
  },
  {
   "cell_type": "code",
   "execution_count": 49,
   "metadata": {},
   "outputs": [
    {
     "data": {
      "text/plain": [
       "Text(0, 0.5, 'Inertia')"
      ]
     },
     "execution_count": 49,
     "metadata": {},
     "output_type": "execute_result"
    },
    {
     "data": {
      "image/png": "[encoded data removed]",
      "text/plain": [
       "<Figure size 864x432 with 1 Axes>"
      ]
     },
     "metadata": {
      "needs_background": "light"
     },
     "output_type": "display_data"
    }
   ],
   "source": [
    "plt.figure(figsize=(12,6))\n",
    "plt.plot(df_t['Cluster'], df_t['SSE'], marker='o')\n",
    "plt.xlabel('Number of clusters')\n",
    "plt.ylabel('Inertia')"
   ]
  },
  {
   "cell_type": "code",
   "execution_count": 50,
   "metadata": {},
   "outputs": [],
   "source": [
    "# Get 4 clusters "
   ]
  },
  {
   "cell_type": "code",
   "execution_count": 51,
   "metadata": {},
   "outputs": [
    {
     "data": {
      "text/html": [
       "<div>\n",
       "<style scoped>\n",
       "    .dataframe tbody tr th:only-of-type {\n",
       "        vertical-align: middle;\n",
       "    }\n",
       "\n",
       "    .dataframe tbody tr th {\n",
       "        vertical-align: top;\n",
       "    }\n",
       "\n",
       "    .dataframe thead th {\n",
       "        text-align: right;\n",
       "    }\n",
       "</style>\n",
       "<table border=\"1\" class=\"dataframe\">\n",
       "  <thead>\n",
       "    <tr style=\"text-align: right;\">\n",
       "      <th></th>\n",
       "      <th>NumTimesBought</th>\n",
       "      <th>SumGrossValue</th>\n",
       "      <th>AvgPerUnitCost</th>\n",
       "    </tr>\n",
       "  </thead>\n",
       "  <tbody>\n",
       "    <tr>\n",
       "      <th>0</th>\n",
       "      <td>-0.05</td>\n",
       "      <td>-0.06</td>\n",
       "      <td>-0.10</td>\n",
       "    </tr>\n",
       "    <tr>\n",
       "      <th>1</th>\n",
       "      <td>-0.05</td>\n",
       "      <td>-0.06</td>\n",
       "      <td>-0.08</td>\n",
       "    </tr>\n",
       "    <tr>\n",
       "      <th>2</th>\n",
       "      <td>-0.05</td>\n",
       "      <td>-0.06</td>\n",
       "      <td>-0.01</td>\n",
       "    </tr>\n",
       "    <tr>\n",
       "      <th>3</th>\n",
       "      <td>-0.05</td>\n",
       "      <td>-0.06</td>\n",
       "      <td>-0.11</td>\n",
       "    </tr>\n",
       "    <tr>\n",
       "      <th>4</th>\n",
       "      <td>-0.05</td>\n",
       "      <td>-0.06</td>\n",
       "      <td>-0.08</td>\n",
       "    </tr>\n",
       "  </tbody>\n",
       "</table>\n",
       "</div>"
      ],
      "text/plain": [
       "   NumTimesBought  SumGrossValue  AvgPerUnitCost\n",
       "0           -0.05          -0.06           -0.10\n",
       "1           -0.05          -0.06           -0.08\n",
       "2           -0.05          -0.06           -0.01\n",
       "3           -0.05          -0.06           -0.11\n",
       "4           -0.05          -0.06           -0.08"
      ]
     },
     "execution_count": 51,
     "metadata": {},
     "output_type": "execute_result"
    }
   ],
   "source": [
    "df_scaled.head()"
   ]
  },
  {
   "cell_type": "code",
   "execution_count": 52,
   "metadata": {},
   "outputs": [
    {
     "data": {
      "text/plain": [
       "KMeans(n_clusters=4)"
      ]
     },
     "execution_count": 52,
     "metadata": {},
     "output_type": "execute_result"
    }
   ],
   "source": [
    "km1 = KMeans(n_clusters = 4)\n",
    "km1.fit(df_scaled)"
   ]
  },
  {
   "cell_type": "code",
   "execution_count": 53,
   "metadata": {},
   "outputs": [
    {
     "data": {
      "text/plain": [
       "4403.290301803926"
      ]
     },
     "execution_count": 53,
     "metadata": {},
     "output_type": "execute_result"
    }
   ],
   "source": [
    "km1.inertia_"
   ]
  },
  {
   "cell_type": "code",
   "execution_count": 54,
   "metadata": {},
   "outputs": [
    {
     "data": {
      "text/plain": [
       "2991.431226356612"
      ]
     },
     "execution_count": 54,
     "metadata": {},
     "output_type": "execute_result"
    }
   ],
   "source": [
    "km1_5 = KMeans(n_clusters = 5)\n",
    "km1_5.fit(df_scaled)\n",
    "km1_5.inertia_"
   ]
  },
  {
   "cell_type": "code",
   "execution_count": 55,
   "metadata": {},
   "outputs": [
    {
     "data": {
      "text/plain": [
       "1788.6766495115596"
      ]
     },
     "execution_count": 55,
     "metadata": {},
     "output_type": "execute_result"
    }
   ],
   "source": [
    "km1_6 = KMeans(n_clusters = 6)\n",
    "km1_6.fit(df_scaled)\n",
    "km1_6.inertia_"
   ]
  },
  {
   "cell_type": "markdown",
   "metadata": {},
   "source": [
    "# Option 2 - remove per unit cost "
   ]
  },
  {
   "cell_type": "code",
   "execution_count": 56,
   "metadata": {},
   "outputs": [
    {
     "data": {
      "text/html": [
       "<div>\n",
       "<style scoped>\n",
       "    .dataframe tbody tr th:only-of-type {\n",
       "        vertical-align: middle;\n",
       "    }\n",
       "\n",
       "    .dataframe tbody tr th {\n",
       "        vertical-align: top;\n",
       "    }\n",
       "\n",
       "    .dataframe thead th {\n",
       "        text-align: right;\n",
       "    }\n",
       "</style>\n",
       "<table border=\"1\" class=\"dataframe\">\n",
       "  <thead>\n",
       "    <tr style=\"text-align: right;\">\n",
       "      <th></th>\n",
       "      <th>NumTimesBought</th>\n",
       "      <th>SumGrossValue</th>\n",
       "    </tr>\n",
       "  </thead>\n",
       "  <tbody>\n",
       "    <tr>\n",
       "      <th>0</th>\n",
       "      <td>-0.05</td>\n",
       "      <td>-0.06</td>\n",
       "    </tr>\n",
       "    <tr>\n",
       "      <th>1</th>\n",
       "      <td>-0.05</td>\n",
       "      <td>-0.06</td>\n",
       "    </tr>\n",
       "    <tr>\n",
       "      <th>2</th>\n",
       "      <td>-0.05</td>\n",
       "      <td>-0.06</td>\n",
       "    </tr>\n",
       "    <tr>\n",
       "      <th>3</th>\n",
       "      <td>-0.05</td>\n",
       "      <td>-0.06</td>\n",
       "    </tr>\n",
       "    <tr>\n",
       "      <th>4</th>\n",
       "      <td>-0.05</td>\n",
       "      <td>-0.06</td>\n",
       "    </tr>\n",
       "  </tbody>\n",
       "</table>\n",
       "</div>"
      ],
      "text/plain": [
       "   NumTimesBought  SumGrossValue\n",
       "0           -0.05          -0.06\n",
       "1           -0.05          -0.06\n",
       "2           -0.05          -0.06\n",
       "3           -0.05          -0.06\n",
       "4           -0.05          -0.06"
      ]
     },
     "execution_count": 56,
     "metadata": {},
     "output_type": "execute_result"
    }
   ],
   "source": [
    "# Scale data\n",
    "\n",
    "# df_t = df_sum.drop(['Short Text','AvgPerUnitCost'], axis='columns')\n",
    "# scaler = preprocessing.StandardScaler()\n",
    "# df_scaled = scaler.fit_transform(df_t) # its an array \n",
    "# df_scaled = pd.DataFrame(df_scaled, columns = df_t.columns) # convert back to data frame\n",
    "# df_scaled.head()\n",
    "\n",
    "df_scaled.drop(['AvgPerUnitCost'], axis='columns',inplace=True)\n",
    "df_scaled.head()"
   ]
  },
  {
   "cell_type": "markdown",
   "metadata": {},
   "source": [
    "# Clustering"
   ]
  },
  {
   "cell_type": "code",
   "execution_count": 57,
   "metadata": {},
   "outputs": [],
   "source": [
    "SSE = []\n",
    "for cluster in range(1,20):\n",
    "    kmeans = KMeans(n_clusters = cluster)\n",
    "    kmeans.fit(df_scaled)\n",
    "    SSE.append(kmeans.inertia_)"
   ]
  },
  {
   "cell_type": "code",
   "execution_count": 58,
   "metadata": {},
   "outputs": [],
   "source": [
    "df_t = pd.DataFrame({'Cluster':range(1,20), 'SSE':SSE})"
   ]
  },
  {
   "cell_type": "code",
   "execution_count": 59,
   "metadata": {},
   "outputs": [
    {
     "data": {
      "text/plain": [
       "Text(0, 0.5, 'Inertia')"
      ]
     },
     "execution_count": 59,
     "metadata": {},
     "output_type": "execute_result"
    },
    {
     "data": {
      "image/png": "[encoded data removed]",
      "text/plain": [
       "<Figure size 864x432 with 1 Axes>"
      ]
     },
     "metadata": {
      "needs_background": "light"
     },
     "output_type": "display_data"
    }
   ],
   "source": [
    "plt.figure(figsize=(12,6))\n",
    "plt.plot(df_t['Cluster'], df_t['SSE'], marker='o')\n",
    "plt.xlabel('Number of clusters')\n",
    "plt.ylabel('Inertia')"
   ]
  },
  {
   "cell_type": "markdown",
   "metadata": {},
   "source": [
    "# Cluster 2 "
   ]
  },
  {
   "cell_type": "code",
   "execution_count": 60,
   "metadata": {},
   "outputs": [
    {
     "data": {
      "text/html": [
       "<div>\n",
       "<style scoped>\n",
       "    .dataframe tbody tr th:only-of-type {\n",
       "        vertical-align: middle;\n",
       "    }\n",
       "\n",
       "    .dataframe tbody tr th {\n",
       "        vertical-align: top;\n",
       "    }\n",
       "\n",
       "    .dataframe thead th {\n",
       "        text-align: right;\n",
       "    }\n",
       "</style>\n",
       "<table border=\"1\" class=\"dataframe\">\n",
       "  <thead>\n",
       "    <tr style=\"text-align: right;\">\n",
       "      <th></th>\n",
       "      <th>NumTimesBought</th>\n",
       "      <th>SumGrossValue</th>\n",
       "    </tr>\n",
       "  </thead>\n",
       "  <tbody>\n",
       "    <tr>\n",
       "      <th>0</th>\n",
       "      <td>-0.05</td>\n",
       "      <td>-0.06</td>\n",
       "    </tr>\n",
       "    <tr>\n",
       "      <th>1</th>\n",
       "      <td>-0.05</td>\n",
       "      <td>-0.06</td>\n",
       "    </tr>\n",
       "    <tr>\n",
       "      <th>2</th>\n",
       "      <td>-0.05</td>\n",
       "      <td>-0.06</td>\n",
       "    </tr>\n",
       "    <tr>\n",
       "      <th>3</th>\n",
       "      <td>-0.05</td>\n",
       "      <td>-0.06</td>\n",
       "    </tr>\n",
       "    <tr>\n",
       "      <th>4</th>\n",
       "      <td>-0.05</td>\n",
       "      <td>-0.06</td>\n",
       "    </tr>\n",
       "  </tbody>\n",
       "</table>\n",
       "</div>"
      ],
      "text/plain": [
       "   NumTimesBought  SumGrossValue\n",
       "0           -0.05          -0.06\n",
       "1           -0.05          -0.06\n",
       "2           -0.05          -0.06\n",
       "3           -0.05          -0.06\n",
       "4           -0.05          -0.06"
      ]
     },
     "execution_count": 60,
     "metadata": {},
     "output_type": "execute_result"
    }
   ],
   "source": [
    "df_scaled.head()"
   ]
  },
  {
   "cell_type": "code",
   "execution_count": 61,
   "metadata": {},
   "outputs": [
    {
     "data": {
      "text/plain": [
       "KMeans(n_clusters=4)"
      ]
     },
     "execution_count": 61,
     "metadata": {},
     "output_type": "execute_result"
    }
   ],
   "source": [
    "km2 = KMeans(n_clusters = 4)\n",
    "km2.fit(df_scaled)"
   ]
  },
  {
   "cell_type": "code",
   "execution_count": 62,
   "metadata": {},
   "outputs": [
    {
     "data": {
      "text/plain": [
       "1114.7191941550313"
      ]
     },
     "execution_count": 62,
     "metadata": {},
     "output_type": "execute_result"
    }
   ],
   "source": [
    "km2.inertia_"
   ]
  },
  {
   "cell_type": "code",
   "execution_count": 63,
   "metadata": {},
   "outputs": [
    {
     "data": {
      "text/plain": [
       "4403.290301803926"
      ]
     },
     "execution_count": 63,
     "metadata": {},
     "output_type": "execute_result"
    }
   ],
   "source": [
    "km1.inertia_"
   ]
  },
  {
   "cell_type": "code",
   "execution_count": 64,
   "metadata": {},
   "outputs": [
    {
     "data": {
      "text/plain": [
       "2991.431226356612"
      ]
     },
     "execution_count": 64,
     "metadata": {},
     "output_type": "execute_result"
    }
   ],
   "source": [
    "km1_5.inertia_"
   ]
  },
  {
   "cell_type": "markdown",
   "metadata": {},
   "source": [
    "# Will use the cluster with lesser inertia - km2"
   ]
  },
  {
   "cell_type": "code",
   "execution_count": 65,
   "metadata": {},
   "outputs": [],
   "source": [
    "# Add the clusters Labels to the data frame\n",
    "df_sum['Cluster_km'] = km2.labels_"
   ]
  },
  {
   "cell_type": "code",
   "execution_count": 66,
   "metadata": {},
   "outputs": [
    {
     "data": {
      "text/plain": [
       "0    6222\n",
       "2      17\n",
       "3       7\n",
       "1       2\n",
       "Name: Cluster_km, dtype: int64"
      ]
     },
     "execution_count": 66,
     "metadata": {},
     "output_type": "execute_result"
    }
   ],
   "source": [
    "df_sum['Cluster_km'].value_counts()"
   ]
  },
  {
   "cell_type": "markdown",
   "metadata": {},
   "source": [
    "# Get summary - Average"
   ]
  },
  {
   "cell_type": "code",
   "execution_count": 67,
   "metadata": {},
   "outputs": [
    {
     "data": {
      "text/html": [
       "<div>\n",
       "<style scoped>\n",
       "    .dataframe tbody tr th:only-of-type {\n",
       "        vertical-align: middle;\n",
       "    }\n",
       "\n",
       "    .dataframe tbody tr th {\n",
       "        vertical-align: top;\n",
       "    }\n",
       "\n",
       "    .dataframe thead th {\n",
       "        text-align: right;\n",
       "    }\n",
       "</style>\n",
       "<table border=\"1\" class=\"dataframe\">\n",
       "  <thead>\n",
       "    <tr style=\"text-align: right;\">\n",
       "      <th></th>\n",
       "      <th>Short Text</th>\n",
       "      <th>NumTimesBought</th>\n",
       "      <th>SumGrossValue</th>\n",
       "      <th>AvgPerUnitCost</th>\n",
       "      <th>Cluster_km</th>\n",
       "    </tr>\n",
       "  </thead>\n",
       "  <tbody>\n",
       "    <tr>\n",
       "      <th>0</th>\n",
       "      <td>\"1/4 Ratchet 7-13mm Nuts</td>\n",
       "      <td>1</td>\n",
       "      <td>10250.00</td>\n",
       "      <td>1271.00</td>\n",
       "      <td>0</td>\n",
       "    </tr>\n",
       "    <tr>\n",
       "      <th>1</th>\n",
       "      <td>\"IND. Air Heating Ele. 2000 w ,240 V\"</td>\n",
       "      <td>1</td>\n",
       "      <td>9880.00</td>\n",
       "      <td>2470.00</td>\n",
       "      <td>0</td>\n",
       "    </tr>\n",
       "    <tr>\n",
       "      <th>2</th>\n",
       "      <td>'biquiti - AirGrid M5 Hi-Power 27dbi</td>\n",
       "      <td>1</td>\n",
       "      <td>14400.00</td>\n",
       "      <td>7200.00</td>\n",
       "      <td>0</td>\n",
       "    </tr>\n",
       "    <tr>\n",
       "      <th>3</th>\n",
       "      <td>0028330 Frt.Bonnet Hings Kabja LH Bolero</td>\n",
       "      <td>1</td>\n",
       "      <td>719.00</td>\n",
       "      <td>481.73</td>\n",
       "      <td>0</td>\n",
       "    </tr>\n",
       "    <tr>\n",
       "      <th>4</th>\n",
       "      <td>0028334 Frt.Bonnet Hings Kabja RH Bolero</td>\n",
       "      <td>1</td>\n",
       "      <td>3440.00</td>\n",
       "      <td>2304.80</td>\n",
       "      <td>0</td>\n",
       "    </tr>\n",
       "  </tbody>\n",
       "</table>\n",
       "</div>"
      ],
      "text/plain": [
       "                                 Short Text  NumTimesBought  SumGrossValue  \\\n",
       "0                  \"1/4 Ratchet 7-13mm Nuts               1       10250.00   \n",
       "1     \"IND. Air Heating Ele. 2000 w ,240 V\"               1        9880.00   \n",
       "2      'biquiti - AirGrid M5 Hi-Power 27dbi               1       14400.00   \n",
       "3  0028330 Frt.Bonnet Hings Kabja LH Bolero               1         719.00   \n",
       "4  0028334 Frt.Bonnet Hings Kabja RH Bolero               1        3440.00   \n",
       "\n",
       "   AvgPerUnitCost  Cluster_km  \n",
       "0         1271.00           0  \n",
       "1         2470.00           0  \n",
       "2         7200.00           0  \n",
       "3          481.73           0  \n",
       "4         2304.80           0  "
      ]
     },
     "execution_count": 67,
     "metadata": {},
     "output_type": "execute_result"
    }
   ],
   "source": [
    "df_sum.head()"
   ]
  },
  {
   "cell_type": "code",
   "execution_count": 68,
   "metadata": {},
   "outputs": [
    {
     "data": {
      "text/html": [
       "<div>\n",
       "<style scoped>\n",
       "    .dataframe tbody tr th:only-of-type {\n",
       "        vertical-align: middle;\n",
       "    }\n",
       "\n",
       "    .dataframe tbody tr th {\n",
       "        vertical-align: top;\n",
       "    }\n",
       "\n",
       "    .dataframe thead th {\n",
       "        text-align: right;\n",
       "    }\n",
       "</style>\n",
       "<table border=\"1\" class=\"dataframe\">\n",
       "  <thead>\n",
       "    <tr style=\"text-align: right;\">\n",
       "      <th></th>\n",
       "      <th>Cluster_km</th>\n",
       "      <th>NumMatInCluster</th>\n",
       "      <th>Avg_NumTimesBought</th>\n",
       "      <th>Sum_NumTimesBought</th>\n",
       "      <th>Avg_SumGrossValue</th>\n",
       "      <th>Sum_SumGrossValue</th>\n",
       "      <th>Avg_AvgPerUnitCost</th>\n",
       "    </tr>\n",
       "  </thead>\n",
       "  <tbody>\n",
       "    <tr>\n",
       "      <th>0</th>\n",
       "      <td>0</td>\n",
       "      <td>6222</td>\n",
       "      <td>3.47</td>\n",
       "      <td>21578</td>\n",
       "      <td>666028.51</td>\n",
       "      <td>4144029368.09</td>\n",
       "      <td>7716.94</td>\n",
       "    </tr>\n",
       "    <tr>\n",
       "      <th>1</th>\n",
       "      <td>1</td>\n",
       "      <td>2</td>\n",
       "      <td>7414.50</td>\n",
       "      <td>14829</td>\n",
       "      <td>2158315090.94</td>\n",
       "      <td>4316630181.88</td>\n",
       "      <td>29.67</td>\n",
       "    </tr>\n",
       "    <tr>\n",
       "      <th>2</th>\n",
       "      <td>2</td>\n",
       "      <td>17</td>\n",
       "      <td>112.94</td>\n",
       "      <td>1920</td>\n",
       "      <td>598180903.52</td>\n",
       "      <td>10169075359.91</td>\n",
       "      <td>4166.76</td>\n",
       "    </tr>\n",
       "    <tr>\n",
       "      <th>3</th>\n",
       "      <td>3</td>\n",
       "      <td>7</td>\n",
       "      <td>3098.86</td>\n",
       "      <td>21692</td>\n",
       "      <td>726667416.12</td>\n",
       "      <td>5086671912.86</td>\n",
       "      <td>15798.82</td>\n",
       "    </tr>\n",
       "  </tbody>\n",
       "</table>\n",
       "</div>"
      ],
      "text/plain": [
       "   Cluster_km  NumMatInCluster  Avg_NumTimesBought  Sum_NumTimesBought  \\\n",
       "0           0             6222                3.47               21578   \n",
       "1           1                2             7414.50               14829   \n",
       "2           2               17              112.94                1920   \n",
       "3           3                7             3098.86               21692   \n",
       "\n",
       "   Avg_SumGrossValue  Sum_SumGrossValue  Avg_AvgPerUnitCost  \n",
       "0          666028.51      4144029368.09             7716.94  \n",
       "1      2158315090.94      4316630181.88               29.67  \n",
       "2       598180903.52     10169075359.91             4166.76  \n",
       "3       726667416.12      5086671912.86            15798.82  "
      ]
     },
     "execution_count": 68,
     "metadata": {},
     "output_type": "execute_result"
    }
   ],
   "source": [
    "df_km_sum = df_sum.groupby('Cluster_km',as_index=False).agg(\n",
    "    NumMatInCluster=('NumTimesBought','count'),\n",
    "    Avg_NumTimesBought=('NumTimesBought','mean'),\n",
    "    Sum_NumTimesBought=('NumTimesBought','sum'),\n",
    "    Avg_SumGrossValue=('SumGrossValue','mean'),\n",
    "    Sum_SumGrossValue=('SumGrossValue','sum'),\n",
    "    Avg_AvgPerUnitCost = ('AvgPerUnitCost','mean'),\n",
    ")\n",
    "\n",
    "df_km_sum"
   ]
  },
  {
   "cell_type": "markdown",
   "metadata": {},
   "source": [
    "# Explore  more (  km2 ) "
   ]
  },
  {
   "cell_type": "code",
   "execution_count": 69,
   "metadata": {},
   "outputs": [
    {
     "data": {
      "text/html": [
       "<div>\n",
       "<style scoped>\n",
       "    .dataframe tbody tr th:only-of-type {\n",
       "        vertical-align: middle;\n",
       "    }\n",
       "\n",
       "    .dataframe tbody tr th {\n",
       "        vertical-align: top;\n",
       "    }\n",
       "\n",
       "    .dataframe thead th {\n",
       "        text-align: right;\n",
       "    }\n",
       "</style>\n",
       "<table border=\"1\" class=\"dataframe\">\n",
       "  <thead>\n",
       "    <tr style=\"text-align: right;\">\n",
       "      <th></th>\n",
       "      <th>Short Text</th>\n",
       "      <th>NumTimesBought</th>\n",
       "      <th>SumGrossValue</th>\n",
       "      <th>AvgPerUnitCost</th>\n",
       "      <th>Cluster_km</th>\n",
       "    </tr>\n",
       "  </thead>\n",
       "  <tbody>\n",
       "    <tr>\n",
       "      <th>0</th>\n",
       "      <td>\"1/4 Ratchet 7-13mm Nuts</td>\n",
       "      <td>1</td>\n",
       "      <td>10250.00</td>\n",
       "      <td>1271.00</td>\n",
       "      <td>0</td>\n",
       "    </tr>\n",
       "    <tr>\n",
       "      <th>1</th>\n",
       "      <td>\"IND. Air Heating Ele. 2000 w ,240 V\"</td>\n",
       "      <td>1</td>\n",
       "      <td>9880.00</td>\n",
       "      <td>2470.00</td>\n",
       "      <td>0</td>\n",
       "    </tr>\n",
       "    <tr>\n",
       "      <th>2</th>\n",
       "      <td>'biquiti - AirGrid M5 Hi-Power 27dbi</td>\n",
       "      <td>1</td>\n",
       "      <td>14400.00</td>\n",
       "      <td>7200.00</td>\n",
       "      <td>0</td>\n",
       "    </tr>\n",
       "    <tr>\n",
       "      <th>3</th>\n",
       "      <td>0028330 Frt.Bonnet Hings Kabja LH Bolero</td>\n",
       "      <td>1</td>\n",
       "      <td>719.00</td>\n",
       "      <td>481.73</td>\n",
       "      <td>0</td>\n",
       "    </tr>\n",
       "    <tr>\n",
       "      <th>4</th>\n",
       "      <td>0028334 Frt.Bonnet Hings Kabja RH Bolero</td>\n",
       "      <td>1</td>\n",
       "      <td>3440.00</td>\n",
       "      <td>2304.80</td>\n",
       "      <td>0</td>\n",
       "    </tr>\n",
       "  </tbody>\n",
       "</table>\n",
       "</div>"
      ],
      "text/plain": [
       "                                 Short Text  NumTimesBought  SumGrossValue  \\\n",
       "0                  \"1/4 Ratchet 7-13mm Nuts               1       10250.00   \n",
       "1     \"IND. Air Heating Ele. 2000 w ,240 V\"               1        9880.00   \n",
       "2      'biquiti - AirGrid M5 Hi-Power 27dbi               1       14400.00   \n",
       "3  0028330 Frt.Bonnet Hings Kabja LH Bolero               1         719.00   \n",
       "4  0028334 Frt.Bonnet Hings Kabja RH Bolero               1        3440.00   \n",
       "\n",
       "   AvgPerUnitCost  Cluster_km  \n",
       "0         1271.00           0  \n",
       "1         2470.00           0  \n",
       "2         7200.00           0  \n",
       "3          481.73           0  \n",
       "4         2304.80           0  "
      ]
     },
     "execution_count": 69,
     "metadata": {},
     "output_type": "execute_result"
    }
   ],
   "source": [
    "df_sum[df_sum['Cluster_km'] == 0].head()"
   ]
  },
  {
   "cell_type": "code",
   "execution_count": 70,
   "metadata": {},
   "outputs": [
    {
     "data": {
      "text/html": [
       "<div>\n",
       "<style scoped>\n",
       "    .dataframe tbody tr th:only-of-type {\n",
       "        vertical-align: middle;\n",
       "    }\n",
       "\n",
       "    .dataframe tbody tr th {\n",
       "        vertical-align: top;\n",
       "    }\n",
       "\n",
       "    .dataframe thead th {\n",
       "        text-align: right;\n",
       "    }\n",
       "</style>\n",
       "<table border=\"1\" class=\"dataframe\">\n",
       "  <thead>\n",
       "    <tr style=\"text-align: right;\">\n",
       "      <th></th>\n",
       "      <th>Short Text</th>\n",
       "      <th>NumTimesBought</th>\n",
       "      <th>SumGrossValue</th>\n",
       "      <th>AvgPerUnitCost</th>\n",
       "      <th>Cluster_km</th>\n",
       "    </tr>\n",
       "  </thead>\n",
       "  <tbody>\n",
       "    <tr>\n",
       "      <th>3110</th>\n",
       "      <td>IB Ross Broiler Finisher Feed</td>\n",
       "      <td>7864</td>\n",
       "      <td>2484004973.38</td>\n",
       "      <td>29.04</td>\n",
       "      <td>1</td>\n",
       "    </tr>\n",
       "    <tr>\n",
       "      <th>3112</th>\n",
       "      <td>IB Ross Broiler Starter Feed</td>\n",
       "      <td>6965</td>\n",
       "      <td>1832625208.50</td>\n",
       "      <td>30.29</td>\n",
       "      <td>1</td>\n",
       "    </tr>\n",
       "  </tbody>\n",
       "</table>\n",
       "</div>"
      ],
      "text/plain": [
       "                         Short Text  NumTimesBought  SumGrossValue  \\\n",
       "3110  IB Ross Broiler Finisher Feed            7864  2484004973.38   \n",
       "3112   IB Ross Broiler Starter Feed            6965  1832625208.50   \n",
       "\n",
       "      AvgPerUnitCost  Cluster_km  \n",
       "3110           29.04           1  \n",
       "3112           30.29           1  "
      ]
     },
     "execution_count": 70,
     "metadata": {},
     "output_type": "execute_result"
    }
   ],
   "source": [
    "df_sum[df_sum['Cluster_km'] == 1]"
   ]
  },
  {
   "cell_type": "code",
   "execution_count": 71,
   "metadata": {},
   "outputs": [
    {
     "data": {
      "text/html": [
       "<div>\n",
       "<style scoped>\n",
       "    .dataframe tbody tr th:only-of-type {\n",
       "        vertical-align: middle;\n",
       "    }\n",
       "\n",
       "    .dataframe tbody tr th {\n",
       "        vertical-align: top;\n",
       "    }\n",
       "\n",
       "    .dataframe thead th {\n",
       "        text-align: right;\n",
       "    }\n",
       "</style>\n",
       "<table border=\"1\" class=\"dataframe\">\n",
       "  <thead>\n",
       "    <tr style=\"text-align: right;\">\n",
       "      <th></th>\n",
       "      <th>Short Text</th>\n",
       "      <th>NumTimesBought</th>\n",
       "      <th>SumGrossValue</th>\n",
       "      <th>AvgPerUnitCost</th>\n",
       "      <th>Cluster_km</th>\n",
       "    </tr>\n",
       "  </thead>\n",
       "  <tbody>\n",
       "    <tr>\n",
       "      <th>876</th>\n",
       "      <td>B1 IB Ross Feed</td>\n",
       "      <td>57</td>\n",
       "      <td>820581512.40</td>\n",
       "      <td>29.14</td>\n",
       "      <td>2</td>\n",
       "    </tr>\n",
       "    <tr>\n",
       "      <th>877</th>\n",
       "      <td>B2 IB Ross Feed</td>\n",
       "      <td>44</td>\n",
       "      <td>631991204.70</td>\n",
       "      <td>27.61</td>\n",
       "      <td>2</td>\n",
       "    </tr>\n",
       "    <tr>\n",
       "      <th>878</th>\n",
       "      <td>B3 IB Ross Feed</td>\n",
       "      <td>39</td>\n",
       "      <td>636587726.50</td>\n",
       "      <td>26.24</td>\n",
       "      <td>2</td>\n",
       "    </tr>\n",
       "    <tr>\n",
       "      <th>880</th>\n",
       "      <td>B4 IB Ross Feed</td>\n",
       "      <td>34</td>\n",
       "      <td>1054080000.00</td>\n",
       "      <td>27.03</td>\n",
       "      <td>2</td>\n",
       "    </tr>\n",
       "    <tr>\n",
       "      <th>1337</th>\n",
       "      <td>C2</td>\n",
       "      <td>18</td>\n",
       "      <td>369002000.00</td>\n",
       "      <td>24.19</td>\n",
       "      <td>2</td>\n",
       "    </tr>\n",
       "  </tbody>\n",
       "</table>\n",
       "</div>"
      ],
      "text/plain": [
       "           Short Text  NumTimesBought  SumGrossValue  AvgPerUnitCost  \\\n",
       "876   B1 IB Ross Feed              57   820581512.40           29.14   \n",
       "877   B2 IB Ross Feed              44   631991204.70           27.61   \n",
       "878   B3 IB Ross Feed              39   636587726.50           26.24   \n",
       "880   B4 IB Ross Feed              34  1054080000.00           27.03   \n",
       "1337               C2              18   369002000.00           24.19   \n",
       "\n",
       "      Cluster_km  \n",
       "876            2  \n",
       "877            2  \n",
       "878            2  \n",
       "880            2  \n",
       "1337           2  "
      ]
     },
     "execution_count": 71,
     "metadata": {},
     "output_type": "execute_result"
    }
   ],
   "source": [
    "df_sum[df_sum['Cluster_km'] == 2].head()"
   ]
  },
  {
   "cell_type": "code",
   "execution_count": 72,
   "metadata": {},
   "outputs": [
    {
     "data": {
      "text/html": [
       "<div>\n",
       "<style scoped>\n",
       "    .dataframe tbody tr th:only-of-type {\n",
       "        vertical-align: middle;\n",
       "    }\n",
       "\n",
       "    .dataframe tbody tr th {\n",
       "        vertical-align: top;\n",
       "    }\n",
       "\n",
       "    .dataframe thead th {\n",
       "        text-align: right;\n",
       "    }\n",
       "</style>\n",
       "<table border=\"1\" class=\"dataframe\">\n",
       "  <thead>\n",
       "    <tr style=\"text-align: right;\">\n",
       "      <th></th>\n",
       "      <th>Short Text</th>\n",
       "      <th>NumTimesBought</th>\n",
       "      <th>SumGrossValue</th>\n",
       "      <th>AvgPerUnitCost</th>\n",
       "      <th>Cluster_km</th>\n",
       "    </tr>\n",
       "  </thead>\n",
       "  <tbody>\n",
       "    <tr>\n",
       "      <th>3111</th>\n",
       "      <td>IB Ross Broiler Pre-Starter Feed</td>\n",
       "      <td>5280</td>\n",
       "      <td>881006742.00</td>\n",
       "      <td>31.71</td>\n",
       "      <td>3</td>\n",
       "    </tr>\n",
       "    <tr>\n",
       "      <th>3673</th>\n",
       "      <td>Maize</td>\n",
       "      <td>2328</td>\n",
       "      <td>929928411.41</td>\n",
       "      <td>17.80</td>\n",
       "      <td>3</td>\n",
       "    </tr>\n",
       "    <tr>\n",
       "      <th>4997</th>\n",
       "      <td>Rice Bran Boiled</td>\n",
       "      <td>3838</td>\n",
       "      <td>247969115.24</td>\n",
       "      <td>21.07</td>\n",
       "      <td>3</td>\n",
       "    </tr>\n",
       "    <tr>\n",
       "      <th>4999</th>\n",
       "      <td>Rice Bran Raw</td>\n",
       "      <td>2674</td>\n",
       "      <td>147438214.48</td>\n",
       "      <td>19.01</td>\n",
       "      <td>3</td>\n",
       "    </tr>\n",
       "    <tr>\n",
       "      <th>5399</th>\n",
       "      <td>Soya Bean</td>\n",
       "      <td>2672</td>\n",
       "      <td>542905344.06</td>\n",
       "      <td>35946.06</td>\n",
       "      <td>3</td>\n",
       "    </tr>\n",
       "    <tr>\n",
       "      <th>5400</th>\n",
       "      <td>Soya Bean - (A)</td>\n",
       "      <td>2130</td>\n",
       "      <td>1041177465.28</td>\n",
       "      <td>37573.95</td>\n",
       "      <td>3</td>\n",
       "    </tr>\n",
       "    <tr>\n",
       "      <th>5402</th>\n",
       "      <td>Soya Bean - (MP)</td>\n",
       "      <td>2770</td>\n",
       "      <td>1296246620.39</td>\n",
       "      <td>36982.17</td>\n",
       "      <td>3</td>\n",
       "    </tr>\n",
       "  </tbody>\n",
       "</table>\n",
       "</div>"
      ],
      "text/plain": [
       "                            Short Text  NumTimesBought  SumGrossValue  \\\n",
       "3111  IB Ross Broiler Pre-Starter Feed            5280   881006742.00   \n",
       "3673                             Maize            2328   929928411.41   \n",
       "4997                  Rice Bran Boiled            3838   247969115.24   \n",
       "4999                     Rice Bran Raw            2674   147438214.48   \n",
       "5399                         Soya Bean            2672   542905344.06   \n",
       "5400                   Soya Bean - (A)            2130  1041177465.28   \n",
       "5402                  Soya Bean - (MP)            2770  1296246620.39   \n",
       "\n",
       "      AvgPerUnitCost  Cluster_km  \n",
       "3111           31.71           3  \n",
       "3673           17.80           3  \n",
       "4997           21.07           3  \n",
       "4999           19.01           3  \n",
       "5399        35946.06           3  \n",
       "5400        37573.95           3  \n",
       "5402        36982.17           3  "
      ]
     },
     "execution_count": 72,
     "metadata": {},
     "output_type": "execute_result"
    }
   ],
   "source": [
    "df_sum[df_sum['Cluster_km'] == 3]"
   ]
  },
  {
   "cell_type": "markdown",
   "metadata": {},
   "source": [
    "# Visualization"
   ]
  },
  {
   "cell_type": "code",
   "execution_count": 73,
   "metadata": {},
   "outputs": [
    {
     "data": {
      "text/plain": [
       "Index(['Short Text', 'NumTimesBought', 'SumGrossValue', 'AvgPerUnitCost',\n",
       "       'Cluster_km'],\n",
       "      dtype='object')"
      ]
     },
     "execution_count": 73,
     "metadata": {},
     "output_type": "execute_result"
    }
   ],
   "source": [
    "df_sum.columns"
   ]
  },
  {
   "cell_type": "code",
   "execution_count": 74,
   "metadata": {},
   "outputs": [
    {
     "data": {
      "image/png": "[encoded data removed]",
      "text/plain": [
       "<Figure size 864x432 with 1 Axes>"
      ]
     },
     "metadata": {
      "needs_background": "light"
     },
     "output_type": "display_data"
    }
   ],
   "source": [
    "plt.figure(figsize = (12, 6))\n",
    "sns.scatterplot(data=df_sum, x=\"NumTimesBought\", y=\"SumGrossValue\", hue=\"Cluster_km\",palette=\"bright\",s=500);"
   ]
  },
  {
   "cell_type": "code",
   "execution_count": 75,
   "metadata": {},
   "outputs": [
    {
     "data": {
      "image/png": "[encoded data removed]",
      "text/plain": [
       "<Figure size 872x216 with 4 Axes>"
      ]
     },
     "metadata": {
      "needs_background": "light"
     },
     "output_type": "display_data"
    }
   ],
   "source": [
    "g = sns.FacetGrid(df_sum, col='Cluster_km')\n",
    "g.map(sns.scatterplot, \"NumTimesBought\", \"SumGrossValue\", s=100, alpha=.8,color='red',x_jitter=.1)\n",
    "g.add_legend();"
   ]
  },
  {
   "cell_type": "code",
   "execution_count": 76,
   "metadata": {},
   "outputs": [
    {
     "name": "stdout",
     "output_type": "stream",
     "text": [
      "Variable     Type         Data/Info\n",
      "-----------------------------------\n",
      "df           DataFrame           Purch.Doc.  Item  <...>[61870 rows x 43 columns]\n",
      "df_cluster   DataFrame           Purch.Doc.  Item  <...>[60019 rows x 43 columns]\n",
      "df_km_sum    DataFrame       Cluster_km  NumMatInCl<...>.86            15798.82  \n",
      "df_scaled    DataFrame          NumTimesBought  Sum<...>\\n[6248 rows x 2 columns]\n",
      "df_sum       DataFrame                             <...>\\n[6248 rows x 5 columns]\n",
      "df_t         DataFrame        Cluster      SSE\\n0  <...>.85\\n18       19    32.64\n"
     ]
    }
   ],
   "source": [
    "%whos DataFrame"
   ]
  },
  {
   "cell_type": "code",
   "execution_count": 77,
   "metadata": {},
   "outputs": [
    {
     "data": {
      "text/plain": [
       "Index(['Short Text', 'NumTimesBought', 'SumGrossValue', 'AvgPerUnitCost',\n",
       "       'Cluster_km'],\n",
       "      dtype='object')"
      ]
     },
     "execution_count": 77,
     "metadata": {},
     "output_type": "execute_result"
    }
   ],
   "source": [
    "df_sum.columns"
   ]
  },
  {
   "cell_type": "markdown",
   "metadata": {},
   "source": [
    "# Add the cluster value in  the raw/cleaned file and write the files"
   ]
  },
  {
   "cell_type": "code",
   "execution_count": 78,
   "metadata": {},
   "outputs": [
    {
     "data": {
      "text/plain": [
       "(61870, 43)"
      ]
     },
     "execution_count": 78,
     "metadata": {},
     "output_type": "execute_result"
    }
   ],
   "source": [
    "df.shape"
   ]
  },
  {
   "cell_type": "code",
   "execution_count": 79,
   "metadata": {},
   "outputs": [
    {
     "data": {
      "text/plain": [
       "(61870, 47)"
      ]
     },
     "execution_count": 79,
     "metadata": {},
     "output_type": "execute_result"
    }
   ],
   "source": [
    "df_info = df.merge(df_sum, on='Short Text', how='left')\n",
    "df_info.shape"
   ]
  },
  {
   "cell_type": "code",
   "execution_count": 80,
   "metadata": {},
   "outputs": [],
   "source": [
    "# Write the files \n",
    "df_info.to_csv(\"preprocessing/SA_clean_withClusterResults.csv\", index=False)"
   ]
  },
  {
   "cell_type": "markdown",
   "metadata": {},
   "source": [
    "# Algo clustering"
   ]
  },
  {
   "cell_type": "code",
   "execution_count": 81,
   "metadata": {},
   "outputs": [
    {
     "data": {
      "text/html": [
       "<div>\n",
       "<style scoped>\n",
       "    .dataframe tbody tr th:only-of-type {\n",
       "        vertical-align: middle;\n",
       "    }\n",
       "\n",
       "    .dataframe tbody tr th {\n",
       "        vertical-align: top;\n",
       "    }\n",
       "\n",
       "    .dataframe thead th {\n",
       "        text-align: right;\n",
       "    }\n",
       "</style>\n",
       "<table border=\"1\" class=\"dataframe\">\n",
       "  <thead>\n",
       "    <tr style=\"text-align: right;\">\n",
       "      <th></th>\n",
       "      <th>Short Text</th>\n",
       "      <th>NumTimesBought</th>\n",
       "      <th>SumGrossValue</th>\n",
       "      <th>AvgPerUnitCost</th>\n",
       "      <th>Cluster_km</th>\n",
       "    </tr>\n",
       "  </thead>\n",
       "  <tbody>\n",
       "    <tr>\n",
       "      <th>0</th>\n",
       "      <td>\"1/4 Ratchet 7-13mm Nuts</td>\n",
       "      <td>1</td>\n",
       "      <td>10250.00</td>\n",
       "      <td>1271.00</td>\n",
       "      <td>0</td>\n",
       "    </tr>\n",
       "    <tr>\n",
       "      <th>1</th>\n",
       "      <td>\"IND. Air Heating Ele. 2000 w ,240 V\"</td>\n",
       "      <td>1</td>\n",
       "      <td>9880.00</td>\n",
       "      <td>2470.00</td>\n",
       "      <td>0</td>\n",
       "    </tr>\n",
       "    <tr>\n",
       "      <th>2</th>\n",
       "      <td>'biquiti - AirGrid M5 Hi-Power 27dbi</td>\n",
       "      <td>1</td>\n",
       "      <td>14400.00</td>\n",
       "      <td>7200.00</td>\n",
       "      <td>0</td>\n",
       "    </tr>\n",
       "    <tr>\n",
       "      <th>3</th>\n",
       "      <td>0028330 Frt.Bonnet Hings Kabja LH Bolero</td>\n",
       "      <td>1</td>\n",
       "      <td>719.00</td>\n",
       "      <td>481.73</td>\n",
       "      <td>0</td>\n",
       "    </tr>\n",
       "    <tr>\n",
       "      <th>4</th>\n",
       "      <td>0028334 Frt.Bonnet Hings Kabja RH Bolero</td>\n",
       "      <td>1</td>\n",
       "      <td>3440.00</td>\n",
       "      <td>2304.80</td>\n",
       "      <td>0</td>\n",
       "    </tr>\n",
       "  </tbody>\n",
       "</table>\n",
       "</div>"
      ],
      "text/plain": [
       "                                 Short Text  NumTimesBought  SumGrossValue  \\\n",
       "0                  \"1/4 Ratchet 7-13mm Nuts               1       10250.00   \n",
       "1     \"IND. Air Heating Ele. 2000 w ,240 V\"               1        9880.00   \n",
       "2      'biquiti - AirGrid M5 Hi-Power 27dbi               1       14400.00   \n",
       "3  0028330 Frt.Bonnet Hings Kabja LH Bolero               1         719.00   \n",
       "4  0028334 Frt.Bonnet Hings Kabja RH Bolero               1        3440.00   \n",
       "\n",
       "   AvgPerUnitCost  Cluster_km  \n",
       "0         1271.00           0  \n",
       "1         2470.00           0  \n",
       "2         7200.00           0  \n",
       "3          481.73           0  \n",
       "4         2304.80           0  "
      ]
     },
     "execution_count": 81,
     "metadata": {},
     "output_type": "execute_result"
    }
   ],
   "source": [
    "df_sum.head()"
   ]
  },
  {
   "cell_type": "code",
   "execution_count": 82,
   "metadata": {},
   "outputs": [
    {
     "data": {
      "text/html": [
       "<div>\n",
       "<style scoped>\n",
       "    .dataframe tbody tr th:only-of-type {\n",
       "        vertical-align: middle;\n",
       "    }\n",
       "\n",
       "    .dataframe tbody tr th {\n",
       "        vertical-align: top;\n",
       "    }\n",
       "\n",
       "    .dataframe thead th {\n",
       "        text-align: right;\n",
       "    }\n",
       "</style>\n",
       "<table border=\"1\" class=\"dataframe\">\n",
       "  <thead>\n",
       "    <tr style=\"text-align: right;\">\n",
       "      <th></th>\n",
       "      <th>NumTimesBought</th>\n",
       "      <th>SumGrossValue</th>\n",
       "    </tr>\n",
       "  </thead>\n",
       "  <tbody>\n",
       "    <tr>\n",
       "      <th>0</th>\n",
       "      <td>-0.05</td>\n",
       "      <td>-0.06</td>\n",
       "    </tr>\n",
       "    <tr>\n",
       "      <th>1</th>\n",
       "      <td>-0.05</td>\n",
       "      <td>-0.06</td>\n",
       "    </tr>\n",
       "    <tr>\n",
       "      <th>2</th>\n",
       "      <td>-0.05</td>\n",
       "      <td>-0.06</td>\n",
       "    </tr>\n",
       "    <tr>\n",
       "      <th>3</th>\n",
       "      <td>-0.05</td>\n",
       "      <td>-0.06</td>\n",
       "    </tr>\n",
       "    <tr>\n",
       "      <th>4</th>\n",
       "      <td>-0.05</td>\n",
       "      <td>-0.06</td>\n",
       "    </tr>\n",
       "  </tbody>\n",
       "</table>\n",
       "</div>"
      ],
      "text/plain": [
       "   NumTimesBought  SumGrossValue\n",
       "0           -0.05          -0.06\n",
       "1           -0.05          -0.06\n",
       "2           -0.05          -0.06\n",
       "3           -0.05          -0.06\n",
       "4           -0.05          -0.06"
      ]
     },
     "execution_count": 82,
     "metadata": {},
     "output_type": "execute_result"
    }
   ],
   "source": [
    "df_t = df_sum.drop(['Short Text','AvgPerUnitCost','Cluster_km'], axis='columns')\n",
    "scaler = preprocessing.StandardScaler()\n",
    "df_scaled = scaler.fit_transform(df_t) # its an array \n",
    "df_scaled = pd.DataFrame(df_scaled, columns = df_t.columns) # convert back to data frame\n",
    "df_scaled.head()"
   ]
  },
  {
   "cell_type": "code",
   "execution_count": 83,
   "metadata": {},
   "outputs": [],
   "source": [
    "agglomirative = AgglomerativeClustering()"
   ]
  },
  {
   "cell_type": "code",
   "execution_count": 84,
   "metadata": {},
   "outputs": [],
   "source": [
    "clusters = agglomirative.fit(df_scaled)"
   ]
  },
  {
   "cell_type": "code",
   "execution_count": 85,
   "metadata": {},
   "outputs": [],
   "source": [
    "def plot_dendrogram(model):\n",
    "    # Children of hierarchical clustering\n",
    "    children = model.children_\n",
    "\n",
    "    # Distances between each pair of children\n",
    "    # Since we don't have this information, we can use a uniform one for plotting\n",
    "    distance = np.arange(children.shape[0])\n",
    "\n",
    "    # The number of observations contained in each cluster level\n",
    "    no_of_observations = np.arange(2, children.shape[0]+2)\n",
    "\n",
    "    # Create linkage matrix and then plot the dendrogram\n",
    "    linkage_matrix = np.column_stack([children, distance, no_of_observations]).astype(float)\n",
    "\n",
    "    # Plot the corresponding dendrogram\n",
    "    dendrogram(linkage_matrix)"
   ]
  },
  {
   "cell_type": "code",
   "execution_count": 86,
   "metadata": {},
   "outputs": [
    {
     "data": {
      "image/png": "[encoded data removed]",
      "text/plain": [
       "<Figure size 2160x2160 with 1 Axes>"
      ]
     },
     "metadata": {
      "needs_background": "light"
     },
     "output_type": "display_data"
    }
   ],
   "source": [
    "plt.figure(figsize=(30,30))\n",
    "plt.title('Hierarchical Clustering Dendrogram')\n",
    "plot_dendrogram(clusters)"
   ]
  },
  {
   "cell_type": "code",
   "execution_count": 87,
   "metadata": {},
   "outputs": [],
   "source": [
    "# Difficult to make out how many clusters to me made from this, lets go with 4 "
   ]
  },
  {
   "cell_type": "code",
   "execution_count": 88,
   "metadata": {},
   "outputs": [],
   "source": [
    "agglomirative4 = AgglomerativeClustering(n_clusters=4)\n",
    "agglomirative_clusters = agglomirative4.fit(df_scaled)"
   ]
  },
  {
   "cell_type": "code",
   "execution_count": 89,
   "metadata": {},
   "outputs": [
    {
     "data": {
      "text/plain": [
       "array([2, 2, 2, ..., 2, 2, 2], dtype=int64)"
      ]
     },
     "execution_count": 89,
     "metadata": {},
     "output_type": "execute_result"
    }
   ],
   "source": [
    "agglomirative_clusters.labels_"
   ]
  },
  {
   "cell_type": "code",
   "execution_count": 90,
   "metadata": {},
   "outputs": [
    {
     "data": {
      "text/plain": [
       "<bound method BaseEstimator.get_params of AgglomerativeClustering(n_clusters=4)>"
      ]
     },
     "execution_count": 90,
     "metadata": {},
     "output_type": "execute_result"
    }
   ],
   "source": [
    "agglomirative_clusters.get_params"
   ]
  },
  {
   "cell_type": "code",
   "execution_count": 91,
   "metadata": {},
   "outputs": [],
   "source": [
    "# Add the clusters to the data frame\n",
    "df_sum['Cluster_agg'] = agglomirative_clusters.labels_"
   ]
  },
  {
   "cell_type": "code",
   "execution_count": 92,
   "metadata": {},
   "outputs": [
    {
     "data": {
      "text/html": [
       "<div>\n",
       "<style scoped>\n",
       "    .dataframe tbody tr th:only-of-type {\n",
       "        vertical-align: middle;\n",
       "    }\n",
       "\n",
       "    .dataframe tbody tr th {\n",
       "        vertical-align: top;\n",
       "    }\n",
       "\n",
       "    .dataframe thead th {\n",
       "        text-align: right;\n",
       "    }\n",
       "</style>\n",
       "<table border=\"1\" class=\"dataframe\">\n",
       "  <thead>\n",
       "    <tr style=\"text-align: right;\">\n",
       "      <th></th>\n",
       "      <th>Short Text</th>\n",
       "      <th>NumTimesBought</th>\n",
       "      <th>SumGrossValue</th>\n",
       "      <th>AvgPerUnitCost</th>\n",
       "      <th>Cluster_km</th>\n",
       "      <th>Cluster_agg</th>\n",
       "    </tr>\n",
       "  </thead>\n",
       "  <tbody>\n",
       "    <tr>\n",
       "      <th>0</th>\n",
       "      <td>\"1/4 Ratchet 7-13mm Nuts</td>\n",
       "      <td>1</td>\n",
       "      <td>10250.00</td>\n",
       "      <td>1271.00</td>\n",
       "      <td>0</td>\n",
       "      <td>2</td>\n",
       "    </tr>\n",
       "    <tr>\n",
       "      <th>1</th>\n",
       "      <td>\"IND. Air Heating Ele. 2000 w ,240 V\"</td>\n",
       "      <td>1</td>\n",
       "      <td>9880.00</td>\n",
       "      <td>2470.00</td>\n",
       "      <td>0</td>\n",
       "      <td>2</td>\n",
       "    </tr>\n",
       "    <tr>\n",
       "      <th>2</th>\n",
       "      <td>'biquiti - AirGrid M5 Hi-Power 27dbi</td>\n",
       "      <td>1</td>\n",
       "      <td>14400.00</td>\n",
       "      <td>7200.00</td>\n",
       "      <td>0</td>\n",
       "      <td>2</td>\n",
       "    </tr>\n",
       "    <tr>\n",
       "      <th>3</th>\n",
       "      <td>0028330 Frt.Bonnet Hings Kabja LH Bolero</td>\n",
       "      <td>1</td>\n",
       "      <td>719.00</td>\n",
       "      <td>481.73</td>\n",
       "      <td>0</td>\n",
       "      <td>2</td>\n",
       "    </tr>\n",
       "    <tr>\n",
       "      <th>4</th>\n",
       "      <td>0028334 Frt.Bonnet Hings Kabja RH Bolero</td>\n",
       "      <td>1</td>\n",
       "      <td>3440.00</td>\n",
       "      <td>2304.80</td>\n",
       "      <td>0</td>\n",
       "      <td>2</td>\n",
       "    </tr>\n",
       "  </tbody>\n",
       "</table>\n",
       "</div>"
      ],
      "text/plain": [
       "                                 Short Text  NumTimesBought  SumGrossValue  \\\n",
       "0                  \"1/4 Ratchet 7-13mm Nuts               1       10250.00   \n",
       "1     \"IND. Air Heating Ele. 2000 w ,240 V\"               1        9880.00   \n",
       "2      'biquiti - AirGrid M5 Hi-Power 27dbi               1       14400.00   \n",
       "3  0028330 Frt.Bonnet Hings Kabja LH Bolero               1         719.00   \n",
       "4  0028334 Frt.Bonnet Hings Kabja RH Bolero               1        3440.00   \n",
       "\n",
       "   AvgPerUnitCost  Cluster_km  Cluster_agg  \n",
       "0         1271.00           0            2  \n",
       "1         2470.00           0            2  \n",
       "2         7200.00           0            2  \n",
       "3          481.73           0            2  \n",
       "4         2304.80           0            2  "
      ]
     },
     "execution_count": 92,
     "metadata": {},
     "output_type": "execute_result"
    }
   ],
   "source": [
    "df_sum.head()"
   ]
  },
  {
   "cell_type": "code",
   "execution_count": 93,
   "metadata": {},
   "outputs": [
    {
     "data": {
      "text/plain": [
       "2    6216\n",
       "0      23\n",
       "1       7\n",
       "3       2\n",
       "Name: Cluster_agg, dtype: int64"
      ]
     },
     "execution_count": 93,
     "metadata": {},
     "output_type": "execute_result"
    }
   ],
   "source": [
    "df_sum['Cluster_agg'].value_counts()"
   ]
  },
  {
   "cell_type": "code",
   "execution_count": 94,
   "metadata": {},
   "outputs": [
    {
     "data": {
      "text/html": [
       "<div>\n",
       "<style scoped>\n",
       "    .dataframe tbody tr th:only-of-type {\n",
       "        vertical-align: middle;\n",
       "    }\n",
       "\n",
       "    .dataframe tbody tr th {\n",
       "        vertical-align: top;\n",
       "    }\n",
       "\n",
       "    .dataframe thead th {\n",
       "        text-align: right;\n",
       "    }\n",
       "</style>\n",
       "<table border=\"1\" class=\"dataframe\">\n",
       "  <thead>\n",
       "    <tr style=\"text-align: right;\">\n",
       "      <th></th>\n",
       "      <th>Cluster_agg</th>\n",
       "      <th>NumMatInCluster</th>\n",
       "      <th>Avg_NumTimesBought</th>\n",
       "      <th>Sum_NumTimesBought</th>\n",
       "      <th>Avg_SumGrossValue</th>\n",
       "      <th>Sum_SumGrossValue</th>\n",
       "      <th>Avg_AvgPerUnitCost</th>\n",
       "    </tr>\n",
       "  </thead>\n",
       "  <tbody>\n",
       "    <tr>\n",
       "      <th>0</th>\n",
       "      <td>0</td>\n",
       "      <td>23</td>\n",
       "      <td>148.74</td>\n",
       "      <td>3421</td>\n",
       "      <td>493873293.94</td>\n",
       "      <td>11359085760.71</td>\n",
       "      <td>6372.29</td>\n",
       "    </tr>\n",
       "    <tr>\n",
       "      <th>1</th>\n",
       "      <td>1</td>\n",
       "      <td>7</td>\n",
       "      <td>3098.86</td>\n",
       "      <td>21692</td>\n",
       "      <td>726667416.12</td>\n",
       "      <td>5086671912.86</td>\n",
       "      <td>15798.82</td>\n",
       "    </tr>\n",
       "    <tr>\n",
       "      <th>2</th>\n",
       "      <td>2</td>\n",
       "      <td>6216</td>\n",
       "      <td>3.23</td>\n",
       "      <td>20077</td>\n",
       "      <td>475228.28</td>\n",
       "      <td>2954018967.29</td>\n",
       "      <td>7712.20</td>\n",
       "    </tr>\n",
       "    <tr>\n",
       "      <th>3</th>\n",
       "      <td>3</td>\n",
       "      <td>2</td>\n",
       "      <td>7414.50</td>\n",
       "      <td>14829</td>\n",
       "      <td>2158315090.94</td>\n",
       "      <td>4316630181.88</td>\n",
       "      <td>29.67</td>\n",
       "    </tr>\n",
       "  </tbody>\n",
       "</table>\n",
       "</div>"
      ],
      "text/plain": [
       "   Cluster_agg  NumMatInCluster  Avg_NumTimesBought  Sum_NumTimesBought  \\\n",
       "0            0               23              148.74                3421   \n",
       "1            1                7             3098.86               21692   \n",
       "2            2             6216                3.23               20077   \n",
       "3            3                2             7414.50               14829   \n",
       "\n",
       "   Avg_SumGrossValue  Sum_SumGrossValue  Avg_AvgPerUnitCost  \n",
       "0       493873293.94     11359085760.71             6372.29  \n",
       "1       726667416.12      5086671912.86            15798.82  \n",
       "2          475228.28      2954018967.29             7712.20  \n",
       "3      2158315090.94      4316630181.88               29.67  "
      ]
     },
     "execution_count": 94,
     "metadata": {},
     "output_type": "execute_result"
    }
   ],
   "source": [
    "# Summarise by the agglomirative_clusters\n",
    "df_algo_sum = df_sum.groupby('Cluster_agg',as_index=False).agg(\n",
    "    NumMatInCluster=('NumTimesBought','count'),\n",
    "    Avg_NumTimesBought=('NumTimesBought','mean'),\n",
    "    Sum_NumTimesBought=('NumTimesBought','sum'),\n",
    "    Avg_SumGrossValue=('SumGrossValue','mean'),\n",
    "    Sum_SumGrossValue=('SumGrossValue','sum'),\n",
    "    Avg_AvgPerUnitCost = ('AvgPerUnitCost','mean'),\n",
    ")\n",
    "df_algo_sum"
   ]
  },
  {
   "cell_type": "code",
   "execution_count": 95,
   "metadata": {},
   "outputs": [
    {
     "data": {
      "image/png": "[encoded data removed]",
      "text/plain": [
       "<Figure size 864x432 with 1 Axes>"
      ]
     },
     "metadata": {
      "needs_background": "light"
     },
     "output_type": "display_data"
    }
   ],
   "source": [
    "# Alggo cluster\n",
    "plt.figure(figsize = (12, 6))\n",
    "sns.scatterplot(data=df_sum, x=\"NumTimesBought\", y=\"SumGrossValue\", hue=\"Cluster_agg\",palette=\"bright\",s=500);"
   ]
  },
  {
   "cell_type": "code",
   "execution_count": 96,
   "metadata": {},
   "outputs": [
    {
     "data": {
      "image/png": "[encoded data removed]",
      "text/plain": [
       "<Figure size 872x216 with 4 Axes>"
      ]
     },
     "metadata": {
      "needs_background": "light"
     },
     "output_type": "display_data"
    }
   ],
   "source": [
    "g = sns.FacetGrid(df_sum, col='Cluster_agg')\n",
    "g.map(sns.scatterplot, \"NumTimesBought\", \"SumGrossValue\", s=100, alpha=.8,color='green',x_jitter=.1)\n",
    "g.add_legend();"
   ]
  },
  {
   "cell_type": "code",
   "execution_count": 97,
   "metadata": {},
   "outputs": [],
   "source": [
    "# On SImilar lines are the Kmeans one"
   ]
  },
  {
   "cell_type": "code",
   "execution_count": 98,
   "metadata": {},
   "outputs": [
    {
     "data": {
      "text/html": [
       "<div>\n",
       "<style scoped>\n",
       "    .dataframe tbody tr th:only-of-type {\n",
       "        vertical-align: middle;\n",
       "    }\n",
       "\n",
       "    .dataframe tbody tr th {\n",
       "        vertical-align: top;\n",
       "    }\n",
       "\n",
       "    .dataframe thead th {\n",
       "        text-align: right;\n",
       "    }\n",
       "</style>\n",
       "<table border=\"1\" class=\"dataframe\">\n",
       "  <thead>\n",
       "    <tr style=\"text-align: right;\">\n",
       "      <th></th>\n",
       "      <th>Short Text</th>\n",
       "      <th>NumTimesBought</th>\n",
       "      <th>SumGrossValue</th>\n",
       "      <th>AvgPerUnitCost</th>\n",
       "      <th>Cluster_km</th>\n",
       "      <th>Cluster_agg</th>\n",
       "    </tr>\n",
       "  </thead>\n",
       "  <tbody>\n",
       "    <tr>\n",
       "      <th>0</th>\n",
       "      <td>\"1/4 Ratchet 7-13mm Nuts</td>\n",
       "      <td>1</td>\n",
       "      <td>10250.00</td>\n",
       "      <td>1271.00</td>\n",
       "      <td>0</td>\n",
       "      <td>2</td>\n",
       "    </tr>\n",
       "    <tr>\n",
       "      <th>1</th>\n",
       "      <td>\"IND. Air Heating Ele. 2000 w ,240 V\"</td>\n",
       "      <td>1</td>\n",
       "      <td>9880.00</td>\n",
       "      <td>2470.00</td>\n",
       "      <td>0</td>\n",
       "      <td>2</td>\n",
       "    </tr>\n",
       "    <tr>\n",
       "      <th>2</th>\n",
       "      <td>'biquiti - AirGrid M5 Hi-Power 27dbi</td>\n",
       "      <td>1</td>\n",
       "      <td>14400.00</td>\n",
       "      <td>7200.00</td>\n",
       "      <td>0</td>\n",
       "      <td>2</td>\n",
       "    </tr>\n",
       "    <tr>\n",
       "      <th>3</th>\n",
       "      <td>0028330 Frt.Bonnet Hings Kabja LH Bolero</td>\n",
       "      <td>1</td>\n",
       "      <td>719.00</td>\n",
       "      <td>481.73</td>\n",
       "      <td>0</td>\n",
       "      <td>2</td>\n",
       "    </tr>\n",
       "    <tr>\n",
       "      <th>4</th>\n",
       "      <td>0028334 Frt.Bonnet Hings Kabja RH Bolero</td>\n",
       "      <td>1</td>\n",
       "      <td>3440.00</td>\n",
       "      <td>2304.80</td>\n",
       "      <td>0</td>\n",
       "      <td>2</td>\n",
       "    </tr>\n",
       "  </tbody>\n",
       "</table>\n",
       "</div>"
      ],
      "text/plain": [
       "                                 Short Text  NumTimesBought  SumGrossValue  \\\n",
       "0                  \"1/4 Ratchet 7-13mm Nuts               1       10250.00   \n",
       "1     \"IND. Air Heating Ele. 2000 w ,240 V\"               1        9880.00   \n",
       "2      'biquiti - AirGrid M5 Hi-Power 27dbi               1       14400.00   \n",
       "3  0028330 Frt.Bonnet Hings Kabja LH Bolero               1         719.00   \n",
       "4  0028334 Frt.Bonnet Hings Kabja RH Bolero               1        3440.00   \n",
       "\n",
       "   AvgPerUnitCost  Cluster_km  Cluster_agg  \n",
       "0         1271.00           0            2  \n",
       "1         2470.00           0            2  \n",
       "2         7200.00           0            2  \n",
       "3          481.73           0            2  \n",
       "4         2304.80           0            2  "
      ]
     },
     "execution_count": 98,
     "metadata": {},
     "output_type": "execute_result"
    }
   ],
   "source": [
    "df_sum.head()"
   ]
  },
  {
   "cell_type": "markdown",
   "metadata": {},
   "source": [
    "# Cluster ony Top 24 Material consitituting 80% of Gross Value"
   ]
  },
  {
   "cell_type": "code",
   "execution_count": 99,
   "metadata": {},
   "outputs": [],
   "source": [
    "top_24_mat = ['IB Ross Broiler Finisher Feed', 'IB Ross Broiler Starter Feed',\n",
    "       'Soya Bean - (MP)', 'B4 IB Ross Feed', 'Soya Bean - (A)', 'Maize',\n",
    "       'IB Ross Broiler Pre-Starter Feed', 'PL-3', 'B1 IB Ross Feed',\n",
    "       'PL-4', 'Feed P1', 'PL-5', 'B3 IB Ross Feed', 'B2 IB Ross Feed',\n",
    "       'GP-5 Feed', 'Soya Bean', 'Grand Parents Layer', 'Feed PS',\n",
    "       'Khandha', 'Grand Parents Grower', 'GP-4 Feed', 'C2',\n",
    "       'Soya Crude Oil - Purchase', 'Grand Parents Starter']"
   ]
  },
  {
   "cell_type": "code",
   "execution_count": 100,
   "metadata": {},
   "outputs": [
    {
     "data": {
      "text/plain": [
       "(31929, 43)"
      ]
     },
     "execution_count": 100,
     "metadata": {},
     "output_type": "execute_result"
    }
   ],
   "source": [
    "df_cluster2 = df_cluster[df_cluster['Short Text'].isin(top_24_mat)]\n",
    "df_cluster2.shape"
   ]
  },
  {
   "cell_type": "code",
   "execution_count": 101,
   "metadata": {},
   "outputs": [
    {
     "data": {
      "text/plain": [
       "(24, 4)"
      ]
     },
     "execution_count": 101,
     "metadata": {},
     "output_type": "execute_result"
    }
   ],
   "source": [
    "df_sum_24 = df_cluster2.groupby('Short Text',as_index=False).agg(\n",
    "    # Get count/frequency, can be any column\n",
    "    NumTimesBought=('Purch.Doc.','count'),\n",
    "    # Get total Gross Val \n",
    "    SumGrossValue=('Gross value','sum'),\n",
    "    # Per unit price\n",
    "    AvgPerUnitCost = ('Net Price','mean')\n",
    "    \n",
    "    )\n",
    "\n",
    "df_sum_24.shape"
   ]
  },
  {
   "cell_type": "code",
   "execution_count": 102,
   "metadata": {},
   "outputs": [
    {
     "data": {
      "text/html": [
       "<div>\n",
       "<style scoped>\n",
       "    .dataframe tbody tr th:only-of-type {\n",
       "        vertical-align: middle;\n",
       "    }\n",
       "\n",
       "    .dataframe tbody tr th {\n",
       "        vertical-align: top;\n",
       "    }\n",
       "\n",
       "    .dataframe thead th {\n",
       "        text-align: right;\n",
       "    }\n",
       "</style>\n",
       "<table border=\"1\" class=\"dataframe\">\n",
       "  <thead>\n",
       "    <tr style=\"text-align: right;\">\n",
       "      <th></th>\n",
       "      <th>NumTimesBought</th>\n",
       "      <th>SumGrossValue</th>\n",
       "    </tr>\n",
       "  </thead>\n",
       "  <tbody>\n",
       "    <tr>\n",
       "      <th>0</th>\n",
       "      <td>-0.56</td>\n",
       "      <td>0.04</td>\n",
       "    </tr>\n",
       "    <tr>\n",
       "      <th>1</th>\n",
       "      <td>-0.57</td>\n",
       "      <td>-0.34</td>\n",
       "    </tr>\n",
       "    <tr>\n",
       "      <th>2</th>\n",
       "      <td>-0.57</td>\n",
       "      <td>-0.33</td>\n",
       "    </tr>\n",
       "    <tr>\n",
       "      <th>3</th>\n",
       "      <td>-0.57</td>\n",
       "      <td>0.52</td>\n",
       "    </tr>\n",
       "    <tr>\n",
       "      <th>4</th>\n",
       "      <td>-0.58</td>\n",
       "      <td>-0.88</td>\n",
       "    </tr>\n",
       "    <tr>\n",
       "      <th>5</th>\n",
       "      <td>-0.57</td>\n",
       "      <td>-0.02</td>\n",
       "    </tr>\n",
       "    <tr>\n",
       "      <th>6</th>\n",
       "      <td>-0.58</td>\n",
       "      <td>-0.64</td>\n",
       "    </tr>\n",
       "    <tr>\n",
       "      <th>7</th>\n",
       "      <td>-0.58</td>\n",
       "      <td>-0.78</td>\n",
       "    </tr>\n",
       "    <tr>\n",
       "      <th>8</th>\n",
       "      <td>-0.58</td>\n",
       "      <td>-0.52</td>\n",
       "    </tr>\n",
       "    <tr>\n",
       "      <th>9</th>\n",
       "      <td>-0.57</td>\n",
       "      <td>-0.77</td>\n",
       "    </tr>\n",
       "    <tr>\n",
       "      <th>10</th>\n",
       "      <td>-0.58</td>\n",
       "      <td>-0.55</td>\n",
       "    </tr>\n",
       "    <tr>\n",
       "      <th>11</th>\n",
       "      <td>-0.58</td>\n",
       "      <td>-1.00</td>\n",
       "    </tr>\n",
       "    <tr>\n",
       "      <th>12</th>\n",
       "      <td>2.89</td>\n",
       "      <td>3.46</td>\n",
       "    </tr>\n",
       "    <tr>\n",
       "      <th>13</th>\n",
       "      <td>1.75</td>\n",
       "      <td>0.17</td>\n",
       "    </tr>\n",
       "    <tr>\n",
       "      <th>14</th>\n",
       "      <td>2.50</td>\n",
       "      <td>2.12</td>\n",
       "    </tr>\n",
       "    <tr>\n",
       "      <th>15</th>\n",
       "      <td>-0.00</td>\n",
       "      <td>-0.66</td>\n",
       "    </tr>\n",
       "    <tr>\n",
       "      <th>16</th>\n",
       "      <td>0.44</td>\n",
       "      <td>0.27</td>\n",
       "    </tr>\n",
       "    <tr>\n",
       "      <th>17</th>\n",
       "      <td>-0.57</td>\n",
       "      <td>0.08</td>\n",
       "    </tr>\n",
       "    <tr>\n",
       "      <th>18</th>\n",
       "      <td>-0.57</td>\n",
       "      <td>0.04</td>\n",
       "    </tr>\n",
       "    <tr>\n",
       "      <th>19</th>\n",
       "      <td>-0.57</td>\n",
       "      <td>-0.27</td>\n",
       "    </tr>\n",
       "    <tr>\n",
       "      <th>20</th>\n",
       "      <td>0.59</td>\n",
       "      <td>-0.53</td>\n",
       "    </tr>\n",
       "    <tr>\n",
       "      <th>21</th>\n",
       "      <td>0.35</td>\n",
       "      <td>0.50</td>\n",
       "    </tr>\n",
       "    <tr>\n",
       "      <th>22</th>\n",
       "      <td>0.64</td>\n",
       "      <td>1.02</td>\n",
       "    </tr>\n",
       "    <tr>\n",
       "      <th>23</th>\n",
       "      <td>-0.56</td>\n",
       "      <td>-0.93</td>\n",
       "    </tr>\n",
       "  </tbody>\n",
       "</table>\n",
       "</div>"
      ],
      "text/plain": [
       "    NumTimesBought  SumGrossValue\n",
       "0            -0.56           0.04\n",
       "1            -0.57          -0.34\n",
       "2            -0.57          -0.33\n",
       "3            -0.57           0.52\n",
       "4            -0.58          -0.88\n",
       "5            -0.57          -0.02\n",
       "6            -0.58          -0.64\n",
       "7            -0.58          -0.78\n",
       "8            -0.58          -0.52\n",
       "9            -0.57          -0.77\n",
       "10           -0.58          -0.55\n",
       "11           -0.58          -1.00\n",
       "12            2.89           3.46\n",
       "13            1.75           0.17\n",
       "14            2.50           2.12\n",
       "15           -0.00          -0.66\n",
       "16            0.44           0.27\n",
       "17           -0.57           0.08\n",
       "18           -0.57           0.04\n",
       "19           -0.57          -0.27\n",
       "20            0.59          -0.53\n",
       "21            0.35           0.50\n",
       "22            0.64           1.02\n",
       "23           -0.56          -0.93"
      ]
     },
     "execution_count": 102,
     "metadata": {},
     "output_type": "execute_result"
    }
   ],
   "source": [
    "df_t = df_sum_24.drop(['Short Text','AvgPerUnitCost'], axis='columns')\n",
    "# Scale \n",
    "scaler = preprocessing.StandardScaler()\n",
    "df_scaled = scaler.fit_transform(df_t) # its an array \n",
    "df_scaled = pd.DataFrame(df_scaled, columns = df_t.columns) # convert back to data frame\n",
    "df_scaled"
   ]
  },
  {
   "cell_type": "code",
   "execution_count": 103,
   "metadata": {},
   "outputs": [],
   "source": [
    "SSE = []\n",
    "for cluster in range(1,20):\n",
    "    kmeans = KMeans(n_clusters = cluster)\n",
    "    kmeans.fit(df_scaled)\n",
    "    SSE.append(kmeans.inertia_)"
   ]
  },
  {
   "cell_type": "code",
   "execution_count": 104,
   "metadata": {},
   "outputs": [],
   "source": [
    "df_t = pd.DataFrame({'Cluster':range(1,20), 'SSE':SSE})"
   ]
  },
  {
   "cell_type": "code",
   "execution_count": 105,
   "metadata": {},
   "outputs": [
    {
     "data": {
      "text/plain": [
       "Text(0, 0.5, 'Inertia')"
      ]
     },
     "execution_count": 105,
     "metadata": {},
     "output_type": "execute_result"
    },
    {
     "data": {
      "image/png": "[encoded data removed]",
      "text/plain": [
       "<Figure size 864x432 with 1 Axes>"
      ]
     },
     "metadata": {
      "needs_background": "light"
     },
     "output_type": "display_data"
    }
   ],
   "source": [
    "plt.figure(figsize=(12,6))\n",
    "plt.plot(df_t['Cluster'], df_t['SSE'], marker='o')\n",
    "plt.xlabel('Number of clusters')\n",
    "plt.ylabel('Inertia')"
   ]
  },
  {
   "cell_type": "code",
   "execution_count": 106,
   "metadata": {},
   "outputs": [],
   "source": [
    "# Get 4 clusters "
   ]
  },
  {
   "cell_type": "code",
   "execution_count": 107,
   "metadata": {},
   "outputs": [
    {
     "data": {
      "text/html": [
       "<div>\n",
       "<style scoped>\n",
       "    .dataframe tbody tr th:only-of-type {\n",
       "        vertical-align: middle;\n",
       "    }\n",
       "\n",
       "    .dataframe tbody tr th {\n",
       "        vertical-align: top;\n",
       "    }\n",
       "\n",
       "    .dataframe thead th {\n",
       "        text-align: right;\n",
       "    }\n",
       "</style>\n",
       "<table border=\"1\" class=\"dataframe\">\n",
       "  <thead>\n",
       "    <tr style=\"text-align: right;\">\n",
       "      <th></th>\n",
       "      <th>NumTimesBought</th>\n",
       "      <th>SumGrossValue</th>\n",
       "    </tr>\n",
       "  </thead>\n",
       "  <tbody>\n",
       "    <tr>\n",
       "      <th>0</th>\n",
       "      <td>-0.56</td>\n",
       "      <td>0.04</td>\n",
       "    </tr>\n",
       "    <tr>\n",
       "      <th>1</th>\n",
       "      <td>-0.57</td>\n",
       "      <td>-0.34</td>\n",
       "    </tr>\n",
       "    <tr>\n",
       "      <th>2</th>\n",
       "      <td>-0.57</td>\n",
       "      <td>-0.33</td>\n",
       "    </tr>\n",
       "    <tr>\n",
       "      <th>3</th>\n",
       "      <td>-0.57</td>\n",
       "      <td>0.52</td>\n",
       "    </tr>\n",
       "    <tr>\n",
       "      <th>4</th>\n",
       "      <td>-0.58</td>\n",
       "      <td>-0.88</td>\n",
       "    </tr>\n",
       "  </tbody>\n",
       "</table>\n",
       "</div>"
      ],
      "text/plain": [
       "   NumTimesBought  SumGrossValue\n",
       "0           -0.56           0.04\n",
       "1           -0.57          -0.34\n",
       "2           -0.57          -0.33\n",
       "3           -0.57           0.52\n",
       "4           -0.58          -0.88"
      ]
     },
     "execution_count": 107,
     "metadata": {},
     "output_type": "execute_result"
    }
   ],
   "source": [
    "df_scaled.head()"
   ]
  },
  {
   "cell_type": "code",
   "execution_count": 108,
   "metadata": {},
   "outputs": [
    {
     "data": {
      "text/plain": [
       "KMeans(n_clusters=4)"
      ]
     },
     "execution_count": 108,
     "metadata": {},
     "output_type": "execute_result"
    }
   ],
   "source": [
    "km24 = KMeans(n_clusters = 4)\n",
    "km24.fit(df_scaled)"
   ]
  },
  {
   "cell_type": "code",
   "execution_count": 109,
   "metadata": {},
   "outputs": [
    {
     "data": {
      "text/plain": [
       "4.620072583628052"
      ]
     },
     "execution_count": 109,
     "metadata": {},
     "output_type": "execute_result"
    }
   ],
   "source": [
    "km24.inertia_"
   ]
  },
  {
   "cell_type": "code",
   "execution_count": 110,
   "metadata": {},
   "outputs": [],
   "source": [
    "# Add the clusters Labels to the data frame\n",
    "df_sum_24['Cluster24_km'] = km24.labels_"
   ]
  },
  {
   "cell_type": "code",
   "execution_count": 111,
   "metadata": {},
   "outputs": [
    {
     "data": {
      "text/plain": [
       "2    9\n",
       "1    8\n",
       "3    5\n",
       "0    2\n",
       "Name: Cluster24_km, dtype: int64"
      ]
     },
     "execution_count": 111,
     "metadata": {},
     "output_type": "execute_result"
    }
   ],
   "source": [
    "df_sum_24['Cluster24_km'].value_counts()"
   ]
  },
  {
   "cell_type": "code",
   "execution_count": 112,
   "metadata": {},
   "outputs": [
    {
     "data": {
      "image/png": "[encoded data removed]",
      "text/plain": [
       "<Figure size 864x432 with 1 Axes>"
      ]
     },
     "metadata": {
      "needs_background": "light"
     },
     "output_type": "display_data"
    }
   ],
   "source": [
    "plt.figure(figsize = (12, 6))\n",
    "sns.scatterplot(data=df_sum_24, x=\"NumTimesBought\", y=\"SumGrossValue\", hue=\"Cluster24_km\",palette=\"bright\",s=500);"
   ]
  },
  {
   "cell_type": "code",
   "execution_count": 113,
   "metadata": {},
   "outputs": [
    {
     "data": {
      "image/png": "[encoded data removed]",
      "text/plain": [
       "<Figure size 872x216 with 4 Axes>"
      ]
     },
     "metadata": {
      "needs_background": "light"
     },
     "output_type": "display_data"
    }
   ],
   "source": [
    "g = sns.FacetGrid(df_sum_24, col='Cluster24_km')\n",
    "g.map(sns.scatterplot, \"NumTimesBought\", \"SumGrossValue\", s=100, alpha=.8,color='red',x_jitter=.1)\n",
    "g.add_legend();"
   ]
  },
  {
   "cell_type": "code",
   "execution_count": 114,
   "metadata": {},
   "outputs": [
    {
     "data": {
      "text/html": [
       "<div>\n",
       "<style scoped>\n",
       "    .dataframe tbody tr th:only-of-type {\n",
       "        vertical-align: middle;\n",
       "    }\n",
       "\n",
       "    .dataframe tbody tr th {\n",
       "        vertical-align: top;\n",
       "    }\n",
       "\n",
       "    .dataframe thead th {\n",
       "        text-align: right;\n",
       "    }\n",
       "</style>\n",
       "<table border=\"1\" class=\"dataframe\">\n",
       "  <thead>\n",
       "    <tr style=\"text-align: right;\">\n",
       "      <th></th>\n",
       "      <th>Short Text</th>\n",
       "      <th>NumTimesBought</th>\n",
       "      <th>SumGrossValue</th>\n",
       "      <th>AvgPerUnitCost</th>\n",
       "      <th>Cluster24_km</th>\n",
       "    </tr>\n",
       "  </thead>\n",
       "  <tbody>\n",
       "    <tr>\n",
       "      <th>12</th>\n",
       "      <td>IB Ross Broiler Finisher Feed</td>\n",
       "      <td>7864</td>\n",
       "      <td>2484004973.38</td>\n",
       "      <td>29.04</td>\n",
       "      <td>0</td>\n",
       "    </tr>\n",
       "    <tr>\n",
       "      <th>14</th>\n",
       "      <td>IB Ross Broiler Starter Feed</td>\n",
       "      <td>6965</td>\n",
       "      <td>1832625208.50</td>\n",
       "      <td>30.29</td>\n",
       "      <td>0</td>\n",
       "    </tr>\n",
       "  </tbody>\n",
       "</table>\n",
       "</div>"
      ],
      "text/plain": [
       "                       Short Text  NumTimesBought  SumGrossValue  \\\n",
       "12  IB Ross Broiler Finisher Feed            7864  2484004973.38   \n",
       "14   IB Ross Broiler Starter Feed            6965  1832625208.50   \n",
       "\n",
       "    AvgPerUnitCost  Cluster24_km  \n",
       "12           29.04             0  \n",
       "14           30.29             0  "
      ]
     },
     "execution_count": 114,
     "metadata": {},
     "output_type": "execute_result"
    }
   ],
   "source": [
    "df_sum_24[df_sum_24['Cluster24_km'] == 0]"
   ]
  },
  {
   "cell_type": "code",
   "execution_count": 115,
   "metadata": {},
   "outputs": [
    {
     "data": {
      "text/html": [
       "<div>\n",
       "<style scoped>\n",
       "    .dataframe tbody tr th:only-of-type {\n",
       "        vertical-align: middle;\n",
       "    }\n",
       "\n",
       "    .dataframe tbody tr th {\n",
       "        vertical-align: top;\n",
       "    }\n",
       "\n",
       "    .dataframe thead th {\n",
       "        text-align: right;\n",
       "    }\n",
       "</style>\n",
       "<table border=\"1\" class=\"dataframe\">\n",
       "  <thead>\n",
       "    <tr style=\"text-align: right;\">\n",
       "      <th></th>\n",
       "      <th>Short Text</th>\n",
       "      <th>NumTimesBought</th>\n",
       "      <th>SumGrossValue</th>\n",
       "      <th>AvgPerUnitCost</th>\n",
       "      <th>Cluster24_km</th>\n",
       "    </tr>\n",
       "  </thead>\n",
       "  <tbody>\n",
       "    <tr>\n",
       "      <th>0</th>\n",
       "      <td>B1 IB Ross Feed</td>\n",
       "      <td>57</td>\n",
       "      <td>820581512.40</td>\n",
       "      <td>29.14</td>\n",
       "      <td>1</td>\n",
       "    </tr>\n",
       "    <tr>\n",
       "      <th>1</th>\n",
       "      <td>B2 IB Ross Feed</td>\n",
       "      <td>44</td>\n",
       "      <td>631991204.70</td>\n",
       "      <td>27.61</td>\n",
       "      <td>1</td>\n",
       "    </tr>\n",
       "    <tr>\n",
       "      <th>2</th>\n",
       "      <td>B3 IB Ross Feed</td>\n",
       "      <td>39</td>\n",
       "      <td>636587726.50</td>\n",
       "      <td>26.24</td>\n",
       "      <td>1</td>\n",
       "    </tr>\n",
       "    <tr>\n",
       "      <th>3</th>\n",
       "      <td>B4 IB Ross Feed</td>\n",
       "      <td>34</td>\n",
       "      <td>1054080000.00</td>\n",
       "      <td>27.03</td>\n",
       "      <td>1</td>\n",
       "    </tr>\n",
       "    <tr>\n",
       "      <th>5</th>\n",
       "      <td>Feed P1</td>\n",
       "      <td>54</td>\n",
       "      <td>788459684.20</td>\n",
       "      <td>23.19</td>\n",
       "      <td>1</td>\n",
       "    </tr>\n",
       "    <tr>\n",
       "      <th>17</th>\n",
       "      <td>PL-3</td>\n",
       "      <td>50</td>\n",
       "      <td>836547216.05</td>\n",
       "      <td>24.87</td>\n",
       "      <td>1</td>\n",
       "    </tr>\n",
       "    <tr>\n",
       "      <th>18</th>\n",
       "      <td>PL-4</td>\n",
       "      <td>43</td>\n",
       "      <td>817984426.00</td>\n",
       "      <td>25.14</td>\n",
       "      <td>1</td>\n",
       "    </tr>\n",
       "    <tr>\n",
       "      <th>19</th>\n",
       "      <td>PL-5</td>\n",
       "      <td>43</td>\n",
       "      <td>665772945.15</td>\n",
       "      <td>24.73</td>\n",
       "      <td>1</td>\n",
       "    </tr>\n",
       "  </tbody>\n",
       "</table>\n",
       "</div>"
      ],
      "text/plain": [
       "         Short Text  NumTimesBought  SumGrossValue  AvgPerUnitCost  \\\n",
       "0   B1 IB Ross Feed              57   820581512.40           29.14   \n",
       "1   B2 IB Ross Feed              44   631991204.70           27.61   \n",
       "2   B3 IB Ross Feed              39   636587726.50           26.24   \n",
       "3   B4 IB Ross Feed              34  1054080000.00           27.03   \n",
       "5           Feed P1              54   788459684.20           23.19   \n",
       "17             PL-3              50   836547216.05           24.87   \n",
       "18             PL-4              43   817984426.00           25.14   \n",
       "19             PL-5              43   665772945.15           24.73   \n",
       "\n",
       "    Cluster24_km  \n",
       "0              1  \n",
       "1              1  \n",
       "2              1  \n",
       "3              1  \n",
       "5              1  \n",
       "17             1  \n",
       "18             1  \n",
       "19             1  "
      ]
     },
     "execution_count": 115,
     "metadata": {},
     "output_type": "execute_result"
    }
   ],
   "source": [
    "df_sum_24[df_sum_24['Cluster24_km'] == 1]"
   ]
  },
  {
   "cell_type": "code",
   "execution_count": 116,
   "metadata": {},
   "outputs": [
    {
     "data": {
      "text/html": [
       "<div>\n",
       "<style scoped>\n",
       "    .dataframe tbody tr th:only-of-type {\n",
       "        vertical-align: middle;\n",
       "    }\n",
       "\n",
       "    .dataframe tbody tr th {\n",
       "        vertical-align: top;\n",
       "    }\n",
       "\n",
       "    .dataframe thead th {\n",
       "        text-align: right;\n",
       "    }\n",
       "</style>\n",
       "<table border=\"1\" class=\"dataframe\">\n",
       "  <thead>\n",
       "    <tr style=\"text-align: right;\">\n",
       "      <th></th>\n",
       "      <th>Short Text</th>\n",
       "      <th>NumTimesBought</th>\n",
       "      <th>SumGrossValue</th>\n",
       "      <th>AvgPerUnitCost</th>\n",
       "      <th>Cluster24_km</th>\n",
       "    </tr>\n",
       "  </thead>\n",
       "  <tbody>\n",
       "    <tr>\n",
       "      <th>4</th>\n",
       "      <td>C2</td>\n",
       "      <td>18</td>\n",
       "      <td>369002000.00</td>\n",
       "      <td>24.19</td>\n",
       "      <td>2</td>\n",
       "    </tr>\n",
       "    <tr>\n",
       "      <th>6</th>\n",
       "      <td>Feed PS</td>\n",
       "      <td>23</td>\n",
       "      <td>486108038.55</td>\n",
       "      <td>27.41</td>\n",
       "      <td>2</td>\n",
       "    </tr>\n",
       "    <tr>\n",
       "      <th>7</th>\n",
       "      <td>GP-4 Feed</td>\n",
       "      <td>20</td>\n",
       "      <td>419359019.25</td>\n",
       "      <td>26.04</td>\n",
       "      <td>2</td>\n",
       "    </tr>\n",
       "    <tr>\n",
       "      <th>8</th>\n",
       "      <td>GP-5 Feed</td>\n",
       "      <td>30</td>\n",
       "      <td>548267645.75</td>\n",
       "      <td>25.90</td>\n",
       "      <td>2</td>\n",
       "    </tr>\n",
       "    <tr>\n",
       "      <th>9</th>\n",
       "      <td>Grand Parents Grower</td>\n",
       "      <td>37</td>\n",
       "      <td>423651274.20</td>\n",
       "      <td>23.99</td>\n",
       "      <td>2</td>\n",
       "    </tr>\n",
       "    <tr>\n",
       "      <th>10</th>\n",
       "      <td>Grand Parents Layer</td>\n",
       "      <td>30</td>\n",
       "      <td>531899454.55</td>\n",
       "      <td>25.63</td>\n",
       "      <td>2</td>\n",
       "    </tr>\n",
       "    <tr>\n",
       "      <th>11</th>\n",
       "      <td>Grand Parents Starter</td>\n",
       "      <td>15</td>\n",
       "      <td>313953033.95</td>\n",
       "      <td>28.68</td>\n",
       "      <td>2</td>\n",
       "    </tr>\n",
       "    <tr>\n",
       "      <th>15</th>\n",
       "      <td>Khandha</td>\n",
       "      <td>1326</td>\n",
       "      <td>477715289.41</td>\n",
       "      <td>17.12</td>\n",
       "      <td>2</td>\n",
       "    </tr>\n",
       "    <tr>\n",
       "      <th>23</th>\n",
       "      <td>Soya Crude Oil - Purchase</td>\n",
       "      <td>57</td>\n",
       "      <td>347114889.25</td>\n",
       "      <td>70428.07</td>\n",
       "      <td>2</td>\n",
       "    </tr>\n",
       "  </tbody>\n",
       "</table>\n",
       "</div>"
      ],
      "text/plain": [
       "                   Short Text  NumTimesBought  SumGrossValue  AvgPerUnitCost  \\\n",
       "4                          C2              18   369002000.00           24.19   \n",
       "6                     Feed PS              23   486108038.55           27.41   \n",
       "7                   GP-4 Feed              20   419359019.25           26.04   \n",
       "8                   GP-5 Feed              30   548267645.75           25.90   \n",
       "9        Grand Parents Grower              37   423651274.20           23.99   \n",
       "10        Grand Parents Layer              30   531899454.55           25.63   \n",
       "11      Grand Parents Starter              15   313953033.95           28.68   \n",
       "15                    Khandha            1326   477715289.41           17.12   \n",
       "23  Soya Crude Oil - Purchase              57   347114889.25        70428.07   \n",
       "\n",
       "    Cluster24_km  \n",
       "4              2  \n",
       "6              2  \n",
       "7              2  \n",
       "8              2  \n",
       "9              2  \n",
       "10             2  \n",
       "11             2  \n",
       "15             2  \n",
       "23             2  "
      ]
     },
     "execution_count": 116,
     "metadata": {},
     "output_type": "execute_result"
    }
   ],
   "source": [
    "df_sum_24[df_sum_24['Cluster24_km'] == 2]"
   ]
  },
  {
   "cell_type": "code",
   "execution_count": 117,
   "metadata": {},
   "outputs": [
    {
     "data": {
      "text/html": [
       "<div>\n",
       "<style scoped>\n",
       "    .dataframe tbody tr th:only-of-type {\n",
       "        vertical-align: middle;\n",
       "    }\n",
       "\n",
       "    .dataframe tbody tr th {\n",
       "        vertical-align: top;\n",
       "    }\n",
       "\n",
       "    .dataframe thead th {\n",
       "        text-align: right;\n",
       "    }\n",
       "</style>\n",
       "<table border=\"1\" class=\"dataframe\">\n",
       "  <thead>\n",
       "    <tr style=\"text-align: right;\">\n",
       "      <th></th>\n",
       "      <th>Short Text</th>\n",
       "      <th>NumTimesBought</th>\n",
       "      <th>SumGrossValue</th>\n",
       "      <th>AvgPerUnitCost</th>\n",
       "      <th>Cluster24_km</th>\n",
       "    </tr>\n",
       "  </thead>\n",
       "  <tbody>\n",
       "    <tr>\n",
       "      <th>13</th>\n",
       "      <td>IB Ross Broiler Pre-Starter Feed</td>\n",
       "      <td>5280</td>\n",
       "      <td>881006742.00</td>\n",
       "      <td>31.71</td>\n",
       "      <td>3</td>\n",
       "    </tr>\n",
       "    <tr>\n",
       "      <th>16</th>\n",
       "      <td>Maize</td>\n",
       "      <td>2328</td>\n",
       "      <td>929928411.41</td>\n",
       "      <td>17.80</td>\n",
       "      <td>3</td>\n",
       "    </tr>\n",
       "    <tr>\n",
       "      <th>20</th>\n",
       "      <td>Soya Bean</td>\n",
       "      <td>2672</td>\n",
       "      <td>542905344.06</td>\n",
       "      <td>35946.06</td>\n",
       "      <td>3</td>\n",
       "    </tr>\n",
       "    <tr>\n",
       "      <th>21</th>\n",
       "      <td>Soya Bean - (A)</td>\n",
       "      <td>2130</td>\n",
       "      <td>1041177465.28</td>\n",
       "      <td>37573.95</td>\n",
       "      <td>3</td>\n",
       "    </tr>\n",
       "    <tr>\n",
       "      <th>22</th>\n",
       "      <td>Soya Bean - (MP)</td>\n",
       "      <td>2770</td>\n",
       "      <td>1296246620.39</td>\n",
       "      <td>36982.17</td>\n",
       "      <td>3</td>\n",
       "    </tr>\n",
       "  </tbody>\n",
       "</table>\n",
       "</div>"
      ],
      "text/plain": [
       "                          Short Text  NumTimesBought  SumGrossValue  \\\n",
       "13  IB Ross Broiler Pre-Starter Feed            5280   881006742.00   \n",
       "16                             Maize            2328   929928411.41   \n",
       "20                         Soya Bean            2672   542905344.06   \n",
       "21                   Soya Bean - (A)            2130  1041177465.28   \n",
       "22                  Soya Bean - (MP)            2770  1296246620.39   \n",
       "\n",
       "    AvgPerUnitCost  Cluster24_km  \n",
       "13           31.71             3  \n",
       "16           17.80             3  \n",
       "20        35946.06             3  \n",
       "21        37573.95             3  \n",
       "22        36982.17             3  "
      ]
     },
     "execution_count": 117,
     "metadata": {},
     "output_type": "execute_result"
    }
   ],
   "source": [
    "df_sum_24[df_sum_24['Cluster24_km'] == 3]"
   ]
  },
  {
   "cell_type": "code",
   "execution_count": 118,
   "metadata": {},
   "outputs": [
    {
     "data": {
      "text/html": [
       "<div>\n",
       "<style scoped>\n",
       "    .dataframe tbody tr th:only-of-type {\n",
       "        vertical-align: middle;\n",
       "    }\n",
       "\n",
       "    .dataframe tbody tr th {\n",
       "        vertical-align: top;\n",
       "    }\n",
       "\n",
       "    .dataframe thead th {\n",
       "        text-align: right;\n",
       "    }\n",
       "</style>\n",
       "<table border=\"1\" class=\"dataframe\">\n",
       "  <thead>\n",
       "    <tr style=\"text-align: right;\">\n",
       "      <th></th>\n",
       "      <th>Cluster24_km</th>\n",
       "      <th>NumMatInCluster</th>\n",
       "      <th>Avg_NumTimesBought</th>\n",
       "      <th>Sum_NumTimesBought</th>\n",
       "      <th>Avg_SumGrossValue</th>\n",
       "      <th>Sum_SumGrossValue</th>\n",
       "      <th>Avg_AvgPerUnitCost</th>\n",
       "    </tr>\n",
       "  </thead>\n",
       "  <tbody>\n",
       "    <tr>\n",
       "      <th>0</th>\n",
       "      <td>0</td>\n",
       "      <td>2</td>\n",
       "      <td>7414.50</td>\n",
       "      <td>14829</td>\n",
       "      <td>2158315090.94</td>\n",
       "      <td>4316630181.88</td>\n",
       "      <td>29.67</td>\n",
       "    </tr>\n",
       "    <tr>\n",
       "      <th>1</th>\n",
       "      <td>1</td>\n",
       "      <td>8</td>\n",
       "      <td>45.50</td>\n",
       "      <td>364</td>\n",
       "      <td>781500589.38</td>\n",
       "      <td>6252004715.00</td>\n",
       "      <td>25.99</td>\n",
       "    </tr>\n",
       "    <tr>\n",
       "      <th>2</th>\n",
       "      <td>2</td>\n",
       "      <td>9</td>\n",
       "      <td>172.89</td>\n",
       "      <td>1556</td>\n",
       "      <td>435230071.66</td>\n",
       "      <td>3917070644.91</td>\n",
       "      <td>7847.45</td>\n",
       "    </tr>\n",
       "    <tr>\n",
       "      <th>3</th>\n",
       "      <td>3</td>\n",
       "      <td>5</td>\n",
       "      <td>3036.00</td>\n",
       "      <td>15180</td>\n",
       "      <td>938252916.63</td>\n",
       "      <td>4691264583.14</td>\n",
       "      <td>22110.34</td>\n",
       "    </tr>\n",
       "  </tbody>\n",
       "</table>\n",
       "</div>"
      ],
      "text/plain": [
       "   Cluster24_km  NumMatInCluster  Avg_NumTimesBought  Sum_NumTimesBought  \\\n",
       "0             0                2             7414.50               14829   \n",
       "1             1                8               45.50                 364   \n",
       "2             2                9              172.89                1556   \n",
       "3             3                5             3036.00               15180   \n",
       "\n",
       "   Avg_SumGrossValue  Sum_SumGrossValue  Avg_AvgPerUnitCost  \n",
       "0      2158315090.94      4316630181.88               29.67  \n",
       "1       781500589.38      6252004715.00               25.99  \n",
       "2       435230071.66      3917070644.91             7847.45  \n",
       "3       938252916.63      4691264583.14            22110.34  "
      ]
     },
     "execution_count": 118,
     "metadata": {},
     "output_type": "execute_result"
    }
   ],
   "source": [
    "df_km24_sum = df_sum_24.groupby('Cluster24_km',as_index=False).agg(\n",
    "    NumMatInCluster=('NumTimesBought','count'),\n",
    "    Avg_NumTimesBought=('NumTimesBought','mean'),\n",
    "    Sum_NumTimesBought=('NumTimesBought','sum'),\n",
    "    Avg_SumGrossValue=('SumGrossValue','mean'),\n",
    "    Sum_SumGrossValue=('SumGrossValue','sum'),\n",
    "    Avg_AvgPerUnitCost = ('AvgPerUnitCost','mean'),\n",
    ")\n",
    "\n",
    "df_km24_sum"
   ]
  },
  {
   "cell_type": "markdown",
   "metadata": {},
   "source": [
    "# Add the cluster value in  the raw/cleaned file and write the files"
   ]
  },
  {
   "cell_type": "code",
   "execution_count": 119,
   "metadata": {},
   "outputs": [
    {
     "data": {
      "text/plain": [
       "(61870, 43)"
      ]
     },
     "execution_count": 119,
     "metadata": {},
     "output_type": "execute_result"
    }
   ],
   "source": [
    "df.shape"
   ]
  },
  {
   "cell_type": "code",
   "execution_count": 120,
   "metadata": {},
   "outputs": [
    {
     "data": {
      "text/plain": [
       "(61870, 47)"
      ]
     },
     "execution_count": 120,
     "metadata": {},
     "output_type": "execute_result"
    }
   ],
   "source": [
    "df_info2 = df.merge(df_sum_24, on='Short Text', how='left')\n",
    "df_info2.shape"
   ]
  },
  {
   "cell_type": "code",
   "execution_count": 121,
   "metadata": {},
   "outputs": [],
   "source": [
    "# Write the files \n",
    "df_info2.to_csv(\"preprocessing/SA_clean_withClusterResults_top24.csv\", index=False)"
   ]
  },
  {
   "cell_type": "code",
   "execution_count": null,
   "metadata": {},
   "outputs": [],
   "source": []
  }
 ],
 "metadata": {
  "kernelspec": {
   "display_name": "Python 3",
   "language": "python",
   "name": "python3"
  },
  "language_info": {
   "codemirror_mode": {
    "name": "ipython",
    "version": 3
   },
   "file_extension": ".py",
   "mimetype": "text/x-python",
   "name": "python",
   "nbconvert_exporter": "python",
   "pygments_lexer": "ipython3",
   "version": "3.8.2"
  }
 },
 "nbformat": 4,
 "nbformat_minor": 4
}
